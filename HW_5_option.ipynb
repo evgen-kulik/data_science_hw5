{
 "cells": [
  {
   "cell_type": "markdown",
   "id": "431a104a-a9a5-4840-b63e-755d1c07f59b",
   "metadata": {},
   "source": [
    "## Домашнє завдання №5 - доопрацьований варіант\n",
    "## Класифікування активності за даними акселерометра"
   ]
  },
  {
   "cell_type": "markdown",
   "id": "4b4f57cd-76dc-469d-8f3d-2da5a097c56f",
   "metadata": {},
   "source": [
    "#### 1. Отримання датасету"
   ]
  },
  {
   "cell_type": "code",
   "execution_count": 161,
   "id": "0b292f3f-be92-4a84-b7a2-ba65b122eea0",
   "metadata": {},
   "outputs": [],
   "source": [
    "mypath = '.\\data'"
   ]
  },
  {
   "cell_type": "code",
   "execution_count": 162,
   "id": "e17f507b-5f23-4ed0-b757-a923d0fa4ad4",
   "metadata": {},
   "outputs": [],
   "source": [
    "from os import listdir\n",
    "from os.path import isfile, join\n",
    "import numpy as np\n",
    "import pandas as pd"
   ]
  },
  {
   "cell_type": "code",
   "execution_count": 163,
   "id": "f4ba2bc4-49ae-47dc-a54a-db17b9a8b4f8",
   "metadata": {},
   "outputs": [
    {
     "data": {
      "text/plain": [
       "['idle', 'running', 'stairs', 'walking']"
      ]
     },
     "execution_count": 163,
     "metadata": {},
     "output_type": "execute_result"
    }
   ],
   "source": [
    "# отримаємо список підкаталогів в теці \"data\"\n",
    "activites = listdir(mypath)\n",
    "activites"
   ]
  },
  {
   "cell_type": "code",
   "execution_count": 164,
   "id": "5d749f84-0c28-4499-bebe-2472fb942f8b",
   "metadata": {},
   "outputs": [
    {
     "name": "stdout",
     "output_type": "stream",
     "text": [
      "idle :  1039\n",
      "running :  3408\n",
      "stairs :  165\n",
      "walking :  1850\n"
     ]
    }
   ],
   "source": [
    "# Виведемо кількість файлів в кожній теці активності\n",
    "for act in activites:\n",
    "    path = join(mypath, act)  # створення шляху для активності\n",
    "    frames = listdir(path)  # отримання списку файлів в 'path'\n",
    "    print(act, ': ', len(frames))  # виведення кількості файлів в 'act'"
   ]
  },
  {
   "cell_type": "code",
   "execution_count": 165,
   "id": "b32dac6f-2f9d-4294-a98c-87af4c0a1e6a",
   "metadata": {},
   "outputs": [],
   "source": [
    "# Створюємо порожній массив numpy\n",
    "data_array = np.array([])\n",
    "# Створюємо порожній список для зберігання даних з файлів\n",
    "data_list = []"
   ]
  },
  {
   "cell_type": "code",
   "execution_count": 166,
   "id": "70e525b4-a4db-40b3-a73f-ee50ff485a5b",
   "metadata": {},
   "outputs": [
    {
     "name": "stdout",
     "output_type": "stream",
     "text": [
      "[[ 1.000776  4.616021  8.576031  0.      ]\n",
      " [ 0.718261  4.209007  8.446744  0.      ]\n",
      " [-0.909797 -0.282516  9.203311  0.      ]\n",
      " ...\n",
      " [ 3.289633 -9.993398 -0.383072  3.      ]\n",
      " [-2.978387 -3.050213  1.273715  3.      ]\n",
      " [-4.34787  -9.92636  -1.642422  3.      ]]\n"
     ]
    },
    {
     "data": {
      "text/plain": [
       "(193860, 4)"
      ]
     },
     "execution_count": 166,
     "metadata": {},
     "output_type": "execute_result"
    }
   ],
   "source": [
    "# Створюємо датасет зі всіма даними, додавши відповідні цифпові мітки (label)\n",
    "for act in activites:\n",
    "    if act == 'idle':\n",
    "        label = 0\n",
    "    elif act == 'running':\n",
    "        label = 1\n",
    "    elif act == 'stairs':\n",
    "        label = 2\n",
    "    elif act == 'walking':\n",
    "        label = 3\n",
    "    file_path = join(mypath, act)\n",
    "    list_of_files = listdir(file_path)  # список всіх файлів в папці\n",
    "    \n",
    "    for file in list_of_files:\n",
    "        file_address = join(file_path, file)  # відносний шлях до файлу\n",
    "        data = pd.read_csv(file_address)  # зчитування файлу\n",
    "        \n",
    "        data['class_number'] = label  # додавання відповідної мітки\n",
    "        \n",
    "        data_list.append(data) \n",
    "\n",
    "concat_data = pd.concat(data_list, ignore_index=True)  # об'єднання даних списка в один DataFrame \n",
    "\n",
    "df = concat_data.to_numpy()  # перетворення DataFrame в массив Numpy\n",
    "print(df)\n",
    "df.shape"
   ]
  },
  {
   "cell_type": "code",
   "execution_count": 167,
   "id": "abc9fae1-8428-4ff7-9bd8-54c00be1ebb5",
   "metadata": {},
   "outputs": [],
   "source": [
    "# Запишемо отримані дані у файл в бінарному форматі\n",
    "import pickle\n",
    "\n",
    "with open('df.pickle', 'wb') as f:\n",
    "    pickle.dump(df, f)"
   ]
  },
  {
   "cell_type": "code",
   "execution_count": 168,
   "id": "36479867-98a2-49fc-8760-5770bbfb11ff",
   "metadata": {},
   "outputs": [],
   "source": [
    "# Ф-я завантаження датасету.\n",
    "def open_data_set():\n",
    "    \n",
    "    with open('df.pickle', 'rb') as f:\n",
    "        df_work = pickle.load(f)\n",
    "\n",
    "    return df_work"
   ]
  },
  {
   "cell_type": "code",
   "execution_count": 169,
   "id": "b9da1872-c457-4c2c-a2ac-81a7211a6ec5",
   "metadata": {},
   "outputs": [
    {
     "data": {
      "text/plain": [
       "True"
      ]
     },
     "execution_count": 169,
     "metadata": {},
     "output_type": "execute_result"
    }
   ],
   "source": [
    "# Перевіримо, що завантажений датасет дорівнює оригіналу\n",
    "# Завантажимо датасет\n",
    "df_work = open_data_set()\n",
    "# Перевірка коректності роботи завантажувача pickle\n",
    "np.array_equal(df, df_work)  # перевірка однаковості, повинно бути \"True\""
   ]
  },
  {
   "cell_type": "markdown",
   "id": "5c5ff4ee-022c-4f12-b51f-793f2167a177",
   "metadata": {},
   "source": [
    "#### 2. Аналіз датасету"
   ]
  },
  {
   "cell_type": "code",
   "execution_count": null,
   "id": "ddaaf9fd-4245-4495-8fda-66fee117734c",
   "metadata": {},
   "outputs": [],
   "source": []
  }
 ],
 "metadata": {
  "kernelspec": {
   "display_name": "Python 3 (ipykernel)",
   "language": "python",
   "name": "python3"
  },
  "language_info": {
   "codemirror_mode": {
    "name": "ipython",
    "version": 3
   },
   "file_extension": ".py",
   "mimetype": "text/x-python",
   "name": "python",
   "nbconvert_exporter": "python",
   "pygments_lexer": "ipython3",
   "version": "3.11.2"
  }
 },
 "nbformat": 4,
 "nbformat_minor": 5
}
