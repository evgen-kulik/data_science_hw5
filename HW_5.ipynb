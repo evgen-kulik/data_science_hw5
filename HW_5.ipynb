{
 "cells": [
  {
   "cell_type": "markdown",
   "id": "dcdfb4e8-cdb2-4c74-afeb-92f79093674e",
   "metadata": {},
   "source": [
    "## Домашнє завдання №5\n",
    "## Класифікування активності за даними акселерометра"
   ]
  },
  {
   "cell_type": "markdown",
   "id": "59d6cbc3-364f-4fbb-aa7b-c0df10eb8b09",
   "metadata": {},
   "source": [
    "### 1. Отримання датасету"
   ]
  },
  {
   "cell_type": "code",
   "execution_count": 141,
   "id": "8d51884f-3a29-48dc-8d13-3b1d15861e86",
   "metadata": {},
   "outputs": [],
   "source": [
    "mypath = '.\\data'"
   ]
  },
  {
   "cell_type": "code",
   "execution_count": 142,
   "id": "d972b962-25de-4eba-960b-254264ff9019",
   "metadata": {},
   "outputs": [],
   "source": [
    "from os import listdir\n",
    "from os.path import isfile, join\n",
    "import numpy as np\n",
    "import pandas as pd"
   ]
  },
  {
   "cell_type": "code",
   "execution_count": 143,
   "id": "09fed887-8492-4eea-9927-c4d95c9bc9bb",
   "metadata": {},
   "outputs": [
    {
     "data": {
      "text/plain": [
       "['idle', 'running', 'stairs', 'walking']"
      ]
     },
     "execution_count": 143,
     "metadata": {},
     "output_type": "execute_result"
    }
   ],
   "source": [
    "# отримаємо список підкаталогів в теці \"data\"\n",
    "activites = listdir(mypath)\n",
    "activites"
   ]
  },
  {
   "cell_type": "code",
   "execution_count": 144,
   "id": "a8eb9483-8ae3-4470-919a-3178bbb971ac",
   "metadata": {},
   "outputs": [
    {
     "name": "stdout",
     "output_type": "stream",
     "text": [
      "idle :  1039\n",
      "running :  3408\n",
      "stairs :  165\n",
      "walking :  1850\n"
     ]
    }
   ],
   "source": [
    "# Виведемо кількість файлів в кожній теці активності\n",
    "for act in activites:\n",
    "    path = join(mypath, act)  # створення шляху для активності\n",
    "    frames = listdir(path)  # отримання списку файлів в 'path'\n",
    "    print(act, ': ', len(frames))  # виведення кількості файлів в 'act'"
   ]
  },
  {
   "cell_type": "code",
   "execution_count": 145,
   "id": "0efa056e-4741-42ac-b0f0-37945f52f972",
   "metadata": {},
   "outputs": [
    {
     "data": {
      "text/html": [
       "<div>\n",
       "<style scoped>\n",
       "    .dataframe tbody tr th:only-of-type {\n",
       "        vertical-align: middle;\n",
       "    }\n",
       "\n",
       "    .dataframe tbody tr th {\n",
       "        vertical-align: top;\n",
       "    }\n",
       "\n",
       "    .dataframe thead th {\n",
       "        text-align: right;\n",
       "    }\n",
       "</style>\n",
       "<table border=\"1\" class=\"dataframe\">\n",
       "  <thead>\n",
       "    <tr style=\"text-align: right;\">\n",
       "      <th></th>\n",
       "      <th>accelerometer_X</th>\n",
       "      <th>accelerometer_Y</th>\n",
       "      <th>accelerometer_Z</th>\n",
       "    </tr>\n",
       "  </thead>\n",
       "  <tbody>\n",
       "    <tr>\n",
       "      <th>0</th>\n",
       "      <td>-4.352658</td>\n",
       "      <td>-9.327810</td>\n",
       "      <td>0.713472</td>\n",
       "    </tr>\n",
       "    <tr>\n",
       "      <th>1</th>\n",
       "      <td>-3.955221</td>\n",
       "      <td>-16.496050</td>\n",
       "      <td>3.438074</td>\n",
       "    </tr>\n",
       "    <tr>\n",
       "      <th>2</th>\n",
       "      <td>-2.705448</td>\n",
       "      <td>-7.436390</td>\n",
       "      <td>1.383849</td>\n",
       "    </tr>\n",
       "    <tr>\n",
       "      <th>3</th>\n",
       "      <td>-4.577713</td>\n",
       "      <td>-17.645266</td>\n",
       "      <td>1.944092</td>\n",
       "    </tr>\n",
       "    <tr>\n",
       "      <th>4</th>\n",
       "      <td>7.192182</td>\n",
       "      <td>-25.201366</td>\n",
       "      <td>-16.903065</td>\n",
       "    </tr>\n",
       "    <tr>\n",
       "      <th>5</th>\n",
       "      <td>1.575385</td>\n",
       "      <td>-10.620679</td>\n",
       "      <td>1.589750</td>\n",
       "    </tr>\n",
       "    <tr>\n",
       "      <th>6</th>\n",
       "      <td>-0.028730</td>\n",
       "      <td>-5.425261</td>\n",
       "      <td>0.823605</td>\n",
       "    </tr>\n",
       "    <tr>\n",
       "      <th>7</th>\n",
       "      <td>3.418920</td>\n",
       "      <td>-6.675034</td>\n",
       "      <td>1.158794</td>\n",
       "    </tr>\n",
       "    <tr>\n",
       "      <th>8</th>\n",
       "      <td>1.891419</td>\n",
       "      <td>-11.669339</td>\n",
       "      <td>-1.570596</td>\n",
       "    </tr>\n",
       "    <tr>\n",
       "      <th>9</th>\n",
       "      <td>-1.647211</td>\n",
       "      <td>-5.305551</td>\n",
       "      <td>9.169792</td>\n",
       "    </tr>\n",
       "    <tr>\n",
       "      <th>10</th>\n",
       "      <td>3.399767</td>\n",
       "      <td>-15.586253</td>\n",
       "      <td>-0.804452</td>\n",
       "    </tr>\n",
       "    <tr>\n",
       "      <th>11</th>\n",
       "      <td>4.572925</td>\n",
       "      <td>0.181959</td>\n",
       "      <td>32.599450</td>\n",
       "    </tr>\n",
       "    <tr>\n",
       "      <th>12</th>\n",
       "      <td>5.607220</td>\n",
       "      <td>-13.005303</td>\n",
       "      <td>-0.378284</td>\n",
       "    </tr>\n",
       "    <tr>\n",
       "      <th>13</th>\n",
       "      <td>3.672706</td>\n",
       "      <td>-10.874464</td>\n",
       "      <td>-7.058106</td>\n",
       "    </tr>\n",
       "    <tr>\n",
       "      <th>14</th>\n",
       "      <td>1.939303</td>\n",
       "      <td>-9.097966</td>\n",
       "      <td>-2.782062</td>\n",
       "    </tr>\n",
       "    <tr>\n",
       "      <th>15</th>\n",
       "      <td>-0.344765</td>\n",
       "      <td>-4.161122</td>\n",
       "      <td>1.230620</td>\n",
       "    </tr>\n",
       "    <tr>\n",
       "      <th>16</th>\n",
       "      <td>-0.387861</td>\n",
       "      <td>-9.174581</td>\n",
       "      <td>3.031059</td>\n",
       "    </tr>\n",
       "    <tr>\n",
       "      <th>17</th>\n",
       "      <td>-7.359776</td>\n",
       "      <td>-15.322891</td>\n",
       "      <td>0.852336</td>\n",
       "    </tr>\n",
       "    <tr>\n",
       "      <th>18</th>\n",
       "      <td>11.113884</td>\n",
       "      <td>-19.603724</td>\n",
       "      <td>-3.921702</td>\n",
       "    </tr>\n",
       "    <tr>\n",
       "      <th>19</th>\n",
       "      <td>5.109226</td>\n",
       "      <td>-15.452178</td>\n",
       "      <td>-1.470040</td>\n",
       "    </tr>\n",
       "    <tr>\n",
       "      <th>20</th>\n",
       "      <td>6.373365</td>\n",
       "      <td>-11.741165</td>\n",
       "      <td>-8.226476</td>\n",
       "    </tr>\n",
       "    <tr>\n",
       "      <th>21</th>\n",
       "      <td>3.289633</td>\n",
       "      <td>-9.993398</td>\n",
       "      <td>-0.383072</td>\n",
       "    </tr>\n",
       "    <tr>\n",
       "      <th>22</th>\n",
       "      <td>-2.978387</td>\n",
       "      <td>-3.050213</td>\n",
       "      <td>1.273715</td>\n",
       "    </tr>\n",
       "    <tr>\n",
       "      <th>23</th>\n",
       "      <td>-4.347870</td>\n",
       "      <td>-9.926360</td>\n",
       "      <td>-1.642422</td>\n",
       "    </tr>\n",
       "    <tr>\n",
       "      <th>24</th>\n",
       "      <td>-4.256891</td>\n",
       "      <td>-17.166426</td>\n",
       "      <td>-2.054225</td>\n",
       "    </tr>\n",
       "    <tr>\n",
       "      <th>25</th>\n",
       "      <td>-12.277467</td>\n",
       "      <td>6.435614</td>\n",
       "      <td>2.853889</td>\n",
       "    </tr>\n",
       "    <tr>\n",
       "      <th>26</th>\n",
       "      <td>-7.886500</td>\n",
       "      <td>-16.826450</td>\n",
       "      <td>4.912902</td>\n",
       "    </tr>\n",
       "    <tr>\n",
       "      <th>27</th>\n",
       "      <td>4.137180</td>\n",
       "      <td>-23.673866</td>\n",
       "      <td>-10.807426</td>\n",
       "    </tr>\n",
       "    <tr>\n",
       "      <th>28</th>\n",
       "      <td>2.523489</td>\n",
       "      <td>-10.070012</td>\n",
       "      <td>0.158017</td>\n",
       "    </tr>\n",
       "    <tr>\n",
       "      <th>29</th>\n",
       "      <td>-0.143652</td>\n",
       "      <td>-3.572149</td>\n",
       "      <td>1.862689</td>\n",
       "    </tr>\n",
       "  </tbody>\n",
       "</table>\n",
       "</div>"
      ],
      "text/plain": [
       "    accelerometer_X  accelerometer_Y  accelerometer_Z\n",
       "0         -4.352658        -9.327810         0.713472\n",
       "1         -3.955221       -16.496050         3.438074\n",
       "2         -2.705448        -7.436390         1.383849\n",
       "3         -4.577713       -17.645266         1.944092\n",
       "4          7.192182       -25.201366       -16.903065\n",
       "5          1.575385       -10.620679         1.589750\n",
       "6         -0.028730        -5.425261         0.823605\n",
       "7          3.418920        -6.675034         1.158794\n",
       "8          1.891419       -11.669339        -1.570596\n",
       "9         -1.647211        -5.305551         9.169792\n",
       "10         3.399767       -15.586253        -0.804452\n",
       "11         4.572925         0.181959        32.599450\n",
       "12         5.607220       -13.005303        -0.378284\n",
       "13         3.672706       -10.874464        -7.058106\n",
       "14         1.939303        -9.097966        -2.782062\n",
       "15        -0.344765        -4.161122         1.230620\n",
       "16        -0.387861        -9.174581         3.031059\n",
       "17        -7.359776       -15.322891         0.852336\n",
       "18        11.113884       -19.603724        -3.921702\n",
       "19         5.109226       -15.452178        -1.470040\n",
       "20         6.373365       -11.741165        -8.226476\n",
       "21         3.289633        -9.993398        -0.383072\n",
       "22        -2.978387        -3.050213         1.273715\n",
       "23        -4.347870        -9.926360        -1.642422\n",
       "24        -4.256891       -17.166426        -2.054225\n",
       "25       -12.277467         6.435614         2.853889\n",
       "26        -7.886500       -16.826450         4.912902\n",
       "27         4.137180       -23.673866       -10.807426\n",
       "28         2.523489       -10.070012         0.158017\n",
       "29        -0.143652        -3.572149         1.862689"
      ]
     },
     "execution_count": 145,
     "metadata": {},
     "output_type": "execute_result"
    }
   ],
   "source": [
    "# Виведемо для прикладу зміст шостого файлу з теки 'walking' ('сирі' дані)\n",
    "frames = listdir(join(mypath, 'walking'))\n",
    "frame = pd.read_csv(join(join(mypath, 'walking'),frames[5]))\n",
    "frame  # датасет містить посекундні дані переміщення, кожний рядок - одна секунда"
   ]
  },
  {
   "cell_type": "markdown",
   "id": "e8b73b63-b416-4319-8058-372a32f594e4",
   "metadata": {},
   "source": [
    "## 2. Підготовка даних"
   ]
  },
  {
   "cell_type": "code",
   "execution_count": 146,
   "id": "468bffea-a9b0-40bd-93c2-bf21fae3db1c",
   "metadata": {},
   "outputs": [],
   "source": [
    "# Імпортуємо модуль для оцінювання середньоквадратичної помилки \"mean_squared_error\" та\n",
    "# модуль для обчислення середньої абсолютної помилки \"mean_absolute_error\".\n",
    "# Ці метрики використовують для вимірювання різниці між прогнозованими та фактичними значеннями.\n",
    "from sklearn.metrics import mean_squared_error, mean_absolute_error\n",
    "# Імпортуємо модуль для перетворення Фур'є, тобто він перетворює дані з часової області в частотну.\n",
    "# \"fft\" - для комплексних даних (містять дійсну та уявну частину), \"rfft\" - для дійсних\n",
    "from scipy.fftpack import fft, rfft\n",
    "# Імпортуємо модуль для первинної обробки даних\n",
    "from sklearn import preprocessing"
   ]
  },
  {
   "cell_type": "code",
   "execution_count": 147,
   "id": "e7a4750e-d266-45f9-8b50-7bd6b89946d0",
   "metadata": {},
   "outputs": [
    {
     "data": {
      "text/plain": [
       "39"
      ]
     },
     "execution_count": 147,
     "metadata": {},
     "output_type": "execute_result"
    }
   ],
   "source": [
    "# Створимо список часових ознак для датасету (з лекційного матеріалу)\n",
    "features = [\n",
    "    'skew_X',  # асиметрія розподілу даних\n",
    "    'skew_Y',\n",
    "    'skew_Z',\n",
    "    'kurtosis_X',  # гострота пику розподілу даних\n",
    "    'kurtosis_Y',\n",
    "    'kurtosis_Z',\n",
    "    'max_X',\n",
    "    'max_Y',\n",
    "    'max_Z',\n",
    "    'min_X',\n",
    "    'min_Y',\n",
    "    'min_Z',\n",
    "    'mean_X',\n",
    "    'mean_Y',\n",
    "    'mean_Z',\n",
    "    'std_X',  # стандартне відхилення, що являється мірою розкиду даних\n",
    "    'std_Y',\n",
    "    'std_Z',\n",
    "    'variance_X',  # дисперсія (розкид даних)\n",
    "    'variance_Y',\n",
    "    'variance_Z',\n",
    "    'median_X',\n",
    "    'median_Y',\n",
    "    'median_Z',\n",
    "    'index_max_X',\n",
    "    'index_max_Y',\n",
    "    'index_max_Z',\n",
    "    'index_min_X',\n",
    "    'index_min_Y',\n",
    "    'index_min_Z',\n",
    "    'corelation_X_Y',\n",
    "    'corelation_X_Z',\n",
    "    'corelation_Y_Z',\n",
    "    'mae_X',  # середня абсолютна різниця між значеннями даних та прогнозними значеннями\n",
    "    'mae_Y',\n",
    "    'mae_Z',\n",
    "    'rmse_X',  # середньоквадратична різниця між значеннями даних та прогнозними значеннями\n",
    "    'rmse_Y',\n",
    "    'rmse_Z'\n",
    "    ]\n",
    "\n",
    "len(features)"
   ]
  },
  {
   "cell_type": "code",
   "execution_count": 148,
   "id": "881a7fc6-7fb7-40f2-9abb-b77e5b6bb83a",
   "metadata": {},
   "outputs": [],
   "source": [
    "# Створимо ф-ю, яка рахуватиме всі часові ознаки\n",
    "def get_stat_features(frame):\n",
    "\n",
    "    features = []\n",
    "    features = np.array(features)  # перетворення порожнього списку в массив NumPy\n",
    "    features = np.concatenate((features, frame.skew(axis=0).values), axis=0)\n",
    "    # конкатенація масиву 'features' з масивом ознак, обчислених з використанням методу 'skew' (асиметрія) для DataFrame 'frame'\n",
    "    # 'axis=0' - конкатенація виконується по стовпчикам (по вертикалі)\n",
    "    # '.values' - перетворює результати в массив NumPy\n",
    "    # 'np.concatenate' - додавання стовпців до масиву\n",
    "    features = np.concatenate((features, frame.kurt(axis=0).values), axis=0)\n",
    "    # '.kurt' - kurtosis, розрахунок ексцеса (гострота пику розподілу даних)\n",
    "    features = np.concatenate((features, frame.max(axis=0).values), axis=0)\n",
    "    features = np.concatenate((features, frame.min(axis=0).values), axis=0)\n",
    "    features = np.concatenate((features, frame.mean(axis=0).values), axis=0)\n",
    "    features = np.concatenate((features, frame.std(axis=0).values), axis=0)\n",
    "    features = np.concatenate((features, frame.var(axis=0).values), axis=0)\n",
    "    features = np.concatenate((features, frame.median(axis=0).values), axis=0)\n",
    "    features = np.concatenate((features, frame.idxmax(axis=0).values), axis=0)\n",
    "    features = np.concatenate((features, frame.idxmin(axis=0).values), axis=0)\n",
    "\n",
    "    # створення матриці кореляції для всіх пар колонок\n",
    "    correlations = frame.corr()  # розрахунок коефіцієнтів кореляції для кожної пари колонок\n",
    "    # створення матриці з конкретними значеннями кореляції (на базі матриці \"correlations\")\n",
    "    corr = np.array([\n",
    "        correlations['accelerometer_X']['accelerometer_Y'],\n",
    "        correlations['accelerometer_X']['accelerometer_Z'],\n",
    "        correlations['accelerometer_Y']['accelerometer_Z']\n",
    "    ])\n",
    "\n",
    "    # додамо стовпчики з коефіцієнтами кореляції до матриці features\n",
    "    features = np.concatenate((features, corr), axis=0)\n",
    "\n",
    "    # створення нових колонок у \"frame\"\n",
    "    frame['mean_X'] = frame.mean(axis=0)['accelerometer_X']  # міститиме середнє знач. для даних в колонці 'accelerometer_X'\n",
    "    frame['mean_Y'] = frame.mean(axis=0)['accelerometer_Y']\n",
    "    frame['mean_Z'] = frame.mean(axis=0)['accelerometer_Z']\n",
    "    \n",
    "    # розрахуємо середню абсолютну помилку (MAE) між двома стовпчиками\n",
    "    mae_X = mean_absolute_error(frame['accelerometer_X'], frame['mean_X'])\n",
    "    mae_Y = mean_absolute_error(frame['accelerometer_Y'], frame['mean_Y'])\n",
    "    mae_Z = mean_absolute_error(frame['accelerometer_Z'], frame['mean_Z'])\n",
    "\n",
    "    # розрахуємо корінь середньоквадратичної помилки (RMSE) між двома стовпчиками\n",
    "    rmse_x = np.sqrt(mean_squared_error(frame['accelerometer_X'], frame['mean_X']))\n",
    "    rmse_y = np.sqrt(mean_squared_error(frame['accelerometer_Y'], frame['mean_Y']))\n",
    "    rmse_z = np.sqrt(mean_squared_error(frame['accelerometer_Z'], frame['mean_Z']))\n",
    "\n",
    "    # створення масиву\n",
    "    metrics = np.array([mae_X, mae_Y, mae_Z, rmse_x, rmse_y, rmse_z])\n",
    "    # поєднання масивів\n",
    "    features = np.concatenate((features, metrics), axis=0)\n",
    "\n",
    "    return features"
   ]
  },
  {
   "cell_type": "code",
   "execution_count": 149,
   "id": "2d0dad8b-f890-4dab-9cc1-23e0a4e2e17c",
   "metadata": {},
   "outputs": [
    {
     "data": {
      "text/plain": [
       "39"
      ]
     },
     "execution_count": 149,
     "metadata": {},
     "output_type": "execute_result"
    }
   ],
   "source": [
    "len(get_stat_features(frame))"
   ]
  },
  {
   "cell_type": "code",
   "execution_count": 150,
   "id": "cd244128-f907-4ca6-a45d-bb15f336d4a3",
   "metadata": {},
   "outputs": [],
   "source": [
    "# Створимо ф-ю, яка рахуватиме коефіцієнти швидкого перетворення Фур'є та нормалізуватиме їх\n",
    "def get_fft_features(frame):\n",
    "    \n",
    "    fft_X = np.array(preprocessing.normalize([rfft(frame['accelerometer_X'].values)])[0])\n",
    "    fft_Y = np.array(preprocessing.normalize([rfft(frame['accelerometer_Y'].values)])[0])\n",
    "    fft_Z = np.array(preprocessing.normalize([rfft(frame['accelerometer_Z'].values)])[0])\n",
    "\n",
    "    features = np.concatenate((fft_X, fft_Y), axis=0)\n",
    "    features = np.concatenate((features, fft_Z), axis=0)\n",
    "\n",
    "    return features"
   ]
  },
  {
   "cell_type": "code",
   "execution_count": 151,
   "id": "261241ed-cfe6-47e1-ba2a-f2a97a3e4601",
   "metadata": {},
   "outputs": [
    {
     "data": {
      "text/plain": [
       "69"
      ]
     },
     "execution_count": 151,
     "metadata": {},
     "output_type": "execute_result"
    }
   ],
   "source": [
    "len(get_stat_features(frame))"
   ]
  },
  {
   "cell_type": "markdown",
   "id": "9c1a5812-c368-4831-82b2-8cddf69ff315",
   "metadata": {},
   "source": [
    "#### Перевірка працездатності функціоналу ф-ї get_stat_features (чернетка)"
   ]
  },
  {
   "cell_type": "code",
   "execution_count": 152,
   "id": "d7ec40ea-b60f-4cd7-aa43-06182b2e0a0e",
   "metadata": {},
   "outputs": [
    {
     "data": {
      "text/plain": [
       "accelerometer_X   -0.323847\n",
       "accelerometer_Y    0.162237\n",
       "accelerometer_Z    2.061646\n",
       "mean_X             0.000000\n",
       "mean_Y             0.000000\n",
       "mean_Z             0.000000\n",
       "dtype: float64"
      ]
     },
     "execution_count": 152,
     "metadata": {},
     "output_type": "execute_result"
    }
   ],
   "source": [
    "frame.skew(axis=0)  # розрахунок асиметрії даних для кожного стовпця 'frame'"
   ]
  },
  {
   "cell_type": "code",
   "execution_count": 153,
   "id": "50e1356c-b2c1-4486-af9f-36a42f5ed778",
   "metadata": {},
   "outputs": [
    {
     "data": {
      "text/plain": [
       "accelerometer_X     0.134180\n",
       "accelerometer_Y     0.542627\n",
       "accelerometer_Z    10.326116\n",
       "mean_X              0.000000\n",
       "mean_Y              0.000000\n",
       "mean_Z              0.000000\n",
       "dtype: float64"
      ]
     },
     "execution_count": 153,
     "metadata": {},
     "output_type": "execute_result"
    }
   ],
   "source": [
    "frame.kurt(axis=0)  # розрахунок ексцеса для кожного стовпця 'frame'"
   ]
  },
  {
   "cell_type": "code",
   "execution_count": 154,
   "id": "9475f226-3edd-4984-a01b-baafd77d502e",
   "metadata": {},
   "outputs": [
    {
     "data": {
      "text/plain": [
       "accelerometer_X    11.113884\n",
       "accelerometer_Y     6.435614\n",
       "accelerometer_Z    32.599450\n",
       "mean_X              0.285548\n",
       "mean_Y            -10.916123\n",
       "mean_Z              0.366473\n",
       "dtype: float64"
      ]
     },
     "execution_count": 154,
     "metadata": {},
     "output_type": "execute_result"
    }
   ],
   "source": [
    "frame.max(axis=0)  # розрахунок максимального значення для кожного стовпця 'frame'"
   ]
  },
  {
   "cell_type": "code",
   "execution_count": 155,
   "id": "8a662b85-a648-4836-8b59-ab183506e851",
   "metadata": {},
   "outputs": [
    {
     "data": {
      "text/plain": [
       "accelerometer_X   -12.277467\n",
       "accelerometer_Y   -25.201366\n",
       "accelerometer_Z   -16.903065\n",
       "mean_X              0.285548\n",
       "mean_Y            -10.916123\n",
       "mean_Z              0.366473\n",
       "dtype: float64"
      ]
     },
     "execution_count": 155,
     "metadata": {},
     "output_type": "execute_result"
    }
   ],
   "source": [
    "frame.min(axis=0)  # розрахунок мінімального значення для кожного стовпця 'frame'"
   ]
  },
  {
   "cell_type": "code",
   "execution_count": 156,
   "id": "3557d3a9-63c8-4184-8e63-8caa48a66cc9",
   "metadata": {},
   "outputs": [
    {
     "data": {
      "text/plain": [
       "accelerometer_X     0.285548\n",
       "accelerometer_Y   -10.916123\n",
       "accelerometer_Z     0.366473\n",
       "mean_X              0.285548\n",
       "mean_Y            -10.916123\n",
       "mean_Z              0.366473\n",
       "dtype: float64"
      ]
     },
     "execution_count": 156,
     "metadata": {},
     "output_type": "execute_result"
    }
   ],
   "source": [
    "frame.mean(axis=0)  # розрахунок середнього значення для кожного стовпця 'frame'"
   ]
  },
  {
   "cell_type": "code",
   "execution_count": 157,
   "id": "8dd0caec-93b9-4d5e-838c-133f0b9c3c41",
   "metadata": {},
   "outputs": [
    {
     "data": {
      "text/plain": [
       "accelerometer_X    5.090906e+00\n",
       "accelerometer_Y    6.820465e+00\n",
       "accelerometer_Z    7.811986e+00\n",
       "mean_X             5.646013e-17\n",
       "mean_Y             3.613448e-15\n",
       "mean_Z             1.129203e-16\n",
       "dtype: float64"
      ]
     },
     "execution_count": 157,
     "metadata": {},
     "output_type": "execute_result"
    }
   ],
   "source": [
    "frame.std(axis=0)  # розрахунок стандартного відхилення для кожного стовпця 'frame'"
   ]
  },
  {
   "cell_type": "code",
   "execution_count": 158,
   "id": "90b154d1-49f0-4f19-baaa-1052d3dea896",
   "metadata": {},
   "outputs": [
    {
     "data": {
      "text/plain": [
       "accelerometer_X    2.591732e+01\n",
       "accelerometer_Y    4.651874e+01\n",
       "accelerometer_Z    6.102712e+01\n",
       "mean_X             3.187746e-33\n",
       "mean_Y             1.305701e-29\n",
       "mean_Z             1.275098e-32\n",
       "dtype: float64"
      ]
     },
     "execution_count": 158,
     "metadata": {},
     "output_type": "execute_result"
    }
   ],
   "source": [
    "frame.var(axis=0)  # розрахунок дисперсії (розкид даних) для кожного стовпця 'frame'"
   ]
  },
  {
   "cell_type": "code",
   "execution_count": 159,
   "id": "9201b0cb-596f-4fe9-9fa3-d5f01fab65e0",
   "metadata": {},
   "outputs": [
    {
     "data": {
      "text/plain": [
       "accelerometer_X    18\n",
       "accelerometer_Y    25\n",
       "accelerometer_Z    11\n",
       "mean_X              0\n",
       "mean_Y              0\n",
       "mean_Z              0\n",
       "dtype: int64"
      ]
     },
     "execution_count": 159,
     "metadata": {},
     "output_type": "execute_result"
    }
   ],
   "source": [
    "frame.idxmax(axis=0)  #  індекс першого входження максимального значення для кожного стовпця 'frame'"
   ]
  },
  {
   "cell_type": "code",
   "execution_count": 160,
   "id": "84ce50c0-948d-4b72-a4ef-6065a875960a",
   "metadata": {},
   "outputs": [
    {
     "data": {
      "text/plain": [
       "accelerometer_X    25\n",
       "accelerometer_Y     4\n",
       "accelerometer_Z     4\n",
       "mean_X              0\n",
       "mean_Y              0\n",
       "mean_Z              0\n",
       "dtype: int64"
      ]
     },
     "execution_count": 160,
     "metadata": {},
     "output_type": "execute_result"
    }
   ],
   "source": [
    "frame.idxmin(axis=0)  #  індекс першого входження мінімального значення для кожного стовпця 'frame'"
   ]
  },
  {
   "cell_type": "markdown",
   "id": "54192413-e12c-4975-916c-40e26c1dd139",
   "metadata": {},
   "source": [
    "#### Функції для створення масивів NumPy з різними даними"
   ]
  },
  {
   "cell_type": "code",
   "execution_count": 161,
   "id": "c6a9ee44-c123-4af1-a8ce-ac9f528db4aa",
   "metadata": {},
   "outputs": [],
   "source": [
    "# Створимо першу ф-ю, яка виконуватиме підготовку даних\n",
    "def class_data_prepare(class_name, class_number):\n",
    "    \"\"\"\n",
    "    Створення двох масивів NumPy: \n",
    "    Х - з даними із датасету;\n",
    "    у - з мітками (\"class_number\")\n",
    "    \"\"\"\n",
    "\n",
    "    path = join(mypath, class_name)  # формування шляху до директорії певного класу даних\n",
    "    X = []\n",
    "    for item in listdir(path):  # ітерація по файлам в \"path\"\n",
    "        frame = pd.read_csv(join(path, item)) # кожний файл зчитується \n",
    "        frame = frame.values  # масив DataFrame перетворюється в масив NumPy для зручності\n",
    "        frame = frame.flatten()  # масив даних перетворюється на одновимірний масив (flatten)\n",
    "        X.append(frame)  # одновимірний масив додається в список 'X'\n",
    "    y = [class_number]*len(X)  # створення списку однакових значень \"class_number\" довжиною \"len(X)\"\n",
    "    X = np.array(X)  # перетворення списку в масив NumPy\n",
    "    y = np.array(y)  # перетворення списку в масив NumPy\n",
    "    return X, y"
   ]
  },
  {
   "cell_type": "code",
   "execution_count": 162,
   "id": "04ece327-fda1-4e8b-8dc6-0033c01d1733",
   "metadata": {},
   "outputs": [],
   "source": [
    "# Створимо другу ф-ю, яка виконуватиме підготовку даних\n",
    "def class_data_stat_fft_prepare(class_name, class_number):\n",
    "    \"\"\"\n",
    "    Створення двох масивів NumPy: \n",
    "    Х - з розрахованими на основі датасету часовими ознаками та нормалізованими коефіцієнтами швидкого перетворення Фур'є;\n",
    "    у - з мітками (\"class_number\")\n",
    "    \"\"\"\n",
    "\n",
    "    path = join(mypath, class_name)  # формування шляху до директорії певного класу даних\n",
    "    X = []\n",
    "    for item in listdir(path):  # ітерація по файлам в \"path\"\n",
    "        frame = pd.read_csv(join(path, item)) # кожний файл зчитується\n",
    "        features_stat = get_stat_features(frame)  # розрахунок всіх часових ознак\n",
    "        features_fft = get_fft_features(frame)  # розрахунок коефіцієнтів швидкого перетворення Фур'є та їх нормалізація\n",
    "        features = np.concatenate((features_stat, features_fft), axis=0)\n",
    "        X.append(features)\n",
    "\n",
    "    y = [class_number]*len(X)  # створення списку однакових значень \"class_number\" довжиною \"len(X)\"\n",
    "    X = np.array(X)  # перетворення списку в масив NumPy\n",
    "    y = np.array(y)  # перетворення списку в масив NumPy\n",
    "    return X, y"
   ]
  },
  {
   "cell_type": "code",
   "execution_count": 163,
   "id": "9b50797e-6e66-491e-ac58-907ab5ee04f0",
   "metadata": {},
   "outputs": [],
   "source": [
    "# Створимо третю ф-ю, яка виконуватиме підготовку даних\n",
    "def class_data_fft_prepare(class_name, class_number):\n",
    "    \"\"\"\n",
    "    Створення двох масивів NumPy: \n",
    "    Х - з розрахованими на основі датасету нормалізованими коефіцієнтами швидкого перетворення Фур'є;\n",
    "    у - з мітками (\"class_number\")\n",
    "    \"\"\"\n",
    "    \n",
    "    path = join(mypath, class_name)  # формування шляху до директорії певного класу даних\n",
    "    X = []\n",
    "    for item in listdir(path):  # ітерація по файлам в \"path\"\n",
    "        frame = pd.read_csv(join(path, item)) # кожний файл зчитується\n",
    "        features = get_fft_features(frame)  # розрахунок коефіцієнтів швидкого перетворення Фур'є та їх нормалізація\n",
    "        X.append(features)\n",
    "\n",
    "    y = [class_number]*len(X)  # створення списку однакових значень \"class_number\" довжиною \"len(X)\"\n",
    "    X = np.array(X)  # перетворення списку в масив NumPy\n",
    "    y = np.array(y)  # перетворення списку в масив NumPy\n",
    "    return X, y"
   ]
  },
  {
   "cell_type": "code",
   "execution_count": 164,
   "id": "2936905c-cf67-41ef-94ff-9e4263bfd3d0",
   "metadata": {},
   "outputs": [],
   "source": [
    "# Створимо четверту ф-ю, яка виконуватиме підготовку даних\n",
    "def class_data_stat_prepare(class_name, class_number):\n",
    "    \"\"\"\n",
    "    Створення двох масивів NumPy: \n",
    "    Х - з розрахованими на основі датасету часовими ознаками;\n",
    "    у - з мітками (\"class_number\")\n",
    "    \"\"\"\n",
    "    \n",
    "    path = join(mypath, class_name)  # формування шляху до директорії певного класу даних\n",
    "    X = []\n",
    "    for item in listdir(path):  # ітерація по файлам в \"path\"\n",
    "        frame = pd.read_csv(join(path, item)) # кожний файл зчитується\n",
    "        features_stat = get_stat_features(frame)  # розрахунок всіх часових ознак\n",
    "        X.append(features)\n",
    "\n",
    "    y = [class_number]*len(X)  # створення списку однакових значень \"class_number\" довжиною \"len(X)\"\n",
    "    X = np.array(X)  # перетворення списку в масив NumPy\n",
    "    y = np.array(y)  # перетворення списку в масив NumPy\n",
    "    return X, y"
   ]
  },
  {
   "cell_type": "markdown",
   "id": "373286ab-5961-4de1-a833-8ec592156353",
   "metadata": {},
   "source": [
    "#### Створення датасету"
   ]
  },
  {
   "cell_type": "code",
   "execution_count": 165,
   "id": "02c7a825-7d57-4306-9c74-d9cadb08cbbe",
   "metadata": {},
   "outputs": [],
   "source": [
    "# Створимо ф-ю, яка створюватиме масив даних та масив міток (номерів класів даних - від 0 до 3), використовуючи одну з 4х вище написаних ф-й\n",
    "def create_dataset(class_prepare):\n",
    "\n",
    "    X_idle, y_idle = class_prepare('idle', 0)\n",
    "    X_walking, y_walking = class_prepare('walking', 1)\n",
    "    X_stairs, y_stairs = class_prepare('stairs', 2)\n",
    "    X_running, y_running = class_prepare('running', 3)\n",
    "\n",
    "    X = np.concatenate((X_idle, X_walking), axis=0)\n",
    "    X = np.concatenate((X, X_stairs), axis=0)\n",
    "    X = np.concatenate((X, X_running), axis=0)\n",
    "\n",
    "    Y = np.concatenate((y_idle, y_walking))\n",
    "    Y = np.concatenate((Y, y_stairs))\n",
    "    Y = np.concatenate((Y, y_running))\n",
    "\n",
    "    return X, Y"
   ]
  },
  {
   "cell_type": "code",
   "execution_count": 166,
   "id": "2fca9eef-76f2-47c7-9fe5-fe0bd25c161d",
   "metadata": {},
   "outputs": [],
   "source": [
    "# Створимо масив даних но основі часових ознак та з номерними мітками\n",
    "X_stat, Y_stat = create_dataset(class_data_stat_prepare)\n",
    "\n",
    "# Запишемо отримані дані у файли в бінарному форматі\n",
    "import pickle\n",
    "with open('stat_data_X.pickle', 'wb') as f:\n",
    "    pickle.dump(X_stat, f)\n",
    "\n",
    "with open('stat_data_Y.pickle', 'wb') as f:\n",
    "    pickle.dump(Y_stat, f)"
   ]
  },
  {
   "cell_type": "code",
   "execution_count": 167,
   "id": "0082d11e-8b5f-47f9-b3b9-f80d39f5a9c9",
   "metadata": {},
   "outputs": [],
   "source": [
    "# Створимо масив даних но основі перетворення Фур'є та з номерними мітками\n",
    "X_fft, Y_fft = create_dataset(class_data_fft_prepare)\n",
    "\n",
    "# Запишемо отримані дані у файли в бінарному форматі\n",
    "with open('fft_data_X.pickle', 'wb') as f:\n",
    "    pickle.dump(X_fft, f)\n",
    "\n",
    "with open('fft_data_Y.pickle', 'wb') as f:\n",
    "    pickle.dump(Y_fft, f)"
   ]
  },
  {
   "cell_type": "code",
   "execution_count": 168,
   "id": "80a73864-aaf5-44ae-b692-69e175aa018d",
   "metadata": {},
   "outputs": [],
   "source": [
    "# Створимо масив даних на основі часових ознак та номерних міток\n",
    "X_fft_stat, Y_fft_stat = create_dataset(class_data_stat_fft_prepare)\n",
    "\n",
    "# Запишемо отримані дані у файли в бінарному форматі\n",
    "with open('fft_stat_data_X.pickle', 'wb') as f:\n",
    "    pickle.dump(X_fft_stat, f)\n",
    "\n",
    "with open('fft_stat_data_Y.pickle', 'wb') as f:\n",
    "    pickle.dump(Y_fft_stat, f)"
   ]
  },
  {
   "cell_type": "markdown",
   "id": "c70170bf-d786-4cfb-b76a-7aff49da7278",
   "metadata": {},
   "source": [
    "#### Завантаження датасету"
   ]
  },
  {
   "cell_type": "code",
   "execution_count": 169,
   "id": "a9eb4b87-b540-4934-aaa7-ad12ccc6ed54",
   "metadata": {},
   "outputs": [],
   "source": [
    "# Ф-я завантаження датасету. Приймає аргумент: 'fft', 'stat' або 'fft_stat'\n",
    "def open_data_set(flag):\n",
    "    name = flag + '_data_'\n",
    "    \n",
    "    with open(name + 'X.pickle', 'rb') as f:\n",
    "        X = pickle.load(f)\n",
    "    with open(name + 'Y.pickle', 'rb') as f:\n",
    "        Y = pickle.load(f)\n",
    "    return X, Y"
   ]
  },
  {
   "cell_type": "code",
   "execution_count": 170,
   "id": "6726ae13-d73c-48be-8d80-d8a633604d4e",
   "metadata": {},
   "outputs": [
    {
     "data": {
      "text/plain": [
       "True"
      ]
     },
     "execution_count": 170,
     "metadata": {},
     "output_type": "execute_result"
    }
   ],
   "source": [
    "# Завантажимо датасет 'fft_data_Y.pickle'\n",
    "X, Y = open_data_set('fft')\n",
    "# Перевірка коректності роботи завантажувача pickle\n",
    "np.array_equal(X, X_fft)  # перевірка однаковості"
   ]
  },
  {
   "cell_type": "markdown",
   "id": "714b313f-ad5e-46cd-b146-4c8d1cba88a5",
   "metadata": {},
   "source": [
    "## 3. Класифікація методом опорних векторів SVM (Support Vector Machine)"
   ]
  },
  {
   "cell_type": "code",
   "execution_count": 171,
   "id": "1292c712-42b9-4a56-b5a0-df95120553dd",
   "metadata": {},
   "outputs": [],
   "source": [
    "from sklearn.model_selection import cross_val_score  # оцінювання продуктивності моделі з використанням крос-валідації\n",
    "from sklearn.metrics import f1_score, accuracy_score  # розрахунок метрик якості моделі\n",
    "from sklearn import svm"
   ]
  },
  {
   "cell_type": "code",
   "execution_count": 172,
   "id": "b7311c2a-0f71-42cf-9a20-9b2e9b08baaf",
   "metadata": {},
   "outputs": [],
   "source": [
    "# Завантажимо датасет 'fft_data_Y.pickle'\n",
    "X, Y = open_data_set('fft')\n",
    "\n",
    "# Розіб'ємо завантажені дані на навчальну і тестову частини\n",
    "from sklearn import model_selection\n",
    "X_train, X_test, y_train, y_test = model_selection.train_test_split(X, Y, test_size=0.3)"
   ]
  },
  {
   "cell_type": "markdown",
   "id": "f64e7079-6bd7-4f71-97b1-5b92a4d1bc23",
   "metadata": {},
   "source": [
    "### 3.1. SVM gamma=0.01"
   ]
  },
  {
   "cell_type": "code",
   "execution_count": 173,
   "id": "a6fdd47f-2797-4a64-af98-2d6c8568efe2",
   "metadata": {},
   "outputs": [],
   "source": [
    "# Створимо класифікатор для багатокласової класифікації з gamma=0.01\n",
    "classifier = svm.SVC(decision_function_shape='ovo', kernel='rbf', gamma=0.01, probability=True)\n",
    "# 'svm.SVC' - створення об'єкта класифікатора\n",
    "# \"decision_function_shape='ovo'\" - використовується метод \"one-vs-one\"\n",
    "# \"kernel='rbf'\" - задає використання радіально-базової функції (Radial Basis Function, RBF) як ядро SVM\n",
    "# \"gamma=0.01\" - параметр, який впливає на форму гіперповерхні рішення\n",
    "# \"probability=True\" - вказує, що класифікатор повинен надавати оцінки ймовірності кожного класу при виклику методу predict_proba"
   ]
  },
  {
   "cell_type": "code",
   "execution_count": 174,
   "id": "75bd6b7a-73ff-4318-bd8a-c2ea322b1c3f",
   "metadata": {},
   "outputs": [
    {
     "data": {
      "text/html": [
       "<style>#sk-container-id-9 {color: black;}#sk-container-id-9 pre{padding: 0;}#sk-container-id-9 div.sk-toggleable {background-color: white;}#sk-container-id-9 label.sk-toggleable__label {cursor: pointer;display: block;width: 100%;margin-bottom: 0;padding: 0.3em;box-sizing: border-box;text-align: center;}#sk-container-id-9 label.sk-toggleable__label-arrow:before {content: \"▸\";float: left;margin-right: 0.25em;color: #696969;}#sk-container-id-9 label.sk-toggleable__label-arrow:hover:before {color: black;}#sk-container-id-9 div.sk-estimator:hover label.sk-toggleable__label-arrow:before {color: black;}#sk-container-id-9 div.sk-toggleable__content {max-height: 0;max-width: 0;overflow: hidden;text-align: left;background-color: #f0f8ff;}#sk-container-id-9 div.sk-toggleable__content pre {margin: 0.2em;color: black;border-radius: 0.25em;background-color: #f0f8ff;}#sk-container-id-9 input.sk-toggleable__control:checked~div.sk-toggleable__content {max-height: 200px;max-width: 100%;overflow: auto;}#sk-container-id-9 input.sk-toggleable__control:checked~label.sk-toggleable__label-arrow:before {content: \"▾\";}#sk-container-id-9 div.sk-estimator input.sk-toggleable__control:checked~label.sk-toggleable__label {background-color: #d4ebff;}#sk-container-id-9 div.sk-label input.sk-toggleable__control:checked~label.sk-toggleable__label {background-color: #d4ebff;}#sk-container-id-9 input.sk-hidden--visually {border: 0;clip: rect(1px 1px 1px 1px);clip: rect(1px, 1px, 1px, 1px);height: 1px;margin: -1px;overflow: hidden;padding: 0;position: absolute;width: 1px;}#sk-container-id-9 div.sk-estimator {font-family: monospace;background-color: #f0f8ff;border: 1px dotted black;border-radius: 0.25em;box-sizing: border-box;margin-bottom: 0.5em;}#sk-container-id-9 div.sk-estimator:hover {background-color: #d4ebff;}#sk-container-id-9 div.sk-parallel-item::after {content: \"\";width: 100%;border-bottom: 1px solid gray;flex-grow: 1;}#sk-container-id-9 div.sk-label:hover label.sk-toggleable__label {background-color: #d4ebff;}#sk-container-id-9 div.sk-serial::before {content: \"\";position: absolute;border-left: 1px solid gray;box-sizing: border-box;top: 0;bottom: 0;left: 50%;z-index: 0;}#sk-container-id-9 div.sk-serial {display: flex;flex-direction: column;align-items: center;background-color: white;padding-right: 0.2em;padding-left: 0.2em;position: relative;}#sk-container-id-9 div.sk-item {position: relative;z-index: 1;}#sk-container-id-9 div.sk-parallel {display: flex;align-items: stretch;justify-content: center;background-color: white;position: relative;}#sk-container-id-9 div.sk-item::before, #sk-container-id-9 div.sk-parallel-item::before {content: \"\";position: absolute;border-left: 1px solid gray;box-sizing: border-box;top: 0;bottom: 0;left: 50%;z-index: -1;}#sk-container-id-9 div.sk-parallel-item {display: flex;flex-direction: column;z-index: 1;position: relative;background-color: white;}#sk-container-id-9 div.sk-parallel-item:first-child::after {align-self: flex-end;width: 50%;}#sk-container-id-9 div.sk-parallel-item:last-child::after {align-self: flex-start;width: 50%;}#sk-container-id-9 div.sk-parallel-item:only-child::after {width: 0;}#sk-container-id-9 div.sk-dashed-wrapped {border: 1px dashed gray;margin: 0 0.4em 0.5em 0.4em;box-sizing: border-box;padding-bottom: 0.4em;background-color: white;}#sk-container-id-9 div.sk-label label {font-family: monospace;font-weight: bold;display: inline-block;line-height: 1.2em;}#sk-container-id-9 div.sk-label-container {text-align: center;}#sk-container-id-9 div.sk-container {/* jupyter's `normalize.less` sets `[hidden] { display: none; }` but bootstrap.min.css set `[hidden] { display: none !important; }` so we also need the `!important` here to be able to override the default hidden behavior on the sphinx rendered scikit-learn.org. See: https://github.com/scikit-learn/scikit-learn/issues/21755 */display: inline-block !important;position: relative;}#sk-container-id-9 div.sk-text-repr-fallback {display: none;}</style><div id=\"sk-container-id-9\" class=\"sk-top-container\"><div class=\"sk-text-repr-fallback\"><pre>SVC(decision_function_shape=&#x27;ovo&#x27;, gamma=0.01, probability=True)</pre><b>In a Jupyter environment, please rerun this cell to show the HTML representation or trust the notebook. <br />On GitHub, the HTML representation is unable to render, please try loading this page with nbviewer.org.</b></div><div class=\"sk-container\" hidden><div class=\"sk-item\"><div class=\"sk-estimator sk-toggleable\"><input class=\"sk-toggleable__control sk-hidden--visually\" id=\"sk-estimator-id-9\" type=\"checkbox\" checked><label for=\"sk-estimator-id-9\" class=\"sk-toggleable__label sk-toggleable__label-arrow\">SVC</label><div class=\"sk-toggleable__content\"><pre>SVC(decision_function_shape=&#x27;ovo&#x27;, gamma=0.01, probability=True)</pre></div></div></div></div></div>"
      ],
      "text/plain": [
       "SVC(decision_function_shape='ovo', gamma=0.01, probability=True)"
      ]
     },
     "execution_count": 174,
     "metadata": {},
     "output_type": "execute_result"
    }
   ],
   "source": [
    "# Проведемо навчання класифікатора на навчальній вибірці підготовлених даних но основі часових ознак\n",
    "classifier.fit(X_train, y_train)"
   ]
  },
  {
   "cell_type": "code",
   "execution_count": 175,
   "id": "a18015c6-40bb-434a-b002-39d43dede5d4",
   "metadata": {},
   "outputs": [
    {
     "data": {
      "text/plain": [
       "0.9721429408662015"
      ]
     },
     "execution_count": 175,
     "metadata": {},
     "output_type": "execute_result"
    }
   ],
   "source": [
    "# Оцінимо продуктивність моделі з використанням крос-валідації\n",
    "scores = cross_val_score(classifier, X_train, y_train, cv=10)  # cv=10 - к-ть фолдів (10-ти кратна крос-валідація)\n",
    "scores.mean()  # середнє значення продуктивності"
   ]
  },
  {
   "cell_type": "code",
   "execution_count": 176,
   "id": "50fc9b3d-a4d7-406b-a900-c28df20ba1a3",
   "metadata": {},
   "outputs": [
    {
     "data": {
      "text/plain": [
       "0.9804022692109334"
      ]
     },
     "execution_count": 176,
     "metadata": {},
     "output_type": "execute_result"
    }
   ],
   "source": [
    "# Перевіримо точність передбачень на тестовій вибірці\n",
    "y_test_proba = classifier.predict_proba(X_test)  # ймовірність приналежності до класів для кожного об'єкта у тестовому наборі\n",
    "y_test_proba = np.argmax(y_test_proba, axis=1)  # вибір індексу з найвищою ймовірністю (тобто класу з найвищою ймовірністю) для кожного об'єкта у тестовому наборі\n",
    "accuracy = accuracy_score(y_test, y_test_proba)  # порівнює фактичні мітки (y_test) з передбаченими мітками (y_test_proba) і обчислює точність передбачення\n",
    "accuracy"
   ]
  },
  {
   "cell_type": "code",
   "execution_count": 177,
   "id": "ad55e9cf-354d-42fe-beae-4f2fe2a5b1d3",
   "metadata": {},
   "outputs": [],
   "source": [
    "# Створимо ф-ю для підрахунку кількості індексів класів\n",
    "def make_report(y_test_proba, y_test):\n",
    "\n",
    "    idle_test = 0\n",
    "    walking_test = 0\n",
    "    stairs_test = 0\n",
    "    running_test = 0\n",
    "\n",
    "    for i in y_test_proba:\n",
    "        if i == 0:\n",
    "            idle_test += 1\n",
    "        elif i == 1:\n",
    "            walking_test += 1\n",
    "        elif i == 2:\n",
    "            stairs_test += 1\n",
    "        elif i == 3:\n",
    "            running_test += 1\n",
    "\n",
    "    idle_pred = 0\n",
    "    walking_pred = 0\n",
    "    stairs_pred = 0\n",
    "    running_pred = 0\n",
    "\n",
    "    for i in y_test_proba:\n",
    "        if i == 0:\n",
    "            idle_pred += 1\n",
    "        elif i == 1:\n",
    "            walking_pred += 1\n",
    "        elif i == 2:\n",
    "            stairs_pred += 1\n",
    "        elif i == 3:\n",
    "            running_pred += 1\n",
    "\n",
    "    print(f'idle test -- {idle_test} pred -- {idle_pred}')\n",
    "    print(f'walking test -- {walking_test} pred -- {walking_pred}')\n",
    "    print(f'stairs test -- {stairs_test} pred -- {stairs_pred}')\n",
    "    print(f'running test -- {running_test} pred -- {running_pred}')"
   ]
  },
  {
   "cell_type": "code",
   "execution_count": 178,
   "id": "368c6fea-3c9e-4992-95ad-af836fd6dc53",
   "metadata": {},
   "outputs": [
    {
     "name": "stdout",
     "output_type": "stream",
     "text": [
      "idle test -- 304 pred -- 304\n",
      "walking test -- 589 pred -- 589\n",
      "stairs test -- 29 pred -- 29\n",
      "running test -- 1017 pred -- 1017\n"
     ]
    }
   ],
   "source": [
    "make_report(y_test_proba, y_test)"
   ]
  },
  {
   "cell_type": "markdown",
   "id": "6a0f8429-b9d3-4f3c-a2f3-bb8f2ada1140",
   "metadata": {},
   "source": [
    "### 3.2. SVM gamma='scale'"
   ]
  },
  {
   "cell_type": "code",
   "execution_count": 179,
   "id": "3b5998cf-96f0-4abf-89bd-9a0ebff29fc3",
   "metadata": {},
   "outputs": [
    {
     "data": {
      "text/html": [
       "<style>#sk-container-id-10 {color: black;}#sk-container-id-10 pre{padding: 0;}#sk-container-id-10 div.sk-toggleable {background-color: white;}#sk-container-id-10 label.sk-toggleable__label {cursor: pointer;display: block;width: 100%;margin-bottom: 0;padding: 0.3em;box-sizing: border-box;text-align: center;}#sk-container-id-10 label.sk-toggleable__label-arrow:before {content: \"▸\";float: left;margin-right: 0.25em;color: #696969;}#sk-container-id-10 label.sk-toggleable__label-arrow:hover:before {color: black;}#sk-container-id-10 div.sk-estimator:hover label.sk-toggleable__label-arrow:before {color: black;}#sk-container-id-10 div.sk-toggleable__content {max-height: 0;max-width: 0;overflow: hidden;text-align: left;background-color: #f0f8ff;}#sk-container-id-10 div.sk-toggleable__content pre {margin: 0.2em;color: black;border-radius: 0.25em;background-color: #f0f8ff;}#sk-container-id-10 input.sk-toggleable__control:checked~div.sk-toggleable__content {max-height: 200px;max-width: 100%;overflow: auto;}#sk-container-id-10 input.sk-toggleable__control:checked~label.sk-toggleable__label-arrow:before {content: \"▾\";}#sk-container-id-10 div.sk-estimator input.sk-toggleable__control:checked~label.sk-toggleable__label {background-color: #d4ebff;}#sk-container-id-10 div.sk-label input.sk-toggleable__control:checked~label.sk-toggleable__label {background-color: #d4ebff;}#sk-container-id-10 input.sk-hidden--visually {border: 0;clip: rect(1px 1px 1px 1px);clip: rect(1px, 1px, 1px, 1px);height: 1px;margin: -1px;overflow: hidden;padding: 0;position: absolute;width: 1px;}#sk-container-id-10 div.sk-estimator {font-family: monospace;background-color: #f0f8ff;border: 1px dotted black;border-radius: 0.25em;box-sizing: border-box;margin-bottom: 0.5em;}#sk-container-id-10 div.sk-estimator:hover {background-color: #d4ebff;}#sk-container-id-10 div.sk-parallel-item::after {content: \"\";width: 100%;border-bottom: 1px solid gray;flex-grow: 1;}#sk-container-id-10 div.sk-label:hover label.sk-toggleable__label {background-color: #d4ebff;}#sk-container-id-10 div.sk-serial::before {content: \"\";position: absolute;border-left: 1px solid gray;box-sizing: border-box;top: 0;bottom: 0;left: 50%;z-index: 0;}#sk-container-id-10 div.sk-serial {display: flex;flex-direction: column;align-items: center;background-color: white;padding-right: 0.2em;padding-left: 0.2em;position: relative;}#sk-container-id-10 div.sk-item {position: relative;z-index: 1;}#sk-container-id-10 div.sk-parallel {display: flex;align-items: stretch;justify-content: center;background-color: white;position: relative;}#sk-container-id-10 div.sk-item::before, #sk-container-id-10 div.sk-parallel-item::before {content: \"\";position: absolute;border-left: 1px solid gray;box-sizing: border-box;top: 0;bottom: 0;left: 50%;z-index: -1;}#sk-container-id-10 div.sk-parallel-item {display: flex;flex-direction: column;z-index: 1;position: relative;background-color: white;}#sk-container-id-10 div.sk-parallel-item:first-child::after {align-self: flex-end;width: 50%;}#sk-container-id-10 div.sk-parallel-item:last-child::after {align-self: flex-start;width: 50%;}#sk-container-id-10 div.sk-parallel-item:only-child::after {width: 0;}#sk-container-id-10 div.sk-dashed-wrapped {border: 1px dashed gray;margin: 0 0.4em 0.5em 0.4em;box-sizing: border-box;padding-bottom: 0.4em;background-color: white;}#sk-container-id-10 div.sk-label label {font-family: monospace;font-weight: bold;display: inline-block;line-height: 1.2em;}#sk-container-id-10 div.sk-label-container {text-align: center;}#sk-container-id-10 div.sk-container {/* jupyter's `normalize.less` sets `[hidden] { display: none; }` but bootstrap.min.css set `[hidden] { display: none !important; }` so we also need the `!important` here to be able to override the default hidden behavior on the sphinx rendered scikit-learn.org. See: https://github.com/scikit-learn/scikit-learn/issues/21755 */display: inline-block !important;position: relative;}#sk-container-id-10 div.sk-text-repr-fallback {display: none;}</style><div id=\"sk-container-id-10\" class=\"sk-top-container\"><div class=\"sk-text-repr-fallback\"><pre>SVC(decision_function_shape=&#x27;ovo&#x27;, probability=True)</pre><b>In a Jupyter environment, please rerun this cell to show the HTML representation or trust the notebook. <br />On GitHub, the HTML representation is unable to render, please try loading this page with nbviewer.org.</b></div><div class=\"sk-container\" hidden><div class=\"sk-item\"><div class=\"sk-estimator sk-toggleable\"><input class=\"sk-toggleable__control sk-hidden--visually\" id=\"sk-estimator-id-10\" type=\"checkbox\" checked><label for=\"sk-estimator-id-10\" class=\"sk-toggleable__label sk-toggleable__label-arrow\">SVC</label><div class=\"sk-toggleable__content\"><pre>SVC(decision_function_shape=&#x27;ovo&#x27;, probability=True)</pre></div></div></div></div></div>"
      ],
      "text/plain": [
       "SVC(decision_function_shape='ovo', probability=True)"
      ]
     },
     "execution_count": 179,
     "metadata": {},
     "output_type": "execute_result"
    }
   ],
   "source": [
    "# Створимо класифікатор для багатокласової класифікації з gamma='scale' (параметр за замовчуванням) (атвоматичне масштабування gamma) \n",
    "classifier = svm.SVC(decision_function_shape='ovo', probability=True)\n",
    "# Проведемо навчання класифікатора на навчальній вибірці підготовлених даних но основі часових ознак\n",
    "classifier.fit(X_train, y_train)"
   ]
  },
  {
   "cell_type": "code",
   "execution_count": 180,
   "id": "9285e839-98ea-45fc-a0b6-0bfa6d7cd2ef",
   "metadata": {},
   "outputs": [
    {
     "data": {
      "text/plain": [
       "0.9778892926214617"
      ]
     },
     "execution_count": 180,
     "metadata": {},
     "output_type": "execute_result"
    }
   ],
   "source": [
    "# Оцінимо продуктивність моделі з використанням крос-валідації\n",
    "scores = cross_val_score(classifier, X_train, y_train, cv=10)  # cv=10 - к-ть фолдів (10-ти кратна крос-валідація)\n",
    "scores.mean()"
   ]
  },
  {
   "cell_type": "code",
   "execution_count": 181,
   "id": "3d9be75a-940f-441a-8c38-012c23f09a94",
   "metadata": {},
   "outputs": [
    {
     "data": {
      "text/plain": [
       "0.9845281072717896"
      ]
     },
     "execution_count": 181,
     "metadata": {},
     "output_type": "execute_result"
    }
   ],
   "source": [
    "# Перевіримо точність передбачень на тестовій вибірці\n",
    "y_test_proba = classifier.predict_proba(X_test)  # ймовірність приналежності до класів для кожного об'єкта у тестовому наборі\n",
    "y_test_proba = np.argmax(y_test_proba, axis=1)  # вибір індексу з найвищою ймовірністю (тобто класу з найвищою ймовірністю) для кожного об'єкта у тестовому наборі\n",
    "accuracy = accuracy_score(y_test, y_test_proba)  # порівнює фактичні мітки (y_test) з передбаченими мітками (y_test_proba) і обчислює точність передбачення\n",
    "accuracy"
   ]
  },
  {
   "cell_type": "code",
   "execution_count": 182,
   "id": "6fcb4592-cd65-4d3d-bb43-957947626e3b",
   "metadata": {},
   "outputs": [
    {
     "name": "stdout",
     "output_type": "stream",
     "text": [
      "idle test -- 302 pred -- 302\n",
      "walking test -- 587 pred -- 587\n",
      "stairs test -- 31 pred -- 31\n",
      "running test -- 1019 pred -- 1019\n"
     ]
    }
   ],
   "source": [
    "make_report(y_test_proba, y_test)"
   ]
  },
  {
   "cell_type": "markdown",
   "id": "b8c252ad-ada8-4e30-ae96-28f0f07e8a0c",
   "metadata": {},
   "source": [
    "### 3.3. SVM kernel='linear'"
   ]
  },
  {
   "cell_type": "code",
   "execution_count": 184,
   "id": "5f9a0e45-c285-4bfa-a7dd-0c06939e4a1e",
   "metadata": {},
   "outputs": [
    {
     "data": {
      "text/html": [
       "<style>#sk-container-id-11 {color: black;}#sk-container-id-11 pre{padding: 0;}#sk-container-id-11 div.sk-toggleable {background-color: white;}#sk-container-id-11 label.sk-toggleable__label {cursor: pointer;display: block;width: 100%;margin-bottom: 0;padding: 0.3em;box-sizing: border-box;text-align: center;}#sk-container-id-11 label.sk-toggleable__label-arrow:before {content: \"▸\";float: left;margin-right: 0.25em;color: #696969;}#sk-container-id-11 label.sk-toggleable__label-arrow:hover:before {color: black;}#sk-container-id-11 div.sk-estimator:hover label.sk-toggleable__label-arrow:before {color: black;}#sk-container-id-11 div.sk-toggleable__content {max-height: 0;max-width: 0;overflow: hidden;text-align: left;background-color: #f0f8ff;}#sk-container-id-11 div.sk-toggleable__content pre {margin: 0.2em;color: black;border-radius: 0.25em;background-color: #f0f8ff;}#sk-container-id-11 input.sk-toggleable__control:checked~div.sk-toggleable__content {max-height: 200px;max-width: 100%;overflow: auto;}#sk-container-id-11 input.sk-toggleable__control:checked~label.sk-toggleable__label-arrow:before {content: \"▾\";}#sk-container-id-11 div.sk-estimator input.sk-toggleable__control:checked~label.sk-toggleable__label {background-color: #d4ebff;}#sk-container-id-11 div.sk-label input.sk-toggleable__control:checked~label.sk-toggleable__label {background-color: #d4ebff;}#sk-container-id-11 input.sk-hidden--visually {border: 0;clip: rect(1px 1px 1px 1px);clip: rect(1px, 1px, 1px, 1px);height: 1px;margin: -1px;overflow: hidden;padding: 0;position: absolute;width: 1px;}#sk-container-id-11 div.sk-estimator {font-family: monospace;background-color: #f0f8ff;border: 1px dotted black;border-radius: 0.25em;box-sizing: border-box;margin-bottom: 0.5em;}#sk-container-id-11 div.sk-estimator:hover {background-color: #d4ebff;}#sk-container-id-11 div.sk-parallel-item::after {content: \"\";width: 100%;border-bottom: 1px solid gray;flex-grow: 1;}#sk-container-id-11 div.sk-label:hover label.sk-toggleable__label {background-color: #d4ebff;}#sk-container-id-11 div.sk-serial::before {content: \"\";position: absolute;border-left: 1px solid gray;box-sizing: border-box;top: 0;bottom: 0;left: 50%;z-index: 0;}#sk-container-id-11 div.sk-serial {display: flex;flex-direction: column;align-items: center;background-color: white;padding-right: 0.2em;padding-left: 0.2em;position: relative;}#sk-container-id-11 div.sk-item {position: relative;z-index: 1;}#sk-container-id-11 div.sk-parallel {display: flex;align-items: stretch;justify-content: center;background-color: white;position: relative;}#sk-container-id-11 div.sk-item::before, #sk-container-id-11 div.sk-parallel-item::before {content: \"\";position: absolute;border-left: 1px solid gray;box-sizing: border-box;top: 0;bottom: 0;left: 50%;z-index: -1;}#sk-container-id-11 div.sk-parallel-item {display: flex;flex-direction: column;z-index: 1;position: relative;background-color: white;}#sk-container-id-11 div.sk-parallel-item:first-child::after {align-self: flex-end;width: 50%;}#sk-container-id-11 div.sk-parallel-item:last-child::after {align-self: flex-start;width: 50%;}#sk-container-id-11 div.sk-parallel-item:only-child::after {width: 0;}#sk-container-id-11 div.sk-dashed-wrapped {border: 1px dashed gray;margin: 0 0.4em 0.5em 0.4em;box-sizing: border-box;padding-bottom: 0.4em;background-color: white;}#sk-container-id-11 div.sk-label label {font-family: monospace;font-weight: bold;display: inline-block;line-height: 1.2em;}#sk-container-id-11 div.sk-label-container {text-align: center;}#sk-container-id-11 div.sk-container {/* jupyter's `normalize.less` sets `[hidden] { display: none; }` but bootstrap.min.css set `[hidden] { display: none !important; }` so we also need the `!important` here to be able to override the default hidden behavior on the sphinx rendered scikit-learn.org. See: https://github.com/scikit-learn/scikit-learn/issues/21755 */display: inline-block !important;position: relative;}#sk-container-id-11 div.sk-text-repr-fallback {display: none;}</style><div id=\"sk-container-id-11\" class=\"sk-top-container\"><div class=\"sk-text-repr-fallback\"><pre>SVC(decision_function_shape=&#x27;ovo&#x27;, kernel=&#x27;linear&#x27;, probability=True)</pre><b>In a Jupyter environment, please rerun this cell to show the HTML representation or trust the notebook. <br />On GitHub, the HTML representation is unable to render, please try loading this page with nbviewer.org.</b></div><div class=\"sk-container\" hidden><div class=\"sk-item\"><div class=\"sk-estimator sk-toggleable\"><input class=\"sk-toggleable__control sk-hidden--visually\" id=\"sk-estimator-id-11\" type=\"checkbox\" checked><label for=\"sk-estimator-id-11\" class=\"sk-toggleable__label sk-toggleable__label-arrow\">SVC</label><div class=\"sk-toggleable__content\"><pre>SVC(decision_function_shape=&#x27;ovo&#x27;, kernel=&#x27;linear&#x27;, probability=True)</pre></div></div></div></div></div>"
      ],
      "text/plain": [
       "SVC(decision_function_shape='ovo', kernel='linear', probability=True)"
      ]
     },
     "execution_count": 184,
     "metadata": {},
     "output_type": "execute_result"
    }
   ],
   "source": [
    "# Створимо класифікатор для багатокласової класифікації з ядром kernel='linear' \n",
    "classifier = svm.SVC(decision_function_shape='ovo', probability=True, kernel='linear')\n",
    "# Проведемо навчання класифікатора на навчальній вибірці підготовлених даних но основі часових ознак\n",
    "classifier.fit(X_train, y_train)"
   ]
  },
  {
   "cell_type": "code",
   "execution_count": 185,
   "id": "9e206e41-590c-4243-be4e-373f694e84a8",
   "metadata": {},
   "outputs": [
    {
     "data": {
      "text/plain": [
       "0.9767865166344333"
      ]
     },
     "execution_count": 185,
     "metadata": {},
     "output_type": "execute_result"
    }
   ],
   "source": [
    "# Оцінимо продуктивність моделі з використанням крос-валідації\n",
    "scores = cross_val_score(classifier, X_train, y_train, cv=10)  # cv=10 - к-ть фолдів (10-ти кратна крос-валідація)\n",
    "scores.mean()"
   ]
  },
  {
   "cell_type": "code",
   "execution_count": 186,
   "id": "23068b5f-44d4-45e6-a6a4-d5efbc521998",
   "metadata": {},
   "outputs": [
    {
     "data": {
      "text/plain": [
       "0.9819494584837545"
      ]
     },
     "execution_count": 186,
     "metadata": {},
     "output_type": "execute_result"
    }
   ],
   "source": [
    "# Перевіримо точність передбачень на тестовій вибірці\n",
    "y_test_proba = classifier.predict_proba(X_test)  # ймовірність приналежності до класів для кожного об'єкта у тестовому наборі\n",
    "y_test_proba = np.argmax(y_test_proba, axis=1)  # вибір індексу з найвищою ймовірністю (тобто класу з найвищою ймовірністю) для кожного об'єкта у тестовому наборі\n",
    "accuracy = accuracy_score(y_test, y_test_proba)  # порівнює фактичні мітки (y_test) з передбаченими мітками (y_test_proba) і обчислює точність передбачення\n",
    "accuracy"
   ]
  },
  {
   "cell_type": "code",
   "execution_count": 187,
   "id": "94cee3bf-d896-42b5-a188-21425a614ed8",
   "metadata": {},
   "outputs": [
    {
     "name": "stdout",
     "output_type": "stream",
     "text": [
      "idle test -- 302 pred -- 302\n",
      "walking test -- 594 pred -- 594\n",
      "stairs test -- 24 pred -- 24\n",
      "running test -- 1019 pred -- 1019\n"
     ]
    }
   ],
   "source": [
    "make_report(y_test_proba, y_test)"
   ]
  },
  {
   "cell_type": "markdown",
   "id": "d05d766a-2e2b-4e9b-b610-e9c08aef9687",
   "metadata": {},
   "source": [
    "### 3.4. SVM OVR (One-Vs-Rest)"
   ]
  },
  {
   "cell_type": "code",
   "execution_count": null,
   "id": "b0d66070-d163-489e-adf2-70c2e788ffe1",
   "metadata": {},
   "outputs": [],
   "source": []
  }
 ],
 "metadata": {
  "kernelspec": {
   "display_name": "Python 3 (ipykernel)",
   "language": "python",
   "name": "python3"
  },
  "language_info": {
   "codemirror_mode": {
    "name": "ipython",
    "version": 3
   },
   "file_extension": ".py",
   "mimetype": "text/x-python",
   "name": "python",
   "nbconvert_exporter": "python",
   "pygments_lexer": "ipython3",
   "version": "3.11.2"
  }
 },
 "nbformat": 4,
 "nbformat_minor": 5
}
