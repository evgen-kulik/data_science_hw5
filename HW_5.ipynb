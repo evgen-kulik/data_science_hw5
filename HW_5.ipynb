{
 "cells": [
  {
   "cell_type": "markdown",
   "id": "dcdfb4e8-cdb2-4c74-afeb-92f79093674e",
   "metadata": {},
   "source": [
    "## Домашнє завдання №5\n",
    "## Класифікування активності за даними акселерометра"
   ]
  },
  {
   "cell_type": "markdown",
   "id": "59d6cbc3-364f-4fbb-aa7b-c0df10eb8b09",
   "metadata": {},
   "source": [
    "### 1. Отримання датасету"
   ]
  },
  {
   "cell_type": "code",
   "execution_count": 131,
   "id": "8d51884f-3a29-48dc-8d13-3b1d15861e86",
   "metadata": {},
   "outputs": [],
   "source": [
    "mypath = '.\\data'"
   ]
  },
  {
   "cell_type": "code",
   "execution_count": 132,
   "id": "d972b962-25de-4eba-960b-254264ff9019",
   "metadata": {},
   "outputs": [],
   "source": [
    "from os import listdir\n",
    "from os.path import isfile, join\n",
    "import numpy as np\n",
    "import pandas as pd"
   ]
  },
  {
   "cell_type": "code",
   "execution_count": 133,
   "id": "09fed887-8492-4eea-9927-c4d95c9bc9bb",
   "metadata": {},
   "outputs": [
    {
     "data": {
      "text/plain": [
       "['idle', 'running', 'stairs', 'walking']"
      ]
     },
     "execution_count": 133,
     "metadata": {},
     "output_type": "execute_result"
    }
   ],
   "source": [
    "# отримаємо список підкаталогів в теці \"data\"\n",
    "activites = listdir(mypath)\n",
    "activites"
   ]
  },
  {
   "cell_type": "code",
   "execution_count": 134,
   "id": "a8eb9483-8ae3-4470-919a-3178bbb971ac",
   "metadata": {},
   "outputs": [
    {
     "name": "stdout",
     "output_type": "stream",
     "text": [
      "idle :  1039\n",
      "running :  3408\n",
      "stairs :  165\n",
      "walking :  1850\n"
     ]
    }
   ],
   "source": [
    "# Виведемо кількість файлів в кожній теці активності\n",
    "for act in activites:\n",
    "    path = join(mypath, act)  # створення шляху для активності\n",
    "    frames = listdir(path)  # отримання списку файлів в 'path'\n",
    "    print(act, ': ', len(frames))  # виведення кількості файлів в 'act'"
   ]
  },
  {
   "cell_type": "code",
   "execution_count": 135,
   "id": "0efa056e-4741-42ac-b0f0-37945f52f972",
   "metadata": {},
   "outputs": [
    {
     "data": {
      "text/html": [
       "<div>\n",
       "<style scoped>\n",
       "    .dataframe tbody tr th:only-of-type {\n",
       "        vertical-align: middle;\n",
       "    }\n",
       "\n",
       "    .dataframe tbody tr th {\n",
       "        vertical-align: top;\n",
       "    }\n",
       "\n",
       "    .dataframe thead th {\n",
       "        text-align: right;\n",
       "    }\n",
       "</style>\n",
       "<table border=\"1\" class=\"dataframe\">\n",
       "  <thead>\n",
       "    <tr style=\"text-align: right;\">\n",
       "      <th></th>\n",
       "      <th>accelerometer_X</th>\n",
       "      <th>accelerometer_Y</th>\n",
       "      <th>accelerometer_Z</th>\n",
       "    </tr>\n",
       "  </thead>\n",
       "  <tbody>\n",
       "    <tr>\n",
       "      <th>0</th>\n",
       "      <td>-4.352658</td>\n",
       "      <td>-9.327810</td>\n",
       "      <td>0.713472</td>\n",
       "    </tr>\n",
       "    <tr>\n",
       "      <th>1</th>\n",
       "      <td>-3.955221</td>\n",
       "      <td>-16.496050</td>\n",
       "      <td>3.438074</td>\n",
       "    </tr>\n",
       "    <tr>\n",
       "      <th>2</th>\n",
       "      <td>-2.705448</td>\n",
       "      <td>-7.436390</td>\n",
       "      <td>1.383849</td>\n",
       "    </tr>\n",
       "    <tr>\n",
       "      <th>3</th>\n",
       "      <td>-4.577713</td>\n",
       "      <td>-17.645266</td>\n",
       "      <td>1.944092</td>\n",
       "    </tr>\n",
       "    <tr>\n",
       "      <th>4</th>\n",
       "      <td>7.192182</td>\n",
       "      <td>-25.201366</td>\n",
       "      <td>-16.903065</td>\n",
       "    </tr>\n",
       "    <tr>\n",
       "      <th>5</th>\n",
       "      <td>1.575385</td>\n",
       "      <td>-10.620679</td>\n",
       "      <td>1.589750</td>\n",
       "    </tr>\n",
       "    <tr>\n",
       "      <th>6</th>\n",
       "      <td>-0.028730</td>\n",
       "      <td>-5.425261</td>\n",
       "      <td>0.823605</td>\n",
       "    </tr>\n",
       "    <tr>\n",
       "      <th>7</th>\n",
       "      <td>3.418920</td>\n",
       "      <td>-6.675034</td>\n",
       "      <td>1.158794</td>\n",
       "    </tr>\n",
       "    <tr>\n",
       "      <th>8</th>\n",
       "      <td>1.891419</td>\n",
       "      <td>-11.669339</td>\n",
       "      <td>-1.570596</td>\n",
       "    </tr>\n",
       "    <tr>\n",
       "      <th>9</th>\n",
       "      <td>-1.647211</td>\n",
       "      <td>-5.305551</td>\n",
       "      <td>9.169792</td>\n",
       "    </tr>\n",
       "    <tr>\n",
       "      <th>10</th>\n",
       "      <td>3.399767</td>\n",
       "      <td>-15.586253</td>\n",
       "      <td>-0.804452</td>\n",
       "    </tr>\n",
       "    <tr>\n",
       "      <th>11</th>\n",
       "      <td>4.572925</td>\n",
       "      <td>0.181959</td>\n",
       "      <td>32.599450</td>\n",
       "    </tr>\n",
       "    <tr>\n",
       "      <th>12</th>\n",
       "      <td>5.607220</td>\n",
       "      <td>-13.005303</td>\n",
       "      <td>-0.378284</td>\n",
       "    </tr>\n",
       "    <tr>\n",
       "      <th>13</th>\n",
       "      <td>3.672706</td>\n",
       "      <td>-10.874464</td>\n",
       "      <td>-7.058106</td>\n",
       "    </tr>\n",
       "    <tr>\n",
       "      <th>14</th>\n",
       "      <td>1.939303</td>\n",
       "      <td>-9.097966</td>\n",
       "      <td>-2.782062</td>\n",
       "    </tr>\n",
       "    <tr>\n",
       "      <th>15</th>\n",
       "      <td>-0.344765</td>\n",
       "      <td>-4.161122</td>\n",
       "      <td>1.230620</td>\n",
       "    </tr>\n",
       "    <tr>\n",
       "      <th>16</th>\n",
       "      <td>-0.387861</td>\n",
       "      <td>-9.174581</td>\n",
       "      <td>3.031059</td>\n",
       "    </tr>\n",
       "    <tr>\n",
       "      <th>17</th>\n",
       "      <td>-7.359776</td>\n",
       "      <td>-15.322891</td>\n",
       "      <td>0.852336</td>\n",
       "    </tr>\n",
       "    <tr>\n",
       "      <th>18</th>\n",
       "      <td>11.113884</td>\n",
       "      <td>-19.603724</td>\n",
       "      <td>-3.921702</td>\n",
       "    </tr>\n",
       "    <tr>\n",
       "      <th>19</th>\n",
       "      <td>5.109226</td>\n",
       "      <td>-15.452178</td>\n",
       "      <td>-1.470040</td>\n",
       "    </tr>\n",
       "    <tr>\n",
       "      <th>20</th>\n",
       "      <td>6.373365</td>\n",
       "      <td>-11.741165</td>\n",
       "      <td>-8.226476</td>\n",
       "    </tr>\n",
       "    <tr>\n",
       "      <th>21</th>\n",
       "      <td>3.289633</td>\n",
       "      <td>-9.993398</td>\n",
       "      <td>-0.383072</td>\n",
       "    </tr>\n",
       "    <tr>\n",
       "      <th>22</th>\n",
       "      <td>-2.978387</td>\n",
       "      <td>-3.050213</td>\n",
       "      <td>1.273715</td>\n",
       "    </tr>\n",
       "    <tr>\n",
       "      <th>23</th>\n",
       "      <td>-4.347870</td>\n",
       "      <td>-9.926360</td>\n",
       "      <td>-1.642422</td>\n",
       "    </tr>\n",
       "    <tr>\n",
       "      <th>24</th>\n",
       "      <td>-4.256891</td>\n",
       "      <td>-17.166426</td>\n",
       "      <td>-2.054225</td>\n",
       "    </tr>\n",
       "    <tr>\n",
       "      <th>25</th>\n",
       "      <td>-12.277467</td>\n",
       "      <td>6.435614</td>\n",
       "      <td>2.853889</td>\n",
       "    </tr>\n",
       "    <tr>\n",
       "      <th>26</th>\n",
       "      <td>-7.886500</td>\n",
       "      <td>-16.826450</td>\n",
       "      <td>4.912902</td>\n",
       "    </tr>\n",
       "    <tr>\n",
       "      <th>27</th>\n",
       "      <td>4.137180</td>\n",
       "      <td>-23.673866</td>\n",
       "      <td>-10.807426</td>\n",
       "    </tr>\n",
       "    <tr>\n",
       "      <th>28</th>\n",
       "      <td>2.523489</td>\n",
       "      <td>-10.070012</td>\n",
       "      <td>0.158017</td>\n",
       "    </tr>\n",
       "    <tr>\n",
       "      <th>29</th>\n",
       "      <td>-0.143652</td>\n",
       "      <td>-3.572149</td>\n",
       "      <td>1.862689</td>\n",
       "    </tr>\n",
       "  </tbody>\n",
       "</table>\n",
       "</div>"
      ],
      "text/plain": [
       "    accelerometer_X  accelerometer_Y  accelerometer_Z\n",
       "0         -4.352658        -9.327810         0.713472\n",
       "1         -3.955221       -16.496050         3.438074\n",
       "2         -2.705448        -7.436390         1.383849\n",
       "3         -4.577713       -17.645266         1.944092\n",
       "4          7.192182       -25.201366       -16.903065\n",
       "5          1.575385       -10.620679         1.589750\n",
       "6         -0.028730        -5.425261         0.823605\n",
       "7          3.418920        -6.675034         1.158794\n",
       "8          1.891419       -11.669339        -1.570596\n",
       "9         -1.647211        -5.305551         9.169792\n",
       "10         3.399767       -15.586253        -0.804452\n",
       "11         4.572925         0.181959        32.599450\n",
       "12         5.607220       -13.005303        -0.378284\n",
       "13         3.672706       -10.874464        -7.058106\n",
       "14         1.939303        -9.097966        -2.782062\n",
       "15        -0.344765        -4.161122         1.230620\n",
       "16        -0.387861        -9.174581         3.031059\n",
       "17        -7.359776       -15.322891         0.852336\n",
       "18        11.113884       -19.603724        -3.921702\n",
       "19         5.109226       -15.452178        -1.470040\n",
       "20         6.373365       -11.741165        -8.226476\n",
       "21         3.289633        -9.993398        -0.383072\n",
       "22        -2.978387        -3.050213         1.273715\n",
       "23        -4.347870        -9.926360        -1.642422\n",
       "24        -4.256891       -17.166426        -2.054225\n",
       "25       -12.277467         6.435614         2.853889\n",
       "26        -7.886500       -16.826450         4.912902\n",
       "27         4.137180       -23.673866       -10.807426\n",
       "28         2.523489       -10.070012         0.158017\n",
       "29        -0.143652        -3.572149         1.862689"
      ]
     },
     "execution_count": 135,
     "metadata": {},
     "output_type": "execute_result"
    }
   ],
   "source": [
    "# Виведемо для прикладу зміст шостого файлу з теки 'walking' ('сирі' дані)\n",
    "frames = listdir(join(mypath, 'walking'))\n",
    "frame = pd.read_csv(join(join(mypath, 'walking'),frames[5]))\n",
    "frame  # датасет містить посекундні дані переміщення, кожний рядок - одна секунда"
   ]
  },
  {
   "cell_type": "markdown",
   "id": "e8b73b63-b416-4319-8058-372a32f594e4",
   "metadata": {},
   "source": [
    "## 2. Підготовка даних"
   ]
  },
  {
   "cell_type": "code",
   "execution_count": 136,
   "id": "468bffea-a9b0-40bd-93c2-bf21fae3db1c",
   "metadata": {},
   "outputs": [],
   "source": [
    "# Імпортуємо модуль для оцінювання середньоквадратичної помилки \"mean_squared_error\" та\n",
    "# модуль для обчислення середньої абсолютної помилки \"mean_absolute_error\".\n",
    "# Ці метрики використовують для вимірювання різниці між прогнозованими та фактичними значеннями.\n",
    "from sklearn.metrics import mean_squared_error, mean_absolute_error\n",
    "# Імпортуємо модуль для перетворення Фур'є, тобто він перетворює дані з часової області в частотну.\n",
    "# \"fft\" - для комплексних даних (містять дійсну та уявну частину), \"rfft\" - для дійсних\n",
    "from scipy.fftpack import fft, rfft\n",
    "# Імпортуємо модуль для первинної обробки даних\n",
    "from sklearn import preprocessing"
   ]
  },
  {
   "cell_type": "code",
   "execution_count": 137,
   "id": "e7a4750e-d266-45f9-8b50-7bd6b89946d0",
   "metadata": {},
   "outputs": [
    {
     "data": {
      "text/plain": [
       "39"
      ]
     },
     "execution_count": 137,
     "metadata": {},
     "output_type": "execute_result"
    }
   ],
   "source": [
    "# Створимо список часових ознак для датасету (з лекційного матеріалу)\n",
    "features = [\n",
    "    'skew_X',  # асиметрія розподілу даних\n",
    "    'skew_Y',\n",
    "    'skew_Z',\n",
    "    'kurtosis_X',  # гострота пику розподілу даних\n",
    "    'kurtosis_Y',\n",
    "    'kurtosis_Z',\n",
    "    'max_X',\n",
    "    'max_Y',\n",
    "    'max_Z',\n",
    "    'min_X',\n",
    "    'min_Y',\n",
    "    'min_Z',\n",
    "    'mean_X',\n",
    "    'mean_Y',\n",
    "    'mean_Z',\n",
    "    'std_X',  # стандартне відхилення, що являється мірою розкиду даних\n",
    "    'std_Y',\n",
    "    'std_Z',\n",
    "    'variance_X',  # дисперсія (розкид даних)\n",
    "    'variance_Y',\n",
    "    'variance_Z',\n",
    "    'median_X',\n",
    "    'median_Y',\n",
    "    'median_Z',\n",
    "    'index_max_X',\n",
    "    'index_max_Y',\n",
    "    'index_max_Z',\n",
    "    'index_min_X',\n",
    "    'index_min_Y',\n",
    "    'index_min_Z',\n",
    "    'corelation_X_Y',\n",
    "    'corelation_X_Z',\n",
    "    'corelation_Y_Z',\n",
    "    'mae_X',  # середня абсолютна різниця між значеннями даних та прогнозними значеннями\n",
    "    'mae_Y',\n",
    "    'mae_Z',\n",
    "    'rmse_X',  # середньоквадратична різниця між значеннями даних та прогнозними значеннями\n",
    "    'rmse_Y',\n",
    "    'rmse_Z'\n",
    "    ]\n",
    "\n",
    "len(features)"
   ]
  },
  {
   "cell_type": "code",
   "execution_count": 138,
   "id": "881a7fc6-7fb7-40f2-9abb-b77e5b6bb83a",
   "metadata": {},
   "outputs": [],
   "source": [
    "# Створимо ф-ю, яка рахуватиме статистичні ознаки\n",
    "def get_stat_features(frame):\n",
    "\n",
    "    features = []\n",
    "    features = np.array(features)  # перетворення порожнього списку в массив NumPy\n",
    "    features = np.concatenate((features, frame.skew(axis=0).values), axis=0)\n",
    "    # конкатенація масиву 'features' з масивом ознак, обчислених з використанням методу 'skew' (асиметрія) для DataFrame 'frame'\n",
    "    # 'axis=0' - конкатенація виконується по стовпчикам (по вертикалі)\n",
    "    # '.values' - перетворює результати в массив NumPy\n",
    "    # 'np.concatenate' - додавання стовпців до масиву\n",
    "    features = np.concatenate((features, frame.kurt(axis=0).values), axis=0)\n",
    "    # '.kurt' - kurtosis, розрахунок ексцеса (гострота пику розподілу даних)\n",
    "    features = np.concatenate((features, frame.max(axis=0).values), axis=0)\n",
    "    features = np.concatenate((features, frame.min(axis=0).values), axis=0)\n",
    "    features = np.concatenate((features, frame.mean(axis=0).values), axis=0)\n",
    "    features = np.concatenate((features, frame.std(axis=0).values), axis=0)\n",
    "    features = np.concatenate((features, frame.var(axis=0).values), axis=0)\n",
    "    features = np.concatenate((features, frame.median(axis=0).values), axis=0)\n",
    "    features = np.concatenate((features, frame.idxmax(axis=0).values), axis=0)\n",
    "    features = np.concatenate((features, frame.idxmin(axis=0).values), axis=0)\n",
    "\n",
    "    # створення матриці кореляції для всіх пар колонок\n",
    "    correlations = frame.corr()  # розрахунок коефіцієнтів кореляції для кожної пари колонок\n",
    "    # створення матриці з конкретними значеннями кореляції (на базі матриці \"correlations\")\n",
    "    corr = np.array([\n",
    "        correlations['accelerometer_X']['accelerometer_Y'],\n",
    "        correlations['accelerometer_X']['accelerometer_Z'],\n",
    "        correlations['accelerometer_Y']['accelerometer_Z']\n",
    "    ])\n",
    "\n",
    "    # додамо стовпчики з коефіцієнтами кореляції до матриці features\n",
    "    features = np.concatenate((features, corr), axis=0)\n",
    "\n",
    "    # створення нових колонок у \"frame\"\n",
    "    frame['mean_X'] = frame.mean(axis=0)['accelerometer_X']  # міститиме середнє знач. для даних в колонці 'accelerometer_X'\n",
    "    frame['mean_Y'] = frame.mean(axis=0)['accelerometer_Y']\n",
    "    frame['mean_Z'] = frame.mean(axis=0)['accelerometer_Z']\n",
    "    \n",
    "    # розрахуємо середню абсолютну помилку (MAE) між двома стовпчиками\n",
    "    mae_X = mean_absolute_error(frame['accelerometer_X'], frame['mean_X'])\n",
    "    mae_Y = mean_absolute_error(frame['accelerometer_Y'], frame['mean_Y'])\n",
    "    mae_Z = mean_absolute_error(frame['accelerometer_Z'], frame['mean_Z'])\n",
    "\n",
    "    # розрахуємо корінь середньоквадратичної помилки (RMSE) між двома стовпчиками\n",
    "    rmse_x = np.sqrt(mean_squared_error(frame['accelerometer_X'], frame['mean_X']))\n",
    "    rmse_y = np.sqrt(mean_squared_error(frame['accelerometer_Y'], frame['mean_Y']))\n",
    "    rmse_z = np.sqrt(mean_squared_error(frame['accelerometer_Z'], frame['mean_Z']))\n",
    "\n",
    "    # створення масиву\n",
    "    metrics = np.array([mae_X, mae_Y, mae_Z, rmse_x, rmse_y, rmse_z])\n",
    "    # поєднання масивів\n",
    "    features = np.concatenate((features, metrics), axis=0)\n",
    "\n",
    "    return features"
   ]
  },
  {
   "cell_type": "code",
   "execution_count": 139,
   "id": "2d0dad8b-f890-4dab-9cc1-23e0a4e2e17c",
   "metadata": {},
   "outputs": [
    {
     "data": {
      "text/plain": [
       "39"
      ]
     },
     "execution_count": 139,
     "metadata": {},
     "output_type": "execute_result"
    }
   ],
   "source": [
    "len(get_stat_features(frame))"
   ]
  },
  {
   "cell_type": "code",
   "execution_count": 140,
   "id": "783e8f15-78b5-4072-a489-0830eae621d5",
   "metadata": {},
   "outputs": [
    {
     "data": {
      "text/plain": [
       "array([-3.23847418e-01,  1.62237440e-01,  2.06164601e+00,  0.00000000e+00,\n",
       "        0.00000000e+00,  0.00000000e+00,  1.34180485e-01,  5.42626937e-01,\n",
       "        1.03261163e+01,  0.00000000e+00,  0.00000000e+00,  0.00000000e+00,\n",
       "        1.11138840e+01,  6.43561400e+00,  3.25994500e+01,  2.85548467e-01,\n",
       "       -1.09161231e+01,  3.66472567e-01, -1.22774670e+01, -2.52013660e+01,\n",
       "       -1.69030650e+01,  2.85548467e-01, -1.09161231e+01,  3.66472567e-01,\n",
       "        2.85548467e-01, -1.09161231e+01,  3.66472567e-01,  2.85548467e-01,\n",
       "       -1.09161231e+01,  3.66472567e-01,  5.09090559e+00,  6.82046510e+00,\n",
       "        7.81198587e+00,  5.64601285e-17,  3.61344823e-15,  1.12920257e-16,\n",
       "        2.59173197e+01,  4.65187441e+01,  6.10271232e+01,  3.18774611e-33,\n",
       "        1.30570081e-29,  1.27509845e-32,  7.73327500e-01, -1.03453455e+01,\n",
       "        7.68538500e-01,  2.85548467e-01, -1.09161231e+01,  3.66472567e-01,\n",
       "        1.80000000e+01,  2.50000000e+01,  1.10000000e+01,  0.00000000e+00,\n",
       "        0.00000000e+00,  0.00000000e+00,  2.50000000e+01,  4.00000000e+00,\n",
       "        4.00000000e+00,  0.00000000e+00,  0.00000000e+00,  0.00000000e+00,\n",
       "       -3.44594369e-01, -2.35596183e-01,  5.75400303e-01,  4.10222513e+00,\n",
       "        5.16537842e+00,  4.19830180e+00,  5.00533805e+00,  6.70582727e+00,\n",
       "        7.68068264e+00])"
      ]
     },
     "execution_count": 140,
     "metadata": {},
     "output_type": "execute_result"
    }
   ],
   "source": [
    "get_stat_features(frame)"
   ]
  },
  {
   "cell_type": "code",
   "execution_count": 141,
   "id": "cd244128-f907-4ca6-a45d-bb15f336d4a3",
   "metadata": {},
   "outputs": [],
   "source": [
    "# Створимо ф-ю, яка рахуватиме коефіцієнти швидкого перетворення Фур'є та нормалізуватиме їх\n",
    "def get_fft_features(frame):\n",
    "    \n",
    "    fft_X = np.array(preprocessing.normalize([rfft(frame['accelerometer_X'].values)])[0])\n",
    "    fft_Y = np.array(preprocessing.normalize([rfft(frame['accelerometer_Y'].values)])[0])\n",
    "    fft_Z = np.array(preprocessing.normalize([rfft(frame['accelerometer_Z'].values)])[0])\n",
    "\n",
    "    features = np.concatenate((fft_X, fft_Y), axis=0)\n",
    "    features = np.concatenate((features, fft_Z), axis=0)\n",
    "\n",
    "    return features"
   ]
  },
  {
   "cell_type": "code",
   "execution_count": 142,
   "id": "261241ed-cfe6-47e1-ba2a-f2a97a3e4601",
   "metadata": {},
   "outputs": [
    {
     "data": {
      "text/plain": [
       "90"
      ]
     },
     "execution_count": 142,
     "metadata": {},
     "output_type": "execute_result"
    }
   ],
   "source": [
    "len(get_fft_features(frame))"
   ]
  },
  {
   "cell_type": "code",
   "execution_count": 143,
   "id": "a93a09df-3286-4653-ac3c-f2eb6c14a727",
   "metadata": {},
   "outputs": [
    {
     "data": {
      "text/plain": [
       "array([ 0.07921776, -0.36261872, -0.23872122, -0.00875992, -0.17069203,\n",
       "        0.29059423,  0.11034306, -0.27884912,  0.4654557 , -0.02147603,\n",
       "        0.06779929, -0.11895174,  0.1659198 , -0.16414777, -0.06431846,\n",
       "        0.12806833, -0.12678634, -0.03159774, -0.23551801,  0.08439857,\n",
       "       -0.09456619, -0.15296785,  0.25380562, -0.05073099, -0.02089613,\n",
       "        0.04253843,  0.18901115, -0.1205775 , -0.00540667,  0.24340973,\n",
       "       -0.91415542, -0.04135142, -0.01454753, -0.04903838,  0.10016657,\n",
       "        0.01045201, -0.03044975,  0.15831376,  0.01927306,  0.04191766,\n",
       "       -0.00606573,  0.09558249, -0.06538515, -0.04711361,  0.08575738,\n",
       "       -0.04597333,  0.12892033, -0.15039368,  0.09959709, -0.06760828,\n",
       "        0.02444813,  0.07059414, -0.07885837,  0.04744685, -0.00142663,\n",
       "        0.06534237,  0.0965083 ,  0.03595168, -0.0256773 , -0.11523349,\n",
       "        0.0651826 , -0.10328124, -0.19088715, -0.03101319,  0.28042941,\n",
       "        0.21904609, -0.03904686,  0.01179265, -0.25602528,  0.12382135,\n",
       "        0.15083592,  0.13265792, -0.33856531, -0.18131856,  0.07953051,\n",
       "        0.08893968,  0.20059594, -0.24950815,  0.05853512, -0.06516839,\n",
       "        0.22233245,  0.22286795, -0.1312124 , -0.20442687, -0.16581222,\n",
       "        0.1223011 , -0.02710865,  0.12107332, -0.29172193, -0.35384831])"
      ]
     },
     "execution_count": 143,
     "metadata": {},
     "output_type": "execute_result"
    }
   ],
   "source": [
    "get_fft_features(frame)"
   ]
  },
  {
   "cell_type": "markdown",
   "id": "9c1a5812-c368-4831-82b2-8cddf69ff315",
   "metadata": {},
   "source": [
    "#### Перевірка працездатності функціоналу ф-ї get_stat_features (чернетка)"
   ]
  },
  {
   "cell_type": "code",
   "execution_count": 144,
   "id": "d7ec40ea-b60f-4cd7-aa43-06182b2e0a0e",
   "metadata": {},
   "outputs": [
    {
     "data": {
      "text/plain": [
       "accelerometer_X   -0.323847\n",
       "accelerometer_Y    0.162237\n",
       "accelerometer_Z    2.061646\n",
       "mean_X             0.000000\n",
       "mean_Y             0.000000\n",
       "mean_Z             0.000000\n",
       "dtype: float64"
      ]
     },
     "execution_count": 144,
     "metadata": {},
     "output_type": "execute_result"
    }
   ],
   "source": [
    "frame.skew(axis=0)  # розрахунок асиметрії даних для кожного стовпця 'frame'"
   ]
  },
  {
   "cell_type": "code",
   "execution_count": 145,
   "id": "50e1356c-b2c1-4486-af9f-36a42f5ed778",
   "metadata": {},
   "outputs": [
    {
     "data": {
      "text/plain": [
       "accelerometer_X     0.134180\n",
       "accelerometer_Y     0.542627\n",
       "accelerometer_Z    10.326116\n",
       "mean_X              0.000000\n",
       "mean_Y              0.000000\n",
       "mean_Z              0.000000\n",
       "dtype: float64"
      ]
     },
     "execution_count": 145,
     "metadata": {},
     "output_type": "execute_result"
    }
   ],
   "source": [
    "frame.kurt(axis=0)  # розрахунок ексцеса для кожного стовпця 'frame'"
   ]
  },
  {
   "cell_type": "code",
   "execution_count": 146,
   "id": "9475f226-3edd-4984-a01b-baafd77d502e",
   "metadata": {},
   "outputs": [
    {
     "data": {
      "text/plain": [
       "accelerometer_X    11.113884\n",
       "accelerometer_Y     6.435614\n",
       "accelerometer_Z    32.599450\n",
       "mean_X              0.285548\n",
       "mean_Y            -10.916123\n",
       "mean_Z              0.366473\n",
       "dtype: float64"
      ]
     },
     "execution_count": 146,
     "metadata": {},
     "output_type": "execute_result"
    }
   ],
   "source": [
    "frame.max(axis=0)  # розрахунок максимального значення для кожного стовпця 'frame'"
   ]
  },
  {
   "cell_type": "code",
   "execution_count": 147,
   "id": "8a662b85-a648-4836-8b59-ab183506e851",
   "metadata": {},
   "outputs": [
    {
     "data": {
      "text/plain": [
       "accelerometer_X   -12.277467\n",
       "accelerometer_Y   -25.201366\n",
       "accelerometer_Z   -16.903065\n",
       "mean_X              0.285548\n",
       "mean_Y            -10.916123\n",
       "mean_Z              0.366473\n",
       "dtype: float64"
      ]
     },
     "execution_count": 147,
     "metadata": {},
     "output_type": "execute_result"
    }
   ],
   "source": [
    "frame.min(axis=0)  # розрахунок мінімального значення для кожного стовпця 'frame'"
   ]
  },
  {
   "cell_type": "code",
   "execution_count": 148,
   "id": "3557d3a9-63c8-4184-8e63-8caa48a66cc9",
   "metadata": {},
   "outputs": [
    {
     "data": {
      "text/plain": [
       "accelerometer_X     0.285548\n",
       "accelerometer_Y   -10.916123\n",
       "accelerometer_Z     0.366473\n",
       "mean_X              0.285548\n",
       "mean_Y            -10.916123\n",
       "mean_Z              0.366473\n",
       "dtype: float64"
      ]
     },
     "execution_count": 148,
     "metadata": {},
     "output_type": "execute_result"
    }
   ],
   "source": [
    "frame.mean(axis=0)  # розрахунок середнього значення для кожного стовпця 'frame'"
   ]
  },
  {
   "cell_type": "code",
   "execution_count": 149,
   "id": "8dd0caec-93b9-4d5e-838c-133f0b9c3c41",
   "metadata": {},
   "outputs": [
    {
     "data": {
      "text/plain": [
       "accelerometer_X    5.090906e+00\n",
       "accelerometer_Y    6.820465e+00\n",
       "accelerometer_Z    7.811986e+00\n",
       "mean_X             5.646013e-17\n",
       "mean_Y             3.613448e-15\n",
       "mean_Z             1.129203e-16\n",
       "dtype: float64"
      ]
     },
     "execution_count": 149,
     "metadata": {},
     "output_type": "execute_result"
    }
   ],
   "source": [
    "frame.std(axis=0)  # розрахунок стандартного відхилення для кожного стовпця 'frame'"
   ]
  },
  {
   "cell_type": "code",
   "execution_count": 150,
   "id": "90b154d1-49f0-4f19-baaa-1052d3dea896",
   "metadata": {},
   "outputs": [
    {
     "data": {
      "text/plain": [
       "accelerometer_X    2.591732e+01\n",
       "accelerometer_Y    4.651874e+01\n",
       "accelerometer_Z    6.102712e+01\n",
       "mean_X             3.187746e-33\n",
       "mean_Y             1.305701e-29\n",
       "mean_Z             1.275098e-32\n",
       "dtype: float64"
      ]
     },
     "execution_count": 150,
     "metadata": {},
     "output_type": "execute_result"
    }
   ],
   "source": [
    "frame.var(axis=0)  # розрахунок дисперсії (розкид даних) для кожного стовпця 'frame'"
   ]
  },
  {
   "cell_type": "code",
   "execution_count": 151,
   "id": "9201b0cb-596f-4fe9-9fa3-d5f01fab65e0",
   "metadata": {},
   "outputs": [
    {
     "data": {
      "text/plain": [
       "accelerometer_X    18\n",
       "accelerometer_Y    25\n",
       "accelerometer_Z    11\n",
       "mean_X              0\n",
       "mean_Y              0\n",
       "mean_Z              0\n",
       "dtype: int64"
      ]
     },
     "execution_count": 151,
     "metadata": {},
     "output_type": "execute_result"
    }
   ],
   "source": [
    "frame.idxmax(axis=0)  #  індекс першого входження максимального значення для кожного стовпця 'frame'"
   ]
  },
  {
   "cell_type": "code",
   "execution_count": 152,
   "id": "84ce50c0-948d-4b72-a4ef-6065a875960a",
   "metadata": {},
   "outputs": [
    {
     "data": {
      "text/plain": [
       "accelerometer_X    25\n",
       "accelerometer_Y     4\n",
       "accelerometer_Z     4\n",
       "mean_X              0\n",
       "mean_Y              0\n",
       "mean_Z              0\n",
       "dtype: int64"
      ]
     },
     "execution_count": 152,
     "metadata": {},
     "output_type": "execute_result"
    }
   ],
   "source": [
    "frame.idxmin(axis=0)  #  індекс першого входження мінімального значення для кожного стовпця 'frame'"
   ]
  },
  {
   "cell_type": "markdown",
   "id": "54192413-e12c-4975-916c-40e26c1dd139",
   "metadata": {},
   "source": [
    "#### Функції для створення масивів NumPy з різними даними"
   ]
  },
  {
   "cell_type": "code",
   "execution_count": 154,
   "id": "04ece327-fda1-4e8b-8dc6-0033c01d1733",
   "metadata": {},
   "outputs": [],
   "source": [
    "# Створимо другу ф-ю, яка виконуватиме підготовку даних\n",
    "def class_data_stat_fft_prepare(class_name, class_number):\n",
    "    \"\"\"\n",
    "    Створення двох масивів NumPy: \n",
    "    Х - з розрахованими на основі датасету часовими ознаками та нормалізованими коефіцієнтами швидкого перетворення Фур'є;\n",
    "    у - з мітками (\"class_number\")\n",
    "    \"\"\"\n",
    "\n",
    "    path = join(mypath, class_name)  # формування шляху до директорії певного класу даних\n",
    "    X = []\n",
    "    for item in listdir(path):  # ітерація по файлам в \"path\"\n",
    "        frame = pd.read_csv(join(path, item)) # кожний файл зчитується\n",
    "        features_stat = get_stat_features(frame)  # розрахунок всіх часових ознак\n",
    "        features_fft = get_fft_features(frame)  # розрахунок коефіцієнтів швидкого перетворення Фур'є та їх нормалізація\n",
    "        features = np.concatenate((features_stat, features_fft), axis=0)\n",
    "        X.append(features)\n",
    "\n",
    "    y = [class_number]*len(X)  # створення списку однакових значень \"class_number\" довжиною \"len(X)\"\n",
    "    X = np.array(X)  # перетворення списку в масив NumPy\n",
    "    y = np.array(y)  # перетворення списку в масив NumPy\n",
    "    return X, y"
   ]
  },
  {
   "cell_type": "code",
   "execution_count": 155,
   "id": "9b50797e-6e66-491e-ac58-907ab5ee04f0",
   "metadata": {},
   "outputs": [],
   "source": [
    "# Створимо третю ф-ю, яка виконуватиме підготовку даних\n",
    "def class_data_fft_prepare(class_name, class_number):\n",
    "    \"\"\"\n",
    "    Створення двох масивів NumPy: \n",
    "    Х - з розрахованими на основі датасету нормалізованими коефіцієнтами швидкого перетворення Фур'є;\n",
    "    у - з мітками (\"class_number\")\n",
    "    \"\"\"\n",
    "    \n",
    "    path = join(mypath, class_name)  # формування шляху до директорії певного класу даних\n",
    "    X = []\n",
    "    for item in listdir(path):  # ітерація по файлам в \"path\"\n",
    "        frame = pd.read_csv(join(path, item)) # кожний файл зчитується\n",
    "        features = get_fft_features(frame)  # розрахунок коефіцієнтів швидкого перетворення Фур'є та їх нормалізація\n",
    "        X.append(features)\n",
    "\n",
    "    y = [class_number]*len(X)  # створення списку однакових значень \"class_number\" довжиною \"len(X)\"\n",
    "    X = np.array(X)  # перетворення списку в масив NumPy\n",
    "    y = np.array(y)  # перетворення списку в масив NumPy\n",
    "    return X, y"
   ]
  },
  {
   "cell_type": "code",
   "execution_count": 156,
   "id": "2936905c-cf67-41ef-94ff-9e4263bfd3d0",
   "metadata": {},
   "outputs": [],
   "source": [
    "# Створимо четверту ф-ю, яка виконуватиме підготовку даних\n",
    "def class_data_stat_prepare(class_name, class_number):\n",
    "    \"\"\"\n",
    "    Створення двох масивів NumPy: \n",
    "    Х - з розрахованими на основі датасету зі статистичними ознаками;\n",
    "    у - з мітками (\"class_number\")\n",
    "    \"\"\"\n",
    "    \n",
    "    path = join(mypath, class_name)  # формування шляху до директорії певного класу даних\n",
    "    X = []\n",
    "    for item in listdir(path):  # ітерація по файлам в \"path\"\n",
    "        frame = pd.read_csv(join(path, item)) # кожний файл зчитується\n",
    "        features = get_stat_features(frame)  # розрахунок статистичних ознак\n",
    "        X.append(features)\n",
    "\n",
    "    y = [class_number]*len(X)  # створення списку однакових значень \"class_number\" довжиною \"len(X)\"\n",
    "    X = np.array(X)  # перетворення списку в масив NumPy\n",
    "    y = np.array(y)  # перетворення списку в масив NumPy\n",
    "    return X, y"
   ]
  },
  {
   "cell_type": "markdown",
   "id": "373286ab-5961-4de1-a833-8ec592156353",
   "metadata": {},
   "source": [
    "#### Створення датасету"
   ]
  },
  {
   "cell_type": "code",
   "execution_count": 157,
   "id": "02c7a825-7d57-4306-9c74-d9cadb08cbbe",
   "metadata": {},
   "outputs": [],
   "source": [
    "# Створимо ф-ю, яка створюватиме масив даних та масив міток (номерів класів даних - від 0 до 3), використовуючи одну з 4х вище написаних ф-й\n",
    "def create_dataset(class_prepare):\n",
    "\n",
    "    X_idle, y_idle = class_prepare('idle', 0)\n",
    "    X_walking, y_walking = class_prepare('walking', 1)\n",
    "    X_stairs, y_stairs = class_prepare('stairs', 2)\n",
    "    X_running, y_running = class_prepare('running', 3)\n",
    "\n",
    "    X = np.concatenate((X_idle, X_walking), axis=0)\n",
    "    X = np.concatenate((X, X_stairs), axis=0)\n",
    "    X = np.concatenate((X, X_running), axis=0)\n",
    "\n",
    "    Y = np.concatenate((y_idle, y_walking))\n",
    "    Y = np.concatenate((Y, y_stairs))\n",
    "    Y = np.concatenate((Y, y_running))\n",
    "\n",
    "    return X, Y"
   ]
  },
  {
   "cell_type": "code",
   "execution_count": 158,
   "id": "2fca9eef-76f2-47c7-9fe5-fe0bd25c161d",
   "metadata": {},
   "outputs": [],
   "source": [
    "# Створимо масив даних на основі статистичних ознак та з номерними мітками\n",
    "X_stat, Y_stat = create_dataset(class_data_stat_prepare)\n",
    "\n",
    "# Запишемо отримані дані у файли в бінарному форматі\n",
    "import pickle\n",
    "with open('stat_data_X.pickle', 'wb') as f:\n",
    "    pickle.dump(X_stat, f)\n",
    "\n",
    "with open('stat_data_Y.pickle', 'wb') as f:\n",
    "    pickle.dump(Y_stat, f)"
   ]
  },
  {
   "cell_type": "code",
   "execution_count": 159,
   "id": "35d49e6c-aa0b-4c26-84cd-915113bd017a",
   "metadata": {},
   "outputs": [
    {
     "data": {
      "text/plain": [
       "array([[ 4.04430764,  3.64747035, -2.36531183, ...,  1.01894178,\n",
       "         1.13814657,  0.40006418],\n",
       "       [ 2.30067561,  0.56822274, -2.40992225, ...,  0.12373242,\n",
       "         0.04725101,  0.02499156],\n",
       "       [ 0.60425841, -1.27292011, -0.09747658, ...,  0.01537931,\n",
       "         0.01610751,  0.01428421],\n",
       "       ...,\n",
       "       [-0.11333213,  0.11486419,  0.6462055 , ...,  9.17270206,\n",
       "        11.42746342,  7.20864106],\n",
       "       [ 0.15870895,  0.20634991,  1.59898321, ...,  8.31015509,\n",
       "        11.28133316,  9.34949964],\n",
       "       [ 0.15289451,  0.20889288,  1.48055216, ...,  8.32459024,\n",
       "        11.16749279,  9.48298175]])"
      ]
     },
     "execution_count": 159,
     "metadata": {},
     "output_type": "execute_result"
    }
   ],
   "source": [
    "X_stat"
   ]
  },
  {
   "cell_type": "code",
   "execution_count": 160,
   "id": "97a0ee06-a4a9-4dd9-8068-d5691fe9d8f6",
   "metadata": {},
   "outputs": [
    {
     "data": {
      "text/plain": [
       "array([0, 0, 0, ..., 3, 3, 3])"
      ]
     },
     "execution_count": 160,
     "metadata": {},
     "output_type": "execute_result"
    }
   ],
   "source": [
    "Y_stat"
   ]
  },
  {
   "cell_type": "code",
   "execution_count": 161,
   "id": "0082d11e-8b5f-47f9-b3b9-f80d39f5a9c9",
   "metadata": {},
   "outputs": [],
   "source": [
    "# Створимо масив даних на основі перетворення Фур'є та з номерними мітками\n",
    "X_fft, Y_fft = create_dataset(class_data_fft_prepare)\n",
    "\n",
    "# Запишемо отримані дані у файли в бінарному форматі\n",
    "with open('fft_data_X.pickle', 'wb') as f:\n",
    "    pickle.dump(X_fft, f)\n",
    "\n",
    "with open('fft_data_Y.pickle', 'wb') as f:\n",
    "    pickle.dump(Y_fft, f)"
   ]
  },
  {
   "cell_type": "code",
   "execution_count": 162,
   "id": "d06867f9-befd-43ca-bee6-a33098c4f4e2",
   "metadata": {},
   "outputs": [
    {
     "data": {
      "text/plain": [
       "array([[ 2.38227099e-01,  2.97848393e-01, -1.77686579e-01, ...,\n",
       "         7.48720238e-04,  1.76652916e-03,  9.13509330e-04],\n",
       "       [-7.44333032e-01,  6.58117188e-02, -7.76931362e-02, ...,\n",
       "         1.17151312e-04, -4.27179315e-04, -3.26697109e-04],\n",
       "       [-9.93968876e-01, -1.48712954e-02,  5.41564486e-03, ...,\n",
       "         1.89190319e-04, -3.25180079e-04,  8.16979087e-05],\n",
       "       ...,\n",
       "       [ 4.94501867e-01, -2.19979802e-01, -4.19612638e-02, ...,\n",
       "         1.09872833e-01, -4.99230168e-02, -4.25208043e-01],\n",
       "       [ 5.89314956e-01, -9.84167445e-02, -1.11841867e-01, ...,\n",
       "        -5.52941061e-02, -4.35714065e-02, -4.42128223e-01],\n",
       "       [ 5.91829128e-01, -4.71910009e-02, -1.36855263e-01, ...,\n",
       "        -3.06142176e-02, -3.21755312e-02, -3.95902853e-01]])"
      ]
     },
     "execution_count": 162,
     "metadata": {},
     "output_type": "execute_result"
    }
   ],
   "source": [
    "X_fft"
   ]
  },
  {
   "cell_type": "code",
   "execution_count": 163,
   "id": "cf29feed-3203-43ef-bede-3946019e0273",
   "metadata": {},
   "outputs": [
    {
     "data": {
      "text/plain": [
       "array([0, 0, 0, ..., 3, 3, 3])"
      ]
     },
     "execution_count": 163,
     "metadata": {},
     "output_type": "execute_result"
    }
   ],
   "source": [
    "Y_fft"
   ]
  },
  {
   "cell_type": "code",
   "execution_count": 164,
   "id": "80a73864-aaf5-44ae-b692-69e175aa018d",
   "metadata": {},
   "outputs": [],
   "source": [
    "# Створимо масив даних на основі часових ознак та номерних міток\n",
    "X_fft_stat, Y_fft_stat = create_dataset(class_data_stat_fft_prepare)\n",
    "\n",
    "# Запишемо отримані дані у файли в бінарному форматі\n",
    "with open('fft_stat_data_X.pickle', 'wb') as f:\n",
    "    pickle.dump(X_fft_stat, f)\n",
    "\n",
    "with open('fft_stat_data_Y.pickle', 'wb') as f:\n",
    "    pickle.dump(Y_fft_stat, f)"
   ]
  },
  {
   "cell_type": "code",
   "execution_count": 165,
   "id": "d67792a9-bcfa-4a63-97cd-0923d76cc376",
   "metadata": {},
   "outputs": [
    {
     "data": {
      "text/plain": [
       "array([[ 4.04430764e+00,  3.64747035e+00, -2.36531183e+00, ...,\n",
       "         7.48720238e-04,  1.76652916e-03,  9.13509330e-04],\n",
       "       [ 2.30067561e+00,  5.68222742e-01, -2.40992225e+00, ...,\n",
       "         1.17151312e-04, -4.27179315e-04, -3.26697109e-04],\n",
       "       [ 6.04258414e-01, -1.27292011e+00, -9.74765802e-02, ...,\n",
       "         1.89190319e-04, -3.25180079e-04,  8.16979087e-05],\n",
       "       ...,\n",
       "       [-1.13332133e-01,  1.14864190e-01,  6.46205498e-01, ...,\n",
       "         1.09872833e-01, -4.99230168e-02, -4.25208043e-01],\n",
       "       [ 1.58708946e-01,  2.06349906e-01,  1.59898321e+00, ...,\n",
       "        -5.52941061e-02, -4.35714065e-02, -4.42128223e-01],\n",
       "       [ 1.52894505e-01,  2.08892875e-01,  1.48055216e+00, ...,\n",
       "        -3.06142176e-02, -3.21755312e-02, -3.95902853e-01]])"
      ]
     },
     "execution_count": 165,
     "metadata": {},
     "output_type": "execute_result"
    }
   ],
   "source": [
    "X_fft_stat"
   ]
  },
  {
   "cell_type": "code",
   "execution_count": 166,
   "id": "6c89e933-e266-4f92-b0d8-fb9087bcda05",
   "metadata": {},
   "outputs": [
    {
     "data": {
      "text/plain": [
       "array([0, 0, 0, ..., 3, 3, 3])"
      ]
     },
     "execution_count": 166,
     "metadata": {},
     "output_type": "execute_result"
    }
   ],
   "source": [
    "Y_fft_stat"
   ]
  },
  {
   "cell_type": "markdown",
   "id": "c70170bf-d786-4cfb-b76a-7aff49da7278",
   "metadata": {},
   "source": [
    "#### Завантаження датасету"
   ]
  },
  {
   "cell_type": "code",
   "execution_count": 167,
   "id": "a9eb4b87-b540-4934-aaa7-ad12ccc6ed54",
   "metadata": {},
   "outputs": [],
   "source": [
    "# Ф-я завантаження датасету. Приймає аргумент: 'fft', 'stat' або 'fft_stat'\n",
    "def open_data_set(flag):\n",
    "    name = flag + '_data_'\n",
    "    \n",
    "    with open(name + 'X.pickle', 'rb') as f:\n",
    "        X = pickle.load(f)\n",
    "    with open(name + 'Y.pickle', 'rb') as f:\n",
    "        Y = pickle.load(f)\n",
    "    return X, Y"
   ]
  },
  {
   "cell_type": "code",
   "execution_count": 168,
   "id": "6726ae13-d73c-48be-8d80-d8a633604d4e",
   "metadata": {},
   "outputs": [
    {
     "data": {
      "text/plain": [
       "True"
      ]
     },
     "execution_count": 168,
     "metadata": {},
     "output_type": "execute_result"
    }
   ],
   "source": [
    "# Перевіримо, що завантажений датасет дорівнює оригіналу\n",
    "# Завантажимо датасет 'fft_data_Y.pickle'\n",
    "X, Y = open_data_set('fft')\n",
    "# Перевірка коректності роботи завантажувача pickle\n",
    "np.array_equal(X, X_fft)  # перевірка однаковості"
   ]
  },
  {
   "cell_type": "code",
   "execution_count": 169,
   "id": "ad55e9cf-354d-42fe-beae-4f2fe2a5b1d3",
   "metadata": {},
   "outputs": [],
   "source": [
    "# Створимо ф-ю для підрахунку кількості індексів класів\n",
    "def make_report(y_test_proba, y_test):\n",
    "\n",
    "    idle_test = 0\n",
    "    walking_test = 0\n",
    "    stairs_test = 0\n",
    "    running_test = 0\n",
    "\n",
    "    for i in y_test_proba:\n",
    "        if i == 0:\n",
    "            idle_test += 1\n",
    "        elif i == 1:\n",
    "            walking_test += 1\n",
    "        elif i == 2:\n",
    "            stairs_test += 1\n",
    "        elif i == 3:\n",
    "            running_test += 1\n",
    "\n",
    "    idle_pred = 0\n",
    "    walking_pred = 0\n",
    "    stairs_pred = 0\n",
    "    running_pred = 0\n",
    "\n",
    "    for i in y_test_proba:\n",
    "        if i == 0:\n",
    "            idle_pred += 1\n",
    "        elif i == 1:\n",
    "            walking_pred += 1\n",
    "        elif i == 2:\n",
    "            stairs_pred += 1\n",
    "        elif i == 3:\n",
    "            running_pred += 1\n",
    "\n",
    "    print(f'idle test -- {idle_test} pred -- {idle_pred}')\n",
    "    print(f'walking test -- {walking_test} pred -- {walking_pred}')\n",
    "    print(f'stairs test -- {stairs_test} pred -- {stairs_pred}')\n",
    "    print(f'running test -- {running_test} pred -- {running_pred}')"
   ]
  },
  {
   "cell_type": "markdown",
   "id": "714b313f-ad5e-46cd-b146-4c8d1cba88a5",
   "metadata": {},
   "source": [
    "## 3. Класифікація методом опорних векторів SVM (Support Vector Machine)"
   ]
  },
  {
   "cell_type": "markdown",
   "id": "4eb32650-7f5e-4885-b000-15865797c06f",
   "metadata": {},
   "source": [
    "### 3.1. SVM stat"
   ]
  },
  {
   "cell_type": "code",
   "execution_count": 170,
   "id": "1292c712-42b9-4a56-b5a0-df95120553dd",
   "metadata": {},
   "outputs": [],
   "source": [
    "from sklearn.model_selection import cross_val_score  # оцінювання продуктивності моделі з використанням крос-валідації\n",
    "from sklearn.metrics import f1_score, accuracy_score  # розрахунок метрик якості моделі\n",
    "from sklearn import svm"
   ]
  },
  {
   "cell_type": "code",
   "execution_count": 171,
   "id": "b7311c2a-0f71-42cf-9a20-9b2e9b08baaf",
   "metadata": {},
   "outputs": [],
   "source": [
    "# Завантажимо датасет 'stat_data_Y.pickle'\n",
    "X, Y = open_data_set('stat')\n",
    "\n",
    "# Розіб'ємо завантажені дані на навчальну і тестову частини\n",
    "from sklearn import model_selection\n",
    "X_train, X_test, y_train, y_test = model_selection.train_test_split(X, Y, test_size=0.3)"
   ]
  },
  {
   "cell_type": "markdown",
   "id": "f64e7079-6bd7-4f71-97b1-5b92a4d1bc23",
   "metadata": {},
   "source": [
    "### 3.1.1. SVM gamma=0.01"
   ]
  },
  {
   "cell_type": "code",
   "execution_count": 172,
   "id": "a6fdd47f-2797-4a64-af98-2d6c8568efe2",
   "metadata": {},
   "outputs": [],
   "source": [
    "# Створимо класифікатор для багатокласової класифікації з gamma=0.01\n",
    "classifier = svm.SVC(decision_function_shape='ovo', kernel='rbf', gamma=0.01, probability=True)\n",
    "# 'svm.SVC' - створення об'єкта класифікатора\n",
    "# \"decision_function_shape='ovo'\" - використовується метод \"one-vs-one\"\n",
    "# \"kernel='rbf'\" - задає використання радіально-базової функції (Radial Basis Function, RBF) як ядро SVM\n",
    "# \"gamma=0.01\" - параметр, який впливає на форму гіперповерхні рішення\n",
    "# \"probability=True\" - вказує, що класифікатор повинен надавати оцінки ймовірності кожного класу при виклику методу predict_proba"
   ]
  },
  {
   "cell_type": "code",
   "execution_count": 173,
   "id": "75bd6b7a-73ff-4318-bd8a-c2ea322b1c3f",
   "metadata": {},
   "outputs": [
    {
     "data": {
      "text/html": [
       "<style>#sk-container-id-14 {color: black;}#sk-container-id-14 pre{padding: 0;}#sk-container-id-14 div.sk-toggleable {background-color: white;}#sk-container-id-14 label.sk-toggleable__label {cursor: pointer;display: block;width: 100%;margin-bottom: 0;padding: 0.3em;box-sizing: border-box;text-align: center;}#sk-container-id-14 label.sk-toggleable__label-arrow:before {content: \"▸\";float: left;margin-right: 0.25em;color: #696969;}#sk-container-id-14 label.sk-toggleable__label-arrow:hover:before {color: black;}#sk-container-id-14 div.sk-estimator:hover label.sk-toggleable__label-arrow:before {color: black;}#sk-container-id-14 div.sk-toggleable__content {max-height: 0;max-width: 0;overflow: hidden;text-align: left;background-color: #f0f8ff;}#sk-container-id-14 div.sk-toggleable__content pre {margin: 0.2em;color: black;border-radius: 0.25em;background-color: #f0f8ff;}#sk-container-id-14 input.sk-toggleable__control:checked~div.sk-toggleable__content {max-height: 200px;max-width: 100%;overflow: auto;}#sk-container-id-14 input.sk-toggleable__control:checked~label.sk-toggleable__label-arrow:before {content: \"▾\";}#sk-container-id-14 div.sk-estimator input.sk-toggleable__control:checked~label.sk-toggleable__label {background-color: #d4ebff;}#sk-container-id-14 div.sk-label input.sk-toggleable__control:checked~label.sk-toggleable__label {background-color: #d4ebff;}#sk-container-id-14 input.sk-hidden--visually {border: 0;clip: rect(1px 1px 1px 1px);clip: rect(1px, 1px, 1px, 1px);height: 1px;margin: -1px;overflow: hidden;padding: 0;position: absolute;width: 1px;}#sk-container-id-14 div.sk-estimator {font-family: monospace;background-color: #f0f8ff;border: 1px dotted black;border-radius: 0.25em;box-sizing: border-box;margin-bottom: 0.5em;}#sk-container-id-14 div.sk-estimator:hover {background-color: #d4ebff;}#sk-container-id-14 div.sk-parallel-item::after {content: \"\";width: 100%;border-bottom: 1px solid gray;flex-grow: 1;}#sk-container-id-14 div.sk-label:hover label.sk-toggleable__label {background-color: #d4ebff;}#sk-container-id-14 div.sk-serial::before {content: \"\";position: absolute;border-left: 1px solid gray;box-sizing: border-box;top: 0;bottom: 0;left: 50%;z-index: 0;}#sk-container-id-14 div.sk-serial {display: flex;flex-direction: column;align-items: center;background-color: white;padding-right: 0.2em;padding-left: 0.2em;position: relative;}#sk-container-id-14 div.sk-item {position: relative;z-index: 1;}#sk-container-id-14 div.sk-parallel {display: flex;align-items: stretch;justify-content: center;background-color: white;position: relative;}#sk-container-id-14 div.sk-item::before, #sk-container-id-14 div.sk-parallel-item::before {content: \"\";position: absolute;border-left: 1px solid gray;box-sizing: border-box;top: 0;bottom: 0;left: 50%;z-index: -1;}#sk-container-id-14 div.sk-parallel-item {display: flex;flex-direction: column;z-index: 1;position: relative;background-color: white;}#sk-container-id-14 div.sk-parallel-item:first-child::after {align-self: flex-end;width: 50%;}#sk-container-id-14 div.sk-parallel-item:last-child::after {align-self: flex-start;width: 50%;}#sk-container-id-14 div.sk-parallel-item:only-child::after {width: 0;}#sk-container-id-14 div.sk-dashed-wrapped {border: 1px dashed gray;margin: 0 0.4em 0.5em 0.4em;box-sizing: border-box;padding-bottom: 0.4em;background-color: white;}#sk-container-id-14 div.sk-label label {font-family: monospace;font-weight: bold;display: inline-block;line-height: 1.2em;}#sk-container-id-14 div.sk-label-container {text-align: center;}#sk-container-id-14 div.sk-container {/* jupyter's `normalize.less` sets `[hidden] { display: none; }` but bootstrap.min.css set `[hidden] { display: none !important; }` so we also need the `!important` here to be able to override the default hidden behavior on the sphinx rendered scikit-learn.org. See: https://github.com/scikit-learn/scikit-learn/issues/21755 */display: inline-block !important;position: relative;}#sk-container-id-14 div.sk-text-repr-fallback {display: none;}</style><div id=\"sk-container-id-14\" class=\"sk-top-container\"><div class=\"sk-text-repr-fallback\"><pre>SVC(decision_function_shape=&#x27;ovo&#x27;, gamma=0.01, probability=True)</pre><b>In a Jupyter environment, please rerun this cell to show the HTML representation or trust the notebook. <br />On GitHub, the HTML representation is unable to render, please try loading this page with nbviewer.org.</b></div><div class=\"sk-container\" hidden><div class=\"sk-item\"><div class=\"sk-estimator sk-toggleable\"><input class=\"sk-toggleable__control sk-hidden--visually\" id=\"sk-estimator-id-14\" type=\"checkbox\" checked><label for=\"sk-estimator-id-14\" class=\"sk-toggleable__label sk-toggleable__label-arrow\">SVC</label><div class=\"sk-toggleable__content\"><pre>SVC(decision_function_shape=&#x27;ovo&#x27;, gamma=0.01, probability=True)</pre></div></div></div></div></div>"
      ],
      "text/plain": [
       "SVC(decision_function_shape='ovo', gamma=0.01, probability=True)"
      ]
     },
     "execution_count": 173,
     "metadata": {},
     "output_type": "execute_result"
    }
   ],
   "source": [
    "# Проведемо навчання класифікатора на навчальній вибірці підготовлених даних но основі часових ознак\n",
    "classifier.fit(X_train, y_train)"
   ]
  },
  {
   "cell_type": "code",
   "execution_count": 174,
   "id": "a18015c6-40bb-434a-b002-39d43dede5d4",
   "metadata": {},
   "outputs": [
    {
     "data": {
      "text/plain": [
       "0.8489988083377288"
      ]
     },
     "execution_count": 174,
     "metadata": {},
     "output_type": "execute_result"
    }
   ],
   "source": [
    "# Оцінимо продуктивність моделі з використанням крос-валідації\n",
    "scores = cross_val_score(classifier, X_train, y_train, cv=10)  # cv=10 - к-ть фолдів (10-ти кратна крос-валідація)\n",
    "scores.mean()  # середнє значення продуктивності"
   ]
  },
  {
   "cell_type": "code",
   "execution_count": 175,
   "id": "50fc9b3d-a4d7-406b-a900-c28df20ba1a3",
   "metadata": {},
   "outputs": [
    {
     "data": {
      "text/plain": [
       "0.9788550799381124"
      ]
     },
     "execution_count": 175,
     "metadata": {},
     "output_type": "execute_result"
    }
   ],
   "source": [
    "# Перевіримо точність передбачень на тестовій вибірці\n",
    "y_test_proba = classifier.predict_proba(X_test)  # ймовірність приналежності до класів для кожного об'єкта у тестовому наборі\n",
    "y_test_proba = np.argmax(y_test_proba, axis=1)  # вибір індексу з найвищою ймовірністю (тобто класу з найвищою ймовірністю) для кожного об'єкта у тестовому наборі\n",
    "accuracy = accuracy_score(y_test, y_test_proba)  # порівнює фактичні мітки (y_test) з передбаченими мітками (y_test_proba) і обчислює точність передбачення\n",
    "accuracy"
   ]
  },
  {
   "cell_type": "code",
   "execution_count": 176,
   "id": "368c6fea-3c9e-4992-95ad-af836fd6dc53",
   "metadata": {},
   "outputs": [
    {
     "name": "stdout",
     "output_type": "stream",
     "text": [
      "idle test -- 302 pred -- 302\n",
      "walking test -- 540 pred -- 540\n",
      "stairs test -- 49 pred -- 49\n",
      "running test -- 1048 pred -- 1048\n"
     ]
    }
   ],
   "source": [
    "make_report(y_test_proba, y_test)"
   ]
  },
  {
   "cell_type": "markdown",
   "id": "6a0f8429-b9d3-4f3c-a2f3-bb8f2ada1140",
   "metadata": {},
   "source": [
    "### 3.1.2. SVM gamma='scale'"
   ]
  },
  {
   "cell_type": "code",
   "execution_count": 177,
   "id": "3b5998cf-96f0-4abf-89bd-9a0ebff29fc3",
   "metadata": {},
   "outputs": [
    {
     "data": {
      "text/html": [
       "<style>#sk-container-id-15 {color: black;}#sk-container-id-15 pre{padding: 0;}#sk-container-id-15 div.sk-toggleable {background-color: white;}#sk-container-id-15 label.sk-toggleable__label {cursor: pointer;display: block;width: 100%;margin-bottom: 0;padding: 0.3em;box-sizing: border-box;text-align: center;}#sk-container-id-15 label.sk-toggleable__label-arrow:before {content: \"▸\";float: left;margin-right: 0.25em;color: #696969;}#sk-container-id-15 label.sk-toggleable__label-arrow:hover:before {color: black;}#sk-container-id-15 div.sk-estimator:hover label.sk-toggleable__label-arrow:before {color: black;}#sk-container-id-15 div.sk-toggleable__content {max-height: 0;max-width: 0;overflow: hidden;text-align: left;background-color: #f0f8ff;}#sk-container-id-15 div.sk-toggleable__content pre {margin: 0.2em;color: black;border-radius: 0.25em;background-color: #f0f8ff;}#sk-container-id-15 input.sk-toggleable__control:checked~div.sk-toggleable__content {max-height: 200px;max-width: 100%;overflow: auto;}#sk-container-id-15 input.sk-toggleable__control:checked~label.sk-toggleable__label-arrow:before {content: \"▾\";}#sk-container-id-15 div.sk-estimator input.sk-toggleable__control:checked~label.sk-toggleable__label {background-color: #d4ebff;}#sk-container-id-15 div.sk-label input.sk-toggleable__control:checked~label.sk-toggleable__label {background-color: #d4ebff;}#sk-container-id-15 input.sk-hidden--visually {border: 0;clip: rect(1px 1px 1px 1px);clip: rect(1px, 1px, 1px, 1px);height: 1px;margin: -1px;overflow: hidden;padding: 0;position: absolute;width: 1px;}#sk-container-id-15 div.sk-estimator {font-family: monospace;background-color: #f0f8ff;border: 1px dotted black;border-radius: 0.25em;box-sizing: border-box;margin-bottom: 0.5em;}#sk-container-id-15 div.sk-estimator:hover {background-color: #d4ebff;}#sk-container-id-15 div.sk-parallel-item::after {content: \"\";width: 100%;border-bottom: 1px solid gray;flex-grow: 1;}#sk-container-id-15 div.sk-label:hover label.sk-toggleable__label {background-color: #d4ebff;}#sk-container-id-15 div.sk-serial::before {content: \"\";position: absolute;border-left: 1px solid gray;box-sizing: border-box;top: 0;bottom: 0;left: 50%;z-index: 0;}#sk-container-id-15 div.sk-serial {display: flex;flex-direction: column;align-items: center;background-color: white;padding-right: 0.2em;padding-left: 0.2em;position: relative;}#sk-container-id-15 div.sk-item {position: relative;z-index: 1;}#sk-container-id-15 div.sk-parallel {display: flex;align-items: stretch;justify-content: center;background-color: white;position: relative;}#sk-container-id-15 div.sk-item::before, #sk-container-id-15 div.sk-parallel-item::before {content: \"\";position: absolute;border-left: 1px solid gray;box-sizing: border-box;top: 0;bottom: 0;left: 50%;z-index: -1;}#sk-container-id-15 div.sk-parallel-item {display: flex;flex-direction: column;z-index: 1;position: relative;background-color: white;}#sk-container-id-15 div.sk-parallel-item:first-child::after {align-self: flex-end;width: 50%;}#sk-container-id-15 div.sk-parallel-item:last-child::after {align-self: flex-start;width: 50%;}#sk-container-id-15 div.sk-parallel-item:only-child::after {width: 0;}#sk-container-id-15 div.sk-dashed-wrapped {border: 1px dashed gray;margin: 0 0.4em 0.5em 0.4em;box-sizing: border-box;padding-bottom: 0.4em;background-color: white;}#sk-container-id-15 div.sk-label label {font-family: monospace;font-weight: bold;display: inline-block;line-height: 1.2em;}#sk-container-id-15 div.sk-label-container {text-align: center;}#sk-container-id-15 div.sk-container {/* jupyter's `normalize.less` sets `[hidden] { display: none; }` but bootstrap.min.css set `[hidden] { display: none !important; }` so we also need the `!important` here to be able to override the default hidden behavior on the sphinx rendered scikit-learn.org. See: https://github.com/scikit-learn/scikit-learn/issues/21755 */display: inline-block !important;position: relative;}#sk-container-id-15 div.sk-text-repr-fallback {display: none;}</style><div id=\"sk-container-id-15\" class=\"sk-top-container\"><div class=\"sk-text-repr-fallback\"><pre>SVC(decision_function_shape=&#x27;ovo&#x27;, probability=True)</pre><b>In a Jupyter environment, please rerun this cell to show the HTML representation or trust the notebook. <br />On GitHub, the HTML representation is unable to render, please try loading this page with nbviewer.org.</b></div><div class=\"sk-container\" hidden><div class=\"sk-item\"><div class=\"sk-estimator sk-toggleable\"><input class=\"sk-toggleable__control sk-hidden--visually\" id=\"sk-estimator-id-15\" type=\"checkbox\" checked><label for=\"sk-estimator-id-15\" class=\"sk-toggleable__label sk-toggleable__label-arrow\">SVC</label><div class=\"sk-toggleable__content\"><pre>SVC(decision_function_shape=&#x27;ovo&#x27;, probability=True)</pre></div></div></div></div></div>"
      ],
      "text/plain": [
       "SVC(decision_function_shape='ovo', probability=True)"
      ]
     },
     "execution_count": 177,
     "metadata": {},
     "output_type": "execute_result"
    }
   ],
   "source": [
    "# Створимо класифікатор для багатокласової класифікації з gamma='scale' (параметр за замовчуванням) (атвоматичне масштабування gamma) \n",
    "classifier = svm.SVC(decision_function_shape='ovo', probability=True)\n",
    "# Проведемо навчання класифікатора на навчальній вибірці підготовлених даних но основі часових ознак\n",
    "classifier.fit(X_train, y_train)"
   ]
  },
  {
   "cell_type": "code",
   "execution_count": 178,
   "id": "9285e839-98ea-45fc-a0b6-0bfa6d7cd2ef",
   "metadata": {},
   "outputs": [
    {
     "data": {
      "text/plain": [
       "0.975679833557991"
      ]
     },
     "execution_count": 178,
     "metadata": {},
     "output_type": "execute_result"
    }
   ],
   "source": [
    "# Оцінимо продуктивність моделі з використанням крос-валідації\n",
    "scores = cross_val_score(classifier, X_train, y_train, cv=10)  # cv=10 - к-ть фолдів (10-ти кратна крос-валідація)\n",
    "scores.mean()"
   ]
  },
  {
   "cell_type": "code",
   "execution_count": 179,
   "id": "3d9be75a-940f-441a-8c38-012c23f09a94",
   "metadata": {},
   "outputs": [
    {
     "data": {
      "text/plain": [
       "0.9855595667870036"
      ]
     },
     "execution_count": 179,
     "metadata": {},
     "output_type": "execute_result"
    }
   ],
   "source": [
    "# Перевіримо точність передбачень на тестовій вибірці\n",
    "y_test_proba = classifier.predict_proba(X_test)  # ймовірність приналежності до класів для кожного об'єкта у тестовому наборі\n",
    "y_test_proba = np.argmax(y_test_proba, axis=1)  # вибір індексу з найвищою ймовірністю (тобто класу з найвищою ймовірністю) для кожного об'єкта у тестовому наборі\n",
    "accuracy = accuracy_score(y_test, y_test_proba)  # порівнює фактичні мітки (y_test) з передбаченими мітками (y_test_proba) і обчислює точність передбачення\n",
    "accuracy"
   ]
  },
  {
   "cell_type": "code",
   "execution_count": 180,
   "id": "6fcb4592-cd65-4d3d-bb43-957947626e3b",
   "metadata": {},
   "outputs": [
    {
     "name": "stdout",
     "output_type": "stream",
     "text": [
      "idle test -- 310 pred -- 310\n",
      "walking test -- 562 pred -- 562\n",
      "stairs test -- 57 pred -- 57\n",
      "running test -- 1010 pred -- 1010\n"
     ]
    }
   ],
   "source": [
    "make_report(y_test_proba, y_test)"
   ]
  },
  {
   "cell_type": "markdown",
   "id": "b8c252ad-ada8-4e30-ae96-28f0f07e8a0c",
   "metadata": {},
   "source": [
    "### 3.1.3. SVM kernel='linear'"
   ]
  },
  {
   "cell_type": "code",
   "execution_count": 181,
   "id": "5f9a0e45-c285-4bfa-a7dd-0c06939e4a1e",
   "metadata": {},
   "outputs": [
    {
     "data": {
      "text/html": [
       "<style>#sk-container-id-16 {color: black;}#sk-container-id-16 pre{padding: 0;}#sk-container-id-16 div.sk-toggleable {background-color: white;}#sk-container-id-16 label.sk-toggleable__label {cursor: pointer;display: block;width: 100%;margin-bottom: 0;padding: 0.3em;box-sizing: border-box;text-align: center;}#sk-container-id-16 label.sk-toggleable__label-arrow:before {content: \"▸\";float: left;margin-right: 0.25em;color: #696969;}#sk-container-id-16 label.sk-toggleable__label-arrow:hover:before {color: black;}#sk-container-id-16 div.sk-estimator:hover label.sk-toggleable__label-arrow:before {color: black;}#sk-container-id-16 div.sk-toggleable__content {max-height: 0;max-width: 0;overflow: hidden;text-align: left;background-color: #f0f8ff;}#sk-container-id-16 div.sk-toggleable__content pre {margin: 0.2em;color: black;border-radius: 0.25em;background-color: #f0f8ff;}#sk-container-id-16 input.sk-toggleable__control:checked~div.sk-toggleable__content {max-height: 200px;max-width: 100%;overflow: auto;}#sk-container-id-16 input.sk-toggleable__control:checked~label.sk-toggleable__label-arrow:before {content: \"▾\";}#sk-container-id-16 div.sk-estimator input.sk-toggleable__control:checked~label.sk-toggleable__label {background-color: #d4ebff;}#sk-container-id-16 div.sk-label input.sk-toggleable__control:checked~label.sk-toggleable__label {background-color: #d4ebff;}#sk-container-id-16 input.sk-hidden--visually {border: 0;clip: rect(1px 1px 1px 1px);clip: rect(1px, 1px, 1px, 1px);height: 1px;margin: -1px;overflow: hidden;padding: 0;position: absolute;width: 1px;}#sk-container-id-16 div.sk-estimator {font-family: monospace;background-color: #f0f8ff;border: 1px dotted black;border-radius: 0.25em;box-sizing: border-box;margin-bottom: 0.5em;}#sk-container-id-16 div.sk-estimator:hover {background-color: #d4ebff;}#sk-container-id-16 div.sk-parallel-item::after {content: \"\";width: 100%;border-bottom: 1px solid gray;flex-grow: 1;}#sk-container-id-16 div.sk-label:hover label.sk-toggleable__label {background-color: #d4ebff;}#sk-container-id-16 div.sk-serial::before {content: \"\";position: absolute;border-left: 1px solid gray;box-sizing: border-box;top: 0;bottom: 0;left: 50%;z-index: 0;}#sk-container-id-16 div.sk-serial {display: flex;flex-direction: column;align-items: center;background-color: white;padding-right: 0.2em;padding-left: 0.2em;position: relative;}#sk-container-id-16 div.sk-item {position: relative;z-index: 1;}#sk-container-id-16 div.sk-parallel {display: flex;align-items: stretch;justify-content: center;background-color: white;position: relative;}#sk-container-id-16 div.sk-item::before, #sk-container-id-16 div.sk-parallel-item::before {content: \"\";position: absolute;border-left: 1px solid gray;box-sizing: border-box;top: 0;bottom: 0;left: 50%;z-index: -1;}#sk-container-id-16 div.sk-parallel-item {display: flex;flex-direction: column;z-index: 1;position: relative;background-color: white;}#sk-container-id-16 div.sk-parallel-item:first-child::after {align-self: flex-end;width: 50%;}#sk-container-id-16 div.sk-parallel-item:last-child::after {align-self: flex-start;width: 50%;}#sk-container-id-16 div.sk-parallel-item:only-child::after {width: 0;}#sk-container-id-16 div.sk-dashed-wrapped {border: 1px dashed gray;margin: 0 0.4em 0.5em 0.4em;box-sizing: border-box;padding-bottom: 0.4em;background-color: white;}#sk-container-id-16 div.sk-label label {font-family: monospace;font-weight: bold;display: inline-block;line-height: 1.2em;}#sk-container-id-16 div.sk-label-container {text-align: center;}#sk-container-id-16 div.sk-container {/* jupyter's `normalize.less` sets `[hidden] { display: none; }` but bootstrap.min.css set `[hidden] { display: none !important; }` so we also need the `!important` here to be able to override the default hidden behavior on the sphinx rendered scikit-learn.org. See: https://github.com/scikit-learn/scikit-learn/issues/21755 */display: inline-block !important;position: relative;}#sk-container-id-16 div.sk-text-repr-fallback {display: none;}</style><div id=\"sk-container-id-16\" class=\"sk-top-container\"><div class=\"sk-text-repr-fallback\"><pre>SVC(decision_function_shape=&#x27;ovo&#x27;, kernel=&#x27;linear&#x27;, probability=True)</pre><b>In a Jupyter environment, please rerun this cell to show the HTML representation or trust the notebook. <br />On GitHub, the HTML representation is unable to render, please try loading this page with nbviewer.org.</b></div><div class=\"sk-container\" hidden><div class=\"sk-item\"><div class=\"sk-estimator sk-toggleable\"><input class=\"sk-toggleable__control sk-hidden--visually\" id=\"sk-estimator-id-16\" type=\"checkbox\" checked><label for=\"sk-estimator-id-16\" class=\"sk-toggleable__label sk-toggleable__label-arrow\">SVC</label><div class=\"sk-toggleable__content\"><pre>SVC(decision_function_shape=&#x27;ovo&#x27;, kernel=&#x27;linear&#x27;, probability=True)</pre></div></div></div></div></div>"
      ],
      "text/plain": [
       "SVC(decision_function_shape='ovo', kernel='linear', probability=True)"
      ]
     },
     "execution_count": 181,
     "metadata": {},
     "output_type": "execute_result"
    }
   ],
   "source": [
    "# Створимо класифікатор для багатокласової класифікації з ядром kernel='linear' \n",
    "classifier = svm.SVC(decision_function_shape='ovo', probability=True, kernel='linear')\n",
    "# Проведемо навчання класифікатора на навчальній вибірці підготовлених даних но основі часових ознак\n",
    "classifier.fit(X_train, y_train)"
   ]
  },
  {
   "cell_type": "code",
   "execution_count": 182,
   "id": "9e206e41-590c-4243-be4e-373f694e84a8",
   "metadata": {},
   "outputs": [
    {
     "data": {
      "text/plain": [
       "0.9955781515559983"
      ]
     },
     "execution_count": 182,
     "metadata": {},
     "output_type": "execute_result"
    }
   ],
   "source": [
    "# Оцінимо продуктивність моделі з використанням крос-валідації\n",
    "scores = cross_val_score(classifier, X_train, y_train, cv=10)  # cv=10 - к-ть фолдів (10-ти кратна крос-валідація)\n",
    "scores.mean()"
   ]
  },
  {
   "cell_type": "code",
   "execution_count": 183,
   "id": "23068b5f-44d4-45e6-a6a4-d5efbc521998",
   "metadata": {},
   "outputs": [
    {
     "data": {
      "text/plain": [
       "0.9927797833935018"
      ]
     },
     "execution_count": 183,
     "metadata": {},
     "output_type": "execute_result"
    }
   ],
   "source": [
    "# Перевіримо точність передбачень на тестовій вибірці\n",
    "y_test_proba = classifier.predict_proba(X_test)  # ймовірність приналежності до класів для кожного об'єкта у тестовому наборі\n",
    "y_test_proba = np.argmax(y_test_proba, axis=1)  # вибір індексу з найвищою ймовірністю (тобто класу з найвищою ймовірністю) для кожного об'єкта у тестовому наборі\n",
    "accuracy = accuracy_score(y_test, y_test_proba)  # порівнює фактичні мітки (y_test) з передбаченими мітками (y_test_proba) і обчислює точність передбачення\n",
    "accuracy"
   ]
  },
  {
   "cell_type": "code",
   "execution_count": 184,
   "id": "94cee3bf-d896-42b5-a188-21425a614ed8",
   "metadata": {},
   "outputs": [
    {
     "name": "stdout",
     "output_type": "stream",
     "text": [
      "idle test -- 310 pred -- 310\n",
      "walking test -- 568 pred -- 568\n",
      "stairs test -- 51 pred -- 51\n",
      "running test -- 1010 pred -- 1010\n"
     ]
    }
   ],
   "source": [
    "make_report(y_test_proba, y_test)"
   ]
  },
  {
   "cell_type": "markdown",
   "id": "d05d766a-2e2b-4e9b-b610-e9c08aef9687",
   "metadata": {},
   "source": [
    "### 3.1.4. SVM OVR (One-Vs-Rest)"
   ]
  },
  {
   "cell_type": "code",
   "execution_count": 185,
   "id": "5d3e0427-343a-4bc7-aab0-90bc4edc0c44",
   "metadata": {},
   "outputs": [
    {
     "data": {
      "text/plain": [
       "0.9955781515559983"
      ]
     },
     "execution_count": 185,
     "metadata": {},
     "output_type": "execute_result"
    }
   ],
   "source": [
    "cls_ovr = svm.SVC(probability=True, kernel='linear')\n",
    "\n",
    "# Оцінимо продуктивність моделі з використанням крос-валідації\n",
    "scores = cross_val_score(cls_ovr, X_train, y_train, cv=10)\n",
    "scores.mean()"
   ]
  },
  {
   "cell_type": "code",
   "execution_count": 186,
   "id": "7ef5bd51-cee2-4065-8bef-c43533b8e90b",
   "metadata": {},
   "outputs": [
    {
     "data": {
      "text/html": [
       "<style>#sk-container-id-17 {color: black;}#sk-container-id-17 pre{padding: 0;}#sk-container-id-17 div.sk-toggleable {background-color: white;}#sk-container-id-17 label.sk-toggleable__label {cursor: pointer;display: block;width: 100%;margin-bottom: 0;padding: 0.3em;box-sizing: border-box;text-align: center;}#sk-container-id-17 label.sk-toggleable__label-arrow:before {content: \"▸\";float: left;margin-right: 0.25em;color: #696969;}#sk-container-id-17 label.sk-toggleable__label-arrow:hover:before {color: black;}#sk-container-id-17 div.sk-estimator:hover label.sk-toggleable__label-arrow:before {color: black;}#sk-container-id-17 div.sk-toggleable__content {max-height: 0;max-width: 0;overflow: hidden;text-align: left;background-color: #f0f8ff;}#sk-container-id-17 div.sk-toggleable__content pre {margin: 0.2em;color: black;border-radius: 0.25em;background-color: #f0f8ff;}#sk-container-id-17 input.sk-toggleable__control:checked~div.sk-toggleable__content {max-height: 200px;max-width: 100%;overflow: auto;}#sk-container-id-17 input.sk-toggleable__control:checked~label.sk-toggleable__label-arrow:before {content: \"▾\";}#sk-container-id-17 div.sk-estimator input.sk-toggleable__control:checked~label.sk-toggleable__label {background-color: #d4ebff;}#sk-container-id-17 div.sk-label input.sk-toggleable__control:checked~label.sk-toggleable__label {background-color: #d4ebff;}#sk-container-id-17 input.sk-hidden--visually {border: 0;clip: rect(1px 1px 1px 1px);clip: rect(1px, 1px, 1px, 1px);height: 1px;margin: -1px;overflow: hidden;padding: 0;position: absolute;width: 1px;}#sk-container-id-17 div.sk-estimator {font-family: monospace;background-color: #f0f8ff;border: 1px dotted black;border-radius: 0.25em;box-sizing: border-box;margin-bottom: 0.5em;}#sk-container-id-17 div.sk-estimator:hover {background-color: #d4ebff;}#sk-container-id-17 div.sk-parallel-item::after {content: \"\";width: 100%;border-bottom: 1px solid gray;flex-grow: 1;}#sk-container-id-17 div.sk-label:hover label.sk-toggleable__label {background-color: #d4ebff;}#sk-container-id-17 div.sk-serial::before {content: \"\";position: absolute;border-left: 1px solid gray;box-sizing: border-box;top: 0;bottom: 0;left: 50%;z-index: 0;}#sk-container-id-17 div.sk-serial {display: flex;flex-direction: column;align-items: center;background-color: white;padding-right: 0.2em;padding-left: 0.2em;position: relative;}#sk-container-id-17 div.sk-item {position: relative;z-index: 1;}#sk-container-id-17 div.sk-parallel {display: flex;align-items: stretch;justify-content: center;background-color: white;position: relative;}#sk-container-id-17 div.sk-item::before, #sk-container-id-17 div.sk-parallel-item::before {content: \"\";position: absolute;border-left: 1px solid gray;box-sizing: border-box;top: 0;bottom: 0;left: 50%;z-index: -1;}#sk-container-id-17 div.sk-parallel-item {display: flex;flex-direction: column;z-index: 1;position: relative;background-color: white;}#sk-container-id-17 div.sk-parallel-item:first-child::after {align-self: flex-end;width: 50%;}#sk-container-id-17 div.sk-parallel-item:last-child::after {align-self: flex-start;width: 50%;}#sk-container-id-17 div.sk-parallel-item:only-child::after {width: 0;}#sk-container-id-17 div.sk-dashed-wrapped {border: 1px dashed gray;margin: 0 0.4em 0.5em 0.4em;box-sizing: border-box;padding-bottom: 0.4em;background-color: white;}#sk-container-id-17 div.sk-label label {font-family: monospace;font-weight: bold;display: inline-block;line-height: 1.2em;}#sk-container-id-17 div.sk-label-container {text-align: center;}#sk-container-id-17 div.sk-container {/* jupyter's `normalize.less` sets `[hidden] { display: none; }` but bootstrap.min.css set `[hidden] { display: none !important; }` so we also need the `!important` here to be able to override the default hidden behavior on the sphinx rendered scikit-learn.org. See: https://github.com/scikit-learn/scikit-learn/issues/21755 */display: inline-block !important;position: relative;}#sk-container-id-17 div.sk-text-repr-fallback {display: none;}</style><div id=\"sk-container-id-17\" class=\"sk-top-container\"><div class=\"sk-text-repr-fallback\"><pre>SVC(kernel=&#x27;linear&#x27;, probability=True)</pre><b>In a Jupyter environment, please rerun this cell to show the HTML representation or trust the notebook. <br />On GitHub, the HTML representation is unable to render, please try loading this page with nbviewer.org.</b></div><div class=\"sk-container\" hidden><div class=\"sk-item\"><div class=\"sk-estimator sk-toggleable\"><input class=\"sk-toggleable__control sk-hidden--visually\" id=\"sk-estimator-id-17\" type=\"checkbox\" checked><label for=\"sk-estimator-id-17\" class=\"sk-toggleable__label sk-toggleable__label-arrow\">SVC</label><div class=\"sk-toggleable__content\"><pre>SVC(kernel=&#x27;linear&#x27;, probability=True)</pre></div></div></div></div></div>"
      ],
      "text/plain": [
       "SVC(kernel='linear', probability=True)"
      ]
     },
     "execution_count": 186,
     "metadata": {},
     "output_type": "execute_result"
    }
   ],
   "source": [
    "# Проведемо навчання класифікатора на навчальній вибірці підготовлених даних но основі часових ознак\n",
    "cls_ovr.fit(X_train, y_train)"
   ]
  },
  {
   "cell_type": "code",
   "execution_count": 187,
   "id": "ae37901b-06dd-417f-9606-32c2d7c49d51",
   "metadata": {},
   "outputs": [
    {
     "data": {
      "text/plain": [
       "0.9927797833935018"
      ]
     },
     "execution_count": 187,
     "metadata": {},
     "output_type": "execute_result"
    }
   ],
   "source": [
    "# Перевіримо точність передбачень на тестовій вибірці\n",
    "y_test_proba = cls_ovr.predict_proba(X_test)  # ймовірність приналежності до класів для кожного об'єкта у тестовому наборі\n",
    "y_test_proba = np.argmax(y_test_proba, axis=1)  # вибір індексу з найвищою ймовірністю (тобто класу з найвищою ймовірністю) для кожного об'єкта у тестовому наборі\n",
    "accuracy = accuracy_score(y_test, y_test_proba)  # порівнює фактичні мітки (y_test) з передбаченими мітками (y_test_proba) і обчислює точність передбачення\n",
    "accuracy"
   ]
  },
  {
   "cell_type": "code",
   "execution_count": 188,
   "id": "b3c2cca6-22bf-4f47-832f-f17a510db4a9",
   "metadata": {},
   "outputs": [
    {
     "name": "stdout",
     "output_type": "stream",
     "text": [
      "idle test -- 310 pred -- 310\n",
      "walking test -- 568 pred -- 568\n",
      "stairs test -- 51 pred -- 51\n",
      "running test -- 1010 pred -- 1010\n"
     ]
    }
   ],
   "source": [
    "make_report(y_test_proba, y_test)"
   ]
  },
  {
   "cell_type": "markdown",
   "id": "22dbf9a6-f122-4fc0-a7db-abe02344d77b",
   "metadata": {},
   "source": [
    "### 3.2. SVM fft"
   ]
  },
  {
   "cell_type": "code",
   "execution_count": 189,
   "id": "06cdee0a-0f23-4bed-8fd6-4c553a89d748",
   "metadata": {},
   "outputs": [],
   "source": [
    "from sklearn.model_selection import cross_val_score  # оцінювання продуктивності моделі з використанням крос-валідації\n",
    "from sklearn.metrics import f1_score, accuracy_score  # розрахунок метрик якості моделі\n",
    "from sklearn import svm"
   ]
  },
  {
   "cell_type": "code",
   "execution_count": 190,
   "id": "fbcbb808-b64b-4691-859f-db3fa2d65355",
   "metadata": {},
   "outputs": [],
   "source": [
    "# Завантажимо датасет 'stat_data_Y.pickle'\n",
    "X, Y = open_data_set('fft')\n",
    "\n",
    "# Розіб'ємо завантажені дані на навчальну і тестову частини\n",
    "from sklearn import model_selection\n",
    "X_train, X_test, y_train, y_test = model_selection.train_test_split(X, Y, test_size=0.3)"
   ]
  },
  {
   "cell_type": "markdown",
   "id": "acb5edf6-fd5a-4c4d-a426-ce88df77f7f4",
   "metadata": {},
   "source": [
    "### 3.2.1. SVM gamma=0.01"
   ]
  },
  {
   "cell_type": "code",
   "execution_count": 191,
   "id": "f2c23999-3d04-4224-a91a-287490f415e9",
   "metadata": {},
   "outputs": [],
   "source": [
    "# Створимо класифікатор для багатокласової класифікації з gamma=0.01\n",
    "classifier = svm.SVC(decision_function_shape='ovo', kernel='rbf', gamma=0.01, probability=True)\n",
    "# 'svm.SVC' - створення об'єкта класифікатора\n",
    "# \"decision_function_shape='ovo'\" - використовується метод \"one-vs-one\"\n",
    "# \"kernel='rbf'\" - задає використання радіально-базової функції (Radial Basis Function, RBF) як ядро SVM\n",
    "# \"gamma=0.01\" - параметр, який впливає на форму гіперповерхні рішення\n",
    "# \"probability=True\" - вказує, що класифікатор повинен надавати оцінки ймовірності кожного класу при виклику методу predict_proba"
   ]
  },
  {
   "cell_type": "code",
   "execution_count": 192,
   "id": "5ab1f697-58b4-41d1-8ccb-8ce81579b283",
   "metadata": {},
   "outputs": [
    {
     "data": {
      "text/html": [
       "<style>#sk-container-id-18 {color: black;}#sk-container-id-18 pre{padding: 0;}#sk-container-id-18 div.sk-toggleable {background-color: white;}#sk-container-id-18 label.sk-toggleable__label {cursor: pointer;display: block;width: 100%;margin-bottom: 0;padding: 0.3em;box-sizing: border-box;text-align: center;}#sk-container-id-18 label.sk-toggleable__label-arrow:before {content: \"▸\";float: left;margin-right: 0.25em;color: #696969;}#sk-container-id-18 label.sk-toggleable__label-arrow:hover:before {color: black;}#sk-container-id-18 div.sk-estimator:hover label.sk-toggleable__label-arrow:before {color: black;}#sk-container-id-18 div.sk-toggleable__content {max-height: 0;max-width: 0;overflow: hidden;text-align: left;background-color: #f0f8ff;}#sk-container-id-18 div.sk-toggleable__content pre {margin: 0.2em;color: black;border-radius: 0.25em;background-color: #f0f8ff;}#sk-container-id-18 input.sk-toggleable__control:checked~div.sk-toggleable__content {max-height: 200px;max-width: 100%;overflow: auto;}#sk-container-id-18 input.sk-toggleable__control:checked~label.sk-toggleable__label-arrow:before {content: \"▾\";}#sk-container-id-18 div.sk-estimator input.sk-toggleable__control:checked~label.sk-toggleable__label {background-color: #d4ebff;}#sk-container-id-18 div.sk-label input.sk-toggleable__control:checked~label.sk-toggleable__label {background-color: #d4ebff;}#sk-container-id-18 input.sk-hidden--visually {border: 0;clip: rect(1px 1px 1px 1px);clip: rect(1px, 1px, 1px, 1px);height: 1px;margin: -1px;overflow: hidden;padding: 0;position: absolute;width: 1px;}#sk-container-id-18 div.sk-estimator {font-family: monospace;background-color: #f0f8ff;border: 1px dotted black;border-radius: 0.25em;box-sizing: border-box;margin-bottom: 0.5em;}#sk-container-id-18 div.sk-estimator:hover {background-color: #d4ebff;}#sk-container-id-18 div.sk-parallel-item::after {content: \"\";width: 100%;border-bottom: 1px solid gray;flex-grow: 1;}#sk-container-id-18 div.sk-label:hover label.sk-toggleable__label {background-color: #d4ebff;}#sk-container-id-18 div.sk-serial::before {content: \"\";position: absolute;border-left: 1px solid gray;box-sizing: border-box;top: 0;bottom: 0;left: 50%;z-index: 0;}#sk-container-id-18 div.sk-serial {display: flex;flex-direction: column;align-items: center;background-color: white;padding-right: 0.2em;padding-left: 0.2em;position: relative;}#sk-container-id-18 div.sk-item {position: relative;z-index: 1;}#sk-container-id-18 div.sk-parallel {display: flex;align-items: stretch;justify-content: center;background-color: white;position: relative;}#sk-container-id-18 div.sk-item::before, #sk-container-id-18 div.sk-parallel-item::before {content: \"\";position: absolute;border-left: 1px solid gray;box-sizing: border-box;top: 0;bottom: 0;left: 50%;z-index: -1;}#sk-container-id-18 div.sk-parallel-item {display: flex;flex-direction: column;z-index: 1;position: relative;background-color: white;}#sk-container-id-18 div.sk-parallel-item:first-child::after {align-self: flex-end;width: 50%;}#sk-container-id-18 div.sk-parallel-item:last-child::after {align-self: flex-start;width: 50%;}#sk-container-id-18 div.sk-parallel-item:only-child::after {width: 0;}#sk-container-id-18 div.sk-dashed-wrapped {border: 1px dashed gray;margin: 0 0.4em 0.5em 0.4em;box-sizing: border-box;padding-bottom: 0.4em;background-color: white;}#sk-container-id-18 div.sk-label label {font-family: monospace;font-weight: bold;display: inline-block;line-height: 1.2em;}#sk-container-id-18 div.sk-label-container {text-align: center;}#sk-container-id-18 div.sk-container {/* jupyter's `normalize.less` sets `[hidden] { display: none; }` but bootstrap.min.css set `[hidden] { display: none !important; }` so we also need the `!important` here to be able to override the default hidden behavior on the sphinx rendered scikit-learn.org. See: https://github.com/scikit-learn/scikit-learn/issues/21755 */display: inline-block !important;position: relative;}#sk-container-id-18 div.sk-text-repr-fallback {display: none;}</style><div id=\"sk-container-id-18\" class=\"sk-top-container\"><div class=\"sk-text-repr-fallback\"><pre>SVC(decision_function_shape=&#x27;ovo&#x27;, gamma=0.01, probability=True)</pre><b>In a Jupyter environment, please rerun this cell to show the HTML representation or trust the notebook. <br />On GitHub, the HTML representation is unable to render, please try loading this page with nbviewer.org.</b></div><div class=\"sk-container\" hidden><div class=\"sk-item\"><div class=\"sk-estimator sk-toggleable\"><input class=\"sk-toggleable__control sk-hidden--visually\" id=\"sk-estimator-id-18\" type=\"checkbox\" checked><label for=\"sk-estimator-id-18\" class=\"sk-toggleable__label sk-toggleable__label-arrow\">SVC</label><div class=\"sk-toggleable__content\"><pre>SVC(decision_function_shape=&#x27;ovo&#x27;, gamma=0.01, probability=True)</pre></div></div></div></div></div>"
      ],
      "text/plain": [
       "SVC(decision_function_shape='ovo', gamma=0.01, probability=True)"
      ]
     },
     "execution_count": 192,
     "metadata": {},
     "output_type": "execute_result"
    }
   ],
   "source": [
    "# Проведемо навчання класифікатора на навчальній вибірці підготовлених даних но основі часових ознак\n",
    "classifier.fit(X_train, y_train)"
   ]
  },
  {
   "cell_type": "code",
   "execution_count": 193,
   "id": "7eae15a3-7b18-4abd-b67b-40d88793613a",
   "metadata": {},
   "outputs": [
    {
     "data": {
      "text/plain": [
       "0.9692663462853346"
      ]
     },
     "execution_count": 193,
     "metadata": {},
     "output_type": "execute_result"
    }
   ],
   "source": [
    "# Оцінимо продуктивність моделі з використанням крос-валідації\n",
    "scores = cross_val_score(classifier, X_train, y_train, cv=10)  # cv=10 - к-ть фолдів (10-ти кратна крос-валідація)\n",
    "scores.mean()  # середнє значення продуктивності"
   ]
  },
  {
   "cell_type": "code",
   "execution_count": 194,
   "id": "ba49f0bd-b240-4dea-9e55-a5201c5e2f75",
   "metadata": {},
   "outputs": [
    {
     "data": {
      "text/plain": [
       "0.9793708096957194"
      ]
     },
     "execution_count": 194,
     "metadata": {},
     "output_type": "execute_result"
    }
   ],
   "source": [
    "# Перевіримо точність передбачень на тестовій вибірці\n",
    "y_test_proba = classifier.predict_proba(X_test)  # ймовірність приналежності до класів для кожного об'єкта у тестовому наборі\n",
    "y_test_proba = np.argmax(y_test_proba, axis=1)  # вибір індексу з найвищою ймовірністю (тобто класу з найвищою ймовірністю) для кожного об'єкта у тестовому наборі\n",
    "accuracy = accuracy_score(y_test, y_test_proba)  # порівнює фактичні мітки (y_test) з передбаченими мітками (y_test_proba) і обчислює точність передбачення\n",
    "accuracy"
   ]
  },
  {
   "cell_type": "code",
   "execution_count": 195,
   "id": "a61487fb-5c89-4b12-a74f-424fc30bc5ea",
   "metadata": {},
   "outputs": [
    {
     "name": "stdout",
     "output_type": "stream",
     "text": [
      "idle test -- 309 pred -- 309\n",
      "walking test -- 604 pred -- 604\n",
      "stairs test -- 31 pred -- 31\n",
      "running test -- 995 pred -- 995\n"
     ]
    }
   ],
   "source": [
    "make_report(y_test_proba, y_test)"
   ]
  },
  {
   "cell_type": "markdown",
   "id": "d2a725ec-2104-496c-b4d2-16df983afcac",
   "metadata": {},
   "source": [
    "### 3.2.2. SVM gamma='scale'"
   ]
  },
  {
   "cell_type": "code",
   "execution_count": 196,
   "id": "08e98998-1680-4eaa-b64a-818e7f74cbde",
   "metadata": {},
   "outputs": [
    {
     "data": {
      "text/html": [
       "<style>#sk-container-id-19 {color: black;}#sk-container-id-19 pre{padding: 0;}#sk-container-id-19 div.sk-toggleable {background-color: white;}#sk-container-id-19 label.sk-toggleable__label {cursor: pointer;display: block;width: 100%;margin-bottom: 0;padding: 0.3em;box-sizing: border-box;text-align: center;}#sk-container-id-19 label.sk-toggleable__label-arrow:before {content: \"▸\";float: left;margin-right: 0.25em;color: #696969;}#sk-container-id-19 label.sk-toggleable__label-arrow:hover:before {color: black;}#sk-container-id-19 div.sk-estimator:hover label.sk-toggleable__label-arrow:before {color: black;}#sk-container-id-19 div.sk-toggleable__content {max-height: 0;max-width: 0;overflow: hidden;text-align: left;background-color: #f0f8ff;}#sk-container-id-19 div.sk-toggleable__content pre {margin: 0.2em;color: black;border-radius: 0.25em;background-color: #f0f8ff;}#sk-container-id-19 input.sk-toggleable__control:checked~div.sk-toggleable__content {max-height: 200px;max-width: 100%;overflow: auto;}#sk-container-id-19 input.sk-toggleable__control:checked~label.sk-toggleable__label-arrow:before {content: \"▾\";}#sk-container-id-19 div.sk-estimator input.sk-toggleable__control:checked~label.sk-toggleable__label {background-color: #d4ebff;}#sk-container-id-19 div.sk-label input.sk-toggleable__control:checked~label.sk-toggleable__label {background-color: #d4ebff;}#sk-container-id-19 input.sk-hidden--visually {border: 0;clip: rect(1px 1px 1px 1px);clip: rect(1px, 1px, 1px, 1px);height: 1px;margin: -1px;overflow: hidden;padding: 0;position: absolute;width: 1px;}#sk-container-id-19 div.sk-estimator {font-family: monospace;background-color: #f0f8ff;border: 1px dotted black;border-radius: 0.25em;box-sizing: border-box;margin-bottom: 0.5em;}#sk-container-id-19 div.sk-estimator:hover {background-color: #d4ebff;}#sk-container-id-19 div.sk-parallel-item::after {content: \"\";width: 100%;border-bottom: 1px solid gray;flex-grow: 1;}#sk-container-id-19 div.sk-label:hover label.sk-toggleable__label {background-color: #d4ebff;}#sk-container-id-19 div.sk-serial::before {content: \"\";position: absolute;border-left: 1px solid gray;box-sizing: border-box;top: 0;bottom: 0;left: 50%;z-index: 0;}#sk-container-id-19 div.sk-serial {display: flex;flex-direction: column;align-items: center;background-color: white;padding-right: 0.2em;padding-left: 0.2em;position: relative;}#sk-container-id-19 div.sk-item {position: relative;z-index: 1;}#sk-container-id-19 div.sk-parallel {display: flex;align-items: stretch;justify-content: center;background-color: white;position: relative;}#sk-container-id-19 div.sk-item::before, #sk-container-id-19 div.sk-parallel-item::before {content: \"\";position: absolute;border-left: 1px solid gray;box-sizing: border-box;top: 0;bottom: 0;left: 50%;z-index: -1;}#sk-container-id-19 div.sk-parallel-item {display: flex;flex-direction: column;z-index: 1;position: relative;background-color: white;}#sk-container-id-19 div.sk-parallel-item:first-child::after {align-self: flex-end;width: 50%;}#sk-container-id-19 div.sk-parallel-item:last-child::after {align-self: flex-start;width: 50%;}#sk-container-id-19 div.sk-parallel-item:only-child::after {width: 0;}#sk-container-id-19 div.sk-dashed-wrapped {border: 1px dashed gray;margin: 0 0.4em 0.5em 0.4em;box-sizing: border-box;padding-bottom: 0.4em;background-color: white;}#sk-container-id-19 div.sk-label label {font-family: monospace;font-weight: bold;display: inline-block;line-height: 1.2em;}#sk-container-id-19 div.sk-label-container {text-align: center;}#sk-container-id-19 div.sk-container {/* jupyter's `normalize.less` sets `[hidden] { display: none; }` but bootstrap.min.css set `[hidden] { display: none !important; }` so we also need the `!important` here to be able to override the default hidden behavior on the sphinx rendered scikit-learn.org. See: https://github.com/scikit-learn/scikit-learn/issues/21755 */display: inline-block !important;position: relative;}#sk-container-id-19 div.sk-text-repr-fallback {display: none;}</style><div id=\"sk-container-id-19\" class=\"sk-top-container\"><div class=\"sk-text-repr-fallback\"><pre>SVC(decision_function_shape=&#x27;ovo&#x27;, probability=True)</pre><b>In a Jupyter environment, please rerun this cell to show the HTML representation or trust the notebook. <br />On GitHub, the HTML representation is unable to render, please try loading this page with nbviewer.org.</b></div><div class=\"sk-container\" hidden><div class=\"sk-item\"><div class=\"sk-estimator sk-toggleable\"><input class=\"sk-toggleable__control sk-hidden--visually\" id=\"sk-estimator-id-19\" type=\"checkbox\" checked><label for=\"sk-estimator-id-19\" class=\"sk-toggleable__label sk-toggleable__label-arrow\">SVC</label><div class=\"sk-toggleable__content\"><pre>SVC(decision_function_shape=&#x27;ovo&#x27;, probability=True)</pre></div></div></div></div></div>"
      ],
      "text/plain": [
       "SVC(decision_function_shape='ovo', probability=True)"
      ]
     },
     "execution_count": 196,
     "metadata": {},
     "output_type": "execute_result"
    }
   ],
   "source": [
    "# Створимо класифікатор для багатокласової класифікації з gamma='scale' (параметр за замовчуванням) (атвоматичне масштабування gamma) \n",
    "classifier = svm.SVC(decision_function_shape='ovo', probability=True)\n",
    "# Проведемо навчання класифікатора на навчальній вибірці підготовлених даних но основі часових ознак\n",
    "classifier.fit(X_train, y_train)"
   ]
  },
  {
   "cell_type": "code",
   "execution_count": 197,
   "id": "c9dddf00-25be-4806-9246-e2e3363c7d00",
   "metadata": {},
   "outputs": [
    {
     "data": {
      "text/plain": [
       "0.9812068999199047"
      ]
     },
     "execution_count": 197,
     "metadata": {},
     "output_type": "execute_result"
    }
   ],
   "source": [
    "# Оцінимо продуктивність моделі з використанням крос-валідації\n",
    "scores = cross_val_score(classifier, X_train, y_train, cv=10)  # cv=10 - к-ть фолдів (10-ти кратна крос-валідація)\n",
    "scores.mean()"
   ]
  },
  {
   "cell_type": "code",
   "execution_count": 198,
   "id": "9cf67b2a-1c8e-4958-a74a-15781c75d895",
   "metadata": {},
   "outputs": [
    {
     "data": {
      "text/plain": [
       "0.9824651882413615"
      ]
     },
     "execution_count": 198,
     "metadata": {},
     "output_type": "execute_result"
    }
   ],
   "source": [
    "# Перевіримо точність передбачень на тестовій вибірці\n",
    "y_test_proba = classifier.predict_proba(X_test)  # ймовірність приналежності до класів для кожного об'єкта у тестовому наборі\n",
    "y_test_proba = np.argmax(y_test_proba, axis=1)  # вибір індексу з найвищою ймовірністю (тобто класу з найвищою ймовірністю) для кожного об'єкта у тестовому наборі\n",
    "accuracy = accuracy_score(y_test, y_test_proba)  # порівнює фактичні мітки (y_test) з передбаченими мітками (y_test_proba) і обчислює точність передбачення\n",
    "accuracy"
   ]
  },
  {
   "cell_type": "code",
   "execution_count": 199,
   "id": "307beade-69d3-49bc-9e10-002eeb7494f7",
   "metadata": {},
   "outputs": [
    {
     "name": "stdout",
     "output_type": "stream",
     "text": [
      "idle test -- 306 pred -- 306\n",
      "walking test -- 605 pred -- 605\n",
      "stairs test -- 30 pred -- 30\n",
      "running test -- 998 pred -- 998\n"
     ]
    }
   ],
   "source": [
    "make_report(y_test_proba, y_test)"
   ]
  },
  {
   "cell_type": "markdown",
   "id": "5b0322a1-0fb5-48e3-a991-2d72ae69721c",
   "metadata": {},
   "source": [
    "### 3.2.3. SVM kernel='linear'"
   ]
  },
  {
   "cell_type": "code",
   "execution_count": 200,
   "id": "2047d523-0d5c-46c3-b56b-ac8deb9a3c86",
   "metadata": {},
   "outputs": [
    {
     "data": {
      "text/html": [
       "<style>#sk-container-id-20 {color: black;}#sk-container-id-20 pre{padding: 0;}#sk-container-id-20 div.sk-toggleable {background-color: white;}#sk-container-id-20 label.sk-toggleable__label {cursor: pointer;display: block;width: 100%;margin-bottom: 0;padding: 0.3em;box-sizing: border-box;text-align: center;}#sk-container-id-20 label.sk-toggleable__label-arrow:before {content: \"▸\";float: left;margin-right: 0.25em;color: #696969;}#sk-container-id-20 label.sk-toggleable__label-arrow:hover:before {color: black;}#sk-container-id-20 div.sk-estimator:hover label.sk-toggleable__label-arrow:before {color: black;}#sk-container-id-20 div.sk-toggleable__content {max-height: 0;max-width: 0;overflow: hidden;text-align: left;background-color: #f0f8ff;}#sk-container-id-20 div.sk-toggleable__content pre {margin: 0.2em;color: black;border-radius: 0.25em;background-color: #f0f8ff;}#sk-container-id-20 input.sk-toggleable__control:checked~div.sk-toggleable__content {max-height: 200px;max-width: 100%;overflow: auto;}#sk-container-id-20 input.sk-toggleable__control:checked~label.sk-toggleable__label-arrow:before {content: \"▾\";}#sk-container-id-20 div.sk-estimator input.sk-toggleable__control:checked~label.sk-toggleable__label {background-color: #d4ebff;}#sk-container-id-20 div.sk-label input.sk-toggleable__control:checked~label.sk-toggleable__label {background-color: #d4ebff;}#sk-container-id-20 input.sk-hidden--visually {border: 0;clip: rect(1px 1px 1px 1px);clip: rect(1px, 1px, 1px, 1px);height: 1px;margin: -1px;overflow: hidden;padding: 0;position: absolute;width: 1px;}#sk-container-id-20 div.sk-estimator {font-family: monospace;background-color: #f0f8ff;border: 1px dotted black;border-radius: 0.25em;box-sizing: border-box;margin-bottom: 0.5em;}#sk-container-id-20 div.sk-estimator:hover {background-color: #d4ebff;}#sk-container-id-20 div.sk-parallel-item::after {content: \"\";width: 100%;border-bottom: 1px solid gray;flex-grow: 1;}#sk-container-id-20 div.sk-label:hover label.sk-toggleable__label {background-color: #d4ebff;}#sk-container-id-20 div.sk-serial::before {content: \"\";position: absolute;border-left: 1px solid gray;box-sizing: border-box;top: 0;bottom: 0;left: 50%;z-index: 0;}#sk-container-id-20 div.sk-serial {display: flex;flex-direction: column;align-items: center;background-color: white;padding-right: 0.2em;padding-left: 0.2em;position: relative;}#sk-container-id-20 div.sk-item {position: relative;z-index: 1;}#sk-container-id-20 div.sk-parallel {display: flex;align-items: stretch;justify-content: center;background-color: white;position: relative;}#sk-container-id-20 div.sk-item::before, #sk-container-id-20 div.sk-parallel-item::before {content: \"\";position: absolute;border-left: 1px solid gray;box-sizing: border-box;top: 0;bottom: 0;left: 50%;z-index: -1;}#sk-container-id-20 div.sk-parallel-item {display: flex;flex-direction: column;z-index: 1;position: relative;background-color: white;}#sk-container-id-20 div.sk-parallel-item:first-child::after {align-self: flex-end;width: 50%;}#sk-container-id-20 div.sk-parallel-item:last-child::after {align-self: flex-start;width: 50%;}#sk-container-id-20 div.sk-parallel-item:only-child::after {width: 0;}#sk-container-id-20 div.sk-dashed-wrapped {border: 1px dashed gray;margin: 0 0.4em 0.5em 0.4em;box-sizing: border-box;padding-bottom: 0.4em;background-color: white;}#sk-container-id-20 div.sk-label label {font-family: monospace;font-weight: bold;display: inline-block;line-height: 1.2em;}#sk-container-id-20 div.sk-label-container {text-align: center;}#sk-container-id-20 div.sk-container {/* jupyter's `normalize.less` sets `[hidden] { display: none; }` but bootstrap.min.css set `[hidden] { display: none !important; }` so we also need the `!important` here to be able to override the default hidden behavior on the sphinx rendered scikit-learn.org. See: https://github.com/scikit-learn/scikit-learn/issues/21755 */display: inline-block !important;position: relative;}#sk-container-id-20 div.sk-text-repr-fallback {display: none;}</style><div id=\"sk-container-id-20\" class=\"sk-top-container\"><div class=\"sk-text-repr-fallback\"><pre>SVC(decision_function_shape=&#x27;ovo&#x27;, kernel=&#x27;linear&#x27;, probability=True)</pre><b>In a Jupyter environment, please rerun this cell to show the HTML representation or trust the notebook. <br />On GitHub, the HTML representation is unable to render, please try loading this page with nbviewer.org.</b></div><div class=\"sk-container\" hidden><div class=\"sk-item\"><div class=\"sk-estimator sk-toggleable\"><input class=\"sk-toggleable__control sk-hidden--visually\" id=\"sk-estimator-id-20\" type=\"checkbox\" checked><label for=\"sk-estimator-id-20\" class=\"sk-toggleable__label sk-toggleable__label-arrow\">SVC</label><div class=\"sk-toggleable__content\"><pre>SVC(decision_function_shape=&#x27;ovo&#x27;, kernel=&#x27;linear&#x27;, probability=True)</pre></div></div></div></div></div>"
      ],
      "text/plain": [
       "SVC(decision_function_shape='ovo', kernel='linear', probability=True)"
      ]
     },
     "execution_count": 200,
     "metadata": {},
     "output_type": "execute_result"
    }
   ],
   "source": [
    "# Створимо класифікатор для багатокласової класифікації з ядром kernel='linear' \n",
    "classifier = svm.SVC(decision_function_shape='ovo', probability=True, kernel='linear')\n",
    "# Проведемо навчання класифікатора на навчальній вибірці підготовлених даних но основі часових ознак\n",
    "classifier.fit(X_train, y_train)"
   ]
  },
  {
   "cell_type": "code",
   "execution_count": 201,
   "id": "d1bfb3c4-7dd2-49d8-a255-2da838d1af81",
   "metadata": {},
   "outputs": [
    {
     "data": {
      "text/plain": [
       "0.9759025376545744"
      ]
     },
     "execution_count": 201,
     "metadata": {},
     "output_type": "execute_result"
    }
   ],
   "source": [
    "# Оцінимо продуктивність моделі з використанням крос-валідації\n",
    "scores = cross_val_score(classifier, X_train, y_train, cv=10)  # cv=10 - к-ть фолдів (10-ти кратна крос-валідація)\n",
    "scores.mean()"
   ]
  },
  {
   "cell_type": "code",
   "execution_count": 202,
   "id": "3810edaf-bb91-441a-8650-ef45919346d3",
   "metadata": {},
   "outputs": [
    {
     "data": {
      "text/plain": [
       "0.9824651882413615"
      ]
     },
     "execution_count": 202,
     "metadata": {},
     "output_type": "execute_result"
    }
   ],
   "source": [
    "# Перевіримо точність передбачень на тестовій вибірці\n",
    "y_test_proba = classifier.predict_proba(X_test)  # ймовірність приналежності до класів для кожного об'єкта у тестовому наборі\n",
    "y_test_proba = np.argmax(y_test_proba, axis=1)  # вибір індексу з найвищою ймовірністю (тобто класу з найвищою ймовірністю) для кожного об'єкта у тестовому наборі\n",
    "accuracy = accuracy_score(y_test, y_test_proba)  # порівнює фактичні мітки (y_test) з передбаченими мітками (y_test_proba) і обчислює точність передбачення\n",
    "accuracy"
   ]
  },
  {
   "cell_type": "code",
   "execution_count": 203,
   "id": "bdfc7057-4c36-4f09-b7d8-1e781bfde10c",
   "metadata": {},
   "outputs": [
    {
     "name": "stdout",
     "output_type": "stream",
     "text": [
      "idle test -- 308 pred -- 308\n",
      "walking test -- 613 pred -- 613\n",
      "stairs test -- 22 pred -- 22\n",
      "running test -- 996 pred -- 996\n"
     ]
    }
   ],
   "source": [
    "make_report(y_test_proba, y_test)"
   ]
  },
  {
   "cell_type": "markdown",
   "id": "1693cdf4-3154-43a8-a40f-d5ae9456eff9",
   "metadata": {},
   "source": [
    "### 3.2.4. SVM OVR (One-Vs-Rest)"
   ]
  },
  {
   "cell_type": "code",
   "execution_count": 204,
   "id": "8fe411b9-1a4d-47f7-94a9-5ca7918068ee",
   "metadata": {},
   "outputs": [
    {
     "data": {
      "text/plain": [
       "0.9759025376545744"
      ]
     },
     "execution_count": 204,
     "metadata": {},
     "output_type": "execute_result"
    }
   ],
   "source": [
    "cls_ovr = svm.SVC(probability=True, kernel='linear')\n",
    "\n",
    "# Оцінимо продуктивність моделі з використанням крос-валідації\n",
    "scores = cross_val_score(cls_ovr, X_train, y_train, cv=10)\n",
    "scores.mean()"
   ]
  },
  {
   "cell_type": "code",
   "execution_count": 205,
   "id": "8a3f1697-5c0c-4599-9b2a-8c59b441bd26",
   "metadata": {},
   "outputs": [
    {
     "data": {
      "text/html": [
       "<style>#sk-container-id-21 {color: black;}#sk-container-id-21 pre{padding: 0;}#sk-container-id-21 div.sk-toggleable {background-color: white;}#sk-container-id-21 label.sk-toggleable__label {cursor: pointer;display: block;width: 100%;margin-bottom: 0;padding: 0.3em;box-sizing: border-box;text-align: center;}#sk-container-id-21 label.sk-toggleable__label-arrow:before {content: \"▸\";float: left;margin-right: 0.25em;color: #696969;}#sk-container-id-21 label.sk-toggleable__label-arrow:hover:before {color: black;}#sk-container-id-21 div.sk-estimator:hover label.sk-toggleable__label-arrow:before {color: black;}#sk-container-id-21 div.sk-toggleable__content {max-height: 0;max-width: 0;overflow: hidden;text-align: left;background-color: #f0f8ff;}#sk-container-id-21 div.sk-toggleable__content pre {margin: 0.2em;color: black;border-radius: 0.25em;background-color: #f0f8ff;}#sk-container-id-21 input.sk-toggleable__control:checked~div.sk-toggleable__content {max-height: 200px;max-width: 100%;overflow: auto;}#sk-container-id-21 input.sk-toggleable__control:checked~label.sk-toggleable__label-arrow:before {content: \"▾\";}#sk-container-id-21 div.sk-estimator input.sk-toggleable__control:checked~label.sk-toggleable__label {background-color: #d4ebff;}#sk-container-id-21 div.sk-label input.sk-toggleable__control:checked~label.sk-toggleable__label {background-color: #d4ebff;}#sk-container-id-21 input.sk-hidden--visually {border: 0;clip: rect(1px 1px 1px 1px);clip: rect(1px, 1px, 1px, 1px);height: 1px;margin: -1px;overflow: hidden;padding: 0;position: absolute;width: 1px;}#sk-container-id-21 div.sk-estimator {font-family: monospace;background-color: #f0f8ff;border: 1px dotted black;border-radius: 0.25em;box-sizing: border-box;margin-bottom: 0.5em;}#sk-container-id-21 div.sk-estimator:hover {background-color: #d4ebff;}#sk-container-id-21 div.sk-parallel-item::after {content: \"\";width: 100%;border-bottom: 1px solid gray;flex-grow: 1;}#sk-container-id-21 div.sk-label:hover label.sk-toggleable__label {background-color: #d4ebff;}#sk-container-id-21 div.sk-serial::before {content: \"\";position: absolute;border-left: 1px solid gray;box-sizing: border-box;top: 0;bottom: 0;left: 50%;z-index: 0;}#sk-container-id-21 div.sk-serial {display: flex;flex-direction: column;align-items: center;background-color: white;padding-right: 0.2em;padding-left: 0.2em;position: relative;}#sk-container-id-21 div.sk-item {position: relative;z-index: 1;}#sk-container-id-21 div.sk-parallel {display: flex;align-items: stretch;justify-content: center;background-color: white;position: relative;}#sk-container-id-21 div.sk-item::before, #sk-container-id-21 div.sk-parallel-item::before {content: \"\";position: absolute;border-left: 1px solid gray;box-sizing: border-box;top: 0;bottom: 0;left: 50%;z-index: -1;}#sk-container-id-21 div.sk-parallel-item {display: flex;flex-direction: column;z-index: 1;position: relative;background-color: white;}#sk-container-id-21 div.sk-parallel-item:first-child::after {align-self: flex-end;width: 50%;}#sk-container-id-21 div.sk-parallel-item:last-child::after {align-self: flex-start;width: 50%;}#sk-container-id-21 div.sk-parallel-item:only-child::after {width: 0;}#sk-container-id-21 div.sk-dashed-wrapped {border: 1px dashed gray;margin: 0 0.4em 0.5em 0.4em;box-sizing: border-box;padding-bottom: 0.4em;background-color: white;}#sk-container-id-21 div.sk-label label {font-family: monospace;font-weight: bold;display: inline-block;line-height: 1.2em;}#sk-container-id-21 div.sk-label-container {text-align: center;}#sk-container-id-21 div.sk-container {/* jupyter's `normalize.less` sets `[hidden] { display: none; }` but bootstrap.min.css set `[hidden] { display: none !important; }` so we also need the `!important` here to be able to override the default hidden behavior on the sphinx rendered scikit-learn.org. See: https://github.com/scikit-learn/scikit-learn/issues/21755 */display: inline-block !important;position: relative;}#sk-container-id-21 div.sk-text-repr-fallback {display: none;}</style><div id=\"sk-container-id-21\" class=\"sk-top-container\"><div class=\"sk-text-repr-fallback\"><pre>SVC(kernel=&#x27;linear&#x27;, probability=True)</pre><b>In a Jupyter environment, please rerun this cell to show the HTML representation or trust the notebook. <br />On GitHub, the HTML representation is unable to render, please try loading this page with nbviewer.org.</b></div><div class=\"sk-container\" hidden><div class=\"sk-item\"><div class=\"sk-estimator sk-toggleable\"><input class=\"sk-toggleable__control sk-hidden--visually\" id=\"sk-estimator-id-21\" type=\"checkbox\" checked><label for=\"sk-estimator-id-21\" class=\"sk-toggleable__label sk-toggleable__label-arrow\">SVC</label><div class=\"sk-toggleable__content\"><pre>SVC(kernel=&#x27;linear&#x27;, probability=True)</pre></div></div></div></div></div>"
      ],
      "text/plain": [
       "SVC(kernel='linear', probability=True)"
      ]
     },
     "execution_count": 205,
     "metadata": {},
     "output_type": "execute_result"
    }
   ],
   "source": [
    "# Проведемо навчання класифікатора на навчальній вибірці підготовлених даних но основі часових ознак\n",
    "cls_ovr.fit(X_train, y_train)"
   ]
  },
  {
   "cell_type": "code",
   "execution_count": 206,
   "id": "df5a8473-32e6-467e-82ca-cbf6ac8e2071",
   "metadata": {},
   "outputs": [
    {
     "data": {
      "text/plain": [
       "0.9824651882413615"
      ]
     },
     "execution_count": 206,
     "metadata": {},
     "output_type": "execute_result"
    }
   ],
   "source": [
    "# Перевіримо точність передбачень на тестовій вибірці\n",
    "y_test_proba = cls_ovr.predict_proba(X_test)  # ймовірність приналежності до класів для кожного об'єкта у тестовому наборі\n",
    "y_test_proba = np.argmax(y_test_proba, axis=1)  # вибір індексу з найвищою ймовірністю (тобто класу з найвищою ймовірністю) для кожного об'єкта у тестовому наборі\n",
    "accuracy = accuracy_score(y_test, y_test_proba)  # порівнює фактичні мітки (y_test) з передбаченими мітками (y_test_proba) і обчислює точність передбачення\n",
    "accuracy"
   ]
  },
  {
   "cell_type": "code",
   "execution_count": 207,
   "id": "dada904d-8339-46d8-b60f-45c639127e85",
   "metadata": {},
   "outputs": [
    {
     "name": "stdout",
     "output_type": "stream",
     "text": [
      "idle test -- 308 pred -- 308\n",
      "walking test -- 615 pred -- 615\n",
      "stairs test -- 20 pred -- 20\n",
      "running test -- 996 pred -- 996\n"
     ]
    }
   ],
   "source": [
    "make_report(y_test_proba, y_test)"
   ]
  },
  {
   "cell_type": "code",
   "execution_count": null,
   "id": "ad132d75-9e41-4226-9784-908a78c5f795",
   "metadata": {},
   "outputs": [],
   "source": []
  },
  {
   "cell_type": "markdown",
   "id": "7feb7668-ecc7-4092-9b4b-da7ab6a3053e",
   "metadata": {},
   "source": [
    "### 3.3. SVM stat+fft"
   ]
  },
  {
   "cell_type": "code",
   "execution_count": 208,
   "id": "4a6b7d54-ea18-4dbe-8178-8258a42143da",
   "metadata": {},
   "outputs": [],
   "source": [
    "from sklearn.model_selection import cross_val_score  # оцінювання продуктивності моделі з використанням крос-валідації\n",
    "from sklearn.metrics import f1_score, accuracy_score  # розрахунок метрик якості моделі\n",
    "from sklearn import svm"
   ]
  },
  {
   "cell_type": "code",
   "execution_count": 209,
   "id": "e944c820-60a6-43ba-aa97-2d909e2f94d2",
   "metadata": {},
   "outputs": [],
   "source": [
    "# Завантажимо датасет 'stat_data_Y.pickle'\n",
    "X, Y = open_data_set('fft_stat')\n",
    "\n",
    "# Розіб'ємо завантажені дані на навчальну і тестову частини\n",
    "from sklearn import model_selection\n",
    "X_train, X_test, y_train, y_test = model_selection.train_test_split(X, Y, test_size=0.3)"
   ]
  },
  {
   "cell_type": "markdown",
   "id": "6aafb308-507f-4d1f-ac08-ba2b1cc26354",
   "metadata": {},
   "source": [
    "### 3.3.1. SVM gamma=0.01"
   ]
  },
  {
   "cell_type": "code",
   "execution_count": 210,
   "id": "f9392ccf-015c-43dd-a41a-5bd712eeb56a",
   "metadata": {},
   "outputs": [],
   "source": [
    "# Створимо класифікатор для багатокласової класифікації з gamma=0.01\n",
    "classifier = svm.SVC(decision_function_shape='ovo', kernel='rbf', gamma=0.01, probability=True)\n",
    "# 'svm.SVC' - створення об'єкта класифікатора\n",
    "# \"decision_function_shape='ovo'\" - використовується метод \"one-vs-one\"\n",
    "# \"kernel='rbf'\" - задає використання радіально-базової функції (Radial Basis Function, RBF) як ядро SVM\n",
    "# \"gamma=0.01\" - параметр, який впливає на форму гіперповерхні рішення\n",
    "# \"probability=True\" - вказує, що класифікатор повинен надавати оцінки ймовірності кожного класу при виклику методу predict_proba"
   ]
  },
  {
   "cell_type": "code",
   "execution_count": 211,
   "id": "6d50553e-fa68-48f9-8f30-51451563e8a8",
   "metadata": {},
   "outputs": [
    {
     "data": {
      "text/html": [
       "<style>#sk-container-id-22 {color: black;}#sk-container-id-22 pre{padding: 0;}#sk-container-id-22 div.sk-toggleable {background-color: white;}#sk-container-id-22 label.sk-toggleable__label {cursor: pointer;display: block;width: 100%;margin-bottom: 0;padding: 0.3em;box-sizing: border-box;text-align: center;}#sk-container-id-22 label.sk-toggleable__label-arrow:before {content: \"▸\";float: left;margin-right: 0.25em;color: #696969;}#sk-container-id-22 label.sk-toggleable__label-arrow:hover:before {color: black;}#sk-container-id-22 div.sk-estimator:hover label.sk-toggleable__label-arrow:before {color: black;}#sk-container-id-22 div.sk-toggleable__content {max-height: 0;max-width: 0;overflow: hidden;text-align: left;background-color: #f0f8ff;}#sk-container-id-22 div.sk-toggleable__content pre {margin: 0.2em;color: black;border-radius: 0.25em;background-color: #f0f8ff;}#sk-container-id-22 input.sk-toggleable__control:checked~div.sk-toggleable__content {max-height: 200px;max-width: 100%;overflow: auto;}#sk-container-id-22 input.sk-toggleable__control:checked~label.sk-toggleable__label-arrow:before {content: \"▾\";}#sk-container-id-22 div.sk-estimator input.sk-toggleable__control:checked~label.sk-toggleable__label {background-color: #d4ebff;}#sk-container-id-22 div.sk-label input.sk-toggleable__control:checked~label.sk-toggleable__label {background-color: #d4ebff;}#sk-container-id-22 input.sk-hidden--visually {border: 0;clip: rect(1px 1px 1px 1px);clip: rect(1px, 1px, 1px, 1px);height: 1px;margin: -1px;overflow: hidden;padding: 0;position: absolute;width: 1px;}#sk-container-id-22 div.sk-estimator {font-family: monospace;background-color: #f0f8ff;border: 1px dotted black;border-radius: 0.25em;box-sizing: border-box;margin-bottom: 0.5em;}#sk-container-id-22 div.sk-estimator:hover {background-color: #d4ebff;}#sk-container-id-22 div.sk-parallel-item::after {content: \"\";width: 100%;border-bottom: 1px solid gray;flex-grow: 1;}#sk-container-id-22 div.sk-label:hover label.sk-toggleable__label {background-color: #d4ebff;}#sk-container-id-22 div.sk-serial::before {content: \"\";position: absolute;border-left: 1px solid gray;box-sizing: border-box;top: 0;bottom: 0;left: 50%;z-index: 0;}#sk-container-id-22 div.sk-serial {display: flex;flex-direction: column;align-items: center;background-color: white;padding-right: 0.2em;padding-left: 0.2em;position: relative;}#sk-container-id-22 div.sk-item {position: relative;z-index: 1;}#sk-container-id-22 div.sk-parallel {display: flex;align-items: stretch;justify-content: center;background-color: white;position: relative;}#sk-container-id-22 div.sk-item::before, #sk-container-id-22 div.sk-parallel-item::before {content: \"\";position: absolute;border-left: 1px solid gray;box-sizing: border-box;top: 0;bottom: 0;left: 50%;z-index: -1;}#sk-container-id-22 div.sk-parallel-item {display: flex;flex-direction: column;z-index: 1;position: relative;background-color: white;}#sk-container-id-22 div.sk-parallel-item:first-child::after {align-self: flex-end;width: 50%;}#sk-container-id-22 div.sk-parallel-item:last-child::after {align-self: flex-start;width: 50%;}#sk-container-id-22 div.sk-parallel-item:only-child::after {width: 0;}#sk-container-id-22 div.sk-dashed-wrapped {border: 1px dashed gray;margin: 0 0.4em 0.5em 0.4em;box-sizing: border-box;padding-bottom: 0.4em;background-color: white;}#sk-container-id-22 div.sk-label label {font-family: monospace;font-weight: bold;display: inline-block;line-height: 1.2em;}#sk-container-id-22 div.sk-label-container {text-align: center;}#sk-container-id-22 div.sk-container {/* jupyter's `normalize.less` sets `[hidden] { display: none; }` but bootstrap.min.css set `[hidden] { display: none !important; }` so we also need the `!important` here to be able to override the default hidden behavior on the sphinx rendered scikit-learn.org. See: https://github.com/scikit-learn/scikit-learn/issues/21755 */display: inline-block !important;position: relative;}#sk-container-id-22 div.sk-text-repr-fallback {display: none;}</style><div id=\"sk-container-id-22\" class=\"sk-top-container\"><div class=\"sk-text-repr-fallback\"><pre>SVC(decision_function_shape=&#x27;ovo&#x27;, gamma=0.01, probability=True)</pre><b>In a Jupyter environment, please rerun this cell to show the HTML representation or trust the notebook. <br />On GitHub, the HTML representation is unable to render, please try loading this page with nbviewer.org.</b></div><div class=\"sk-container\" hidden><div class=\"sk-item\"><div class=\"sk-estimator sk-toggleable\"><input class=\"sk-toggleable__control sk-hidden--visually\" id=\"sk-estimator-id-22\" type=\"checkbox\" checked><label for=\"sk-estimator-id-22\" class=\"sk-toggleable__label sk-toggleable__label-arrow\">SVC</label><div class=\"sk-toggleable__content\"><pre>SVC(decision_function_shape=&#x27;ovo&#x27;, gamma=0.01, probability=True)</pre></div></div></div></div></div>"
      ],
      "text/plain": [
       "SVC(decision_function_shape='ovo', gamma=0.01, probability=True)"
      ]
     },
     "execution_count": 211,
     "metadata": {},
     "output_type": "execute_result"
    }
   ],
   "source": [
    "# Проведемо навчання класифікатора на навчальній вибірці підготовлених даних но основі часових ознак\n",
    "classifier.fit(X_train, y_train)"
   ]
  },
  {
   "cell_type": "code",
   "execution_count": 212,
   "id": "9d6a87b1-7ad3-4e4a-86dd-bcc5d3a7d4a0",
   "metadata": {},
   "outputs": [
    {
     "data": {
      "text/plain": [
       "0.845452636308582"
      ]
     },
     "execution_count": 212,
     "metadata": {},
     "output_type": "execute_result"
    }
   ],
   "source": [
    "# Оцінимо продуктивність моделі з використанням крос-валідації\n",
    "scores = cross_val_score(classifier, X_train, y_train, cv=10)  # cv=10 - к-ть фолдів (10-ти кратна крос-валідація)\n",
    "scores.mean()  # середнє значення продуктивності"
   ]
  },
  {
   "cell_type": "code",
   "execution_count": 213,
   "id": "601df2ae-d906-49b8-ab9d-8d051d036a11",
   "metadata": {},
   "outputs": [
    {
     "data": {
      "text/plain": [
       "0.9731820526044352"
      ]
     },
     "execution_count": 213,
     "metadata": {},
     "output_type": "execute_result"
    }
   ],
   "source": [
    "# Перевіримо точність передбачень на тестовій вибірці\n",
    "y_test_proba = classifier.predict_proba(X_test)  # ймовірність приналежності до класів для кожного об'єкта у тестовому наборі\n",
    "y_test_proba = np.argmax(y_test_proba, axis=1)  # вибір індексу з найвищою ймовірністю (тобто класу з найвищою ймовірністю) для кожного об'єкта у тестовому наборі\n",
    "accuracy = accuracy_score(y_test, y_test_proba)  # порівнює фактичні мітки (y_test) з передбаченими мітками (y_test_proba) і обчислює точність передбачення\n",
    "accuracy"
   ]
  },
  {
   "cell_type": "code",
   "execution_count": 214,
   "id": "2de1885b-d352-448c-8530-ae829b2dfa88",
   "metadata": {},
   "outputs": [
    {
     "name": "stdout",
     "output_type": "stream",
     "text": [
      "idle test -- 302 pred -- 302\n",
      "walking test -- 508 pred -- 508\n",
      "stairs test -- 42 pred -- 42\n",
      "running test -- 1087 pred -- 1087\n"
     ]
    }
   ],
   "source": [
    "make_report(y_test_proba, y_test)"
   ]
  },
  {
   "cell_type": "markdown",
   "id": "a7e29267-cea1-40ae-8049-250828ab373f",
   "metadata": {},
   "source": [
    "### 3.3.2. SVM gamma='scale'"
   ]
  },
  {
   "cell_type": "code",
   "execution_count": 215,
   "id": "32be26b2-eeeb-4ee1-865e-84fdc9a939b4",
   "metadata": {},
   "outputs": [
    {
     "data": {
      "text/html": [
       "<style>#sk-container-id-23 {color: black;}#sk-container-id-23 pre{padding: 0;}#sk-container-id-23 div.sk-toggleable {background-color: white;}#sk-container-id-23 label.sk-toggleable__label {cursor: pointer;display: block;width: 100%;margin-bottom: 0;padding: 0.3em;box-sizing: border-box;text-align: center;}#sk-container-id-23 label.sk-toggleable__label-arrow:before {content: \"▸\";float: left;margin-right: 0.25em;color: #696969;}#sk-container-id-23 label.sk-toggleable__label-arrow:hover:before {color: black;}#sk-container-id-23 div.sk-estimator:hover label.sk-toggleable__label-arrow:before {color: black;}#sk-container-id-23 div.sk-toggleable__content {max-height: 0;max-width: 0;overflow: hidden;text-align: left;background-color: #f0f8ff;}#sk-container-id-23 div.sk-toggleable__content pre {margin: 0.2em;color: black;border-radius: 0.25em;background-color: #f0f8ff;}#sk-container-id-23 input.sk-toggleable__control:checked~div.sk-toggleable__content {max-height: 200px;max-width: 100%;overflow: auto;}#sk-container-id-23 input.sk-toggleable__control:checked~label.sk-toggleable__label-arrow:before {content: \"▾\";}#sk-container-id-23 div.sk-estimator input.sk-toggleable__control:checked~label.sk-toggleable__label {background-color: #d4ebff;}#sk-container-id-23 div.sk-label input.sk-toggleable__control:checked~label.sk-toggleable__label {background-color: #d4ebff;}#sk-container-id-23 input.sk-hidden--visually {border: 0;clip: rect(1px 1px 1px 1px);clip: rect(1px, 1px, 1px, 1px);height: 1px;margin: -1px;overflow: hidden;padding: 0;position: absolute;width: 1px;}#sk-container-id-23 div.sk-estimator {font-family: monospace;background-color: #f0f8ff;border: 1px dotted black;border-radius: 0.25em;box-sizing: border-box;margin-bottom: 0.5em;}#sk-container-id-23 div.sk-estimator:hover {background-color: #d4ebff;}#sk-container-id-23 div.sk-parallel-item::after {content: \"\";width: 100%;border-bottom: 1px solid gray;flex-grow: 1;}#sk-container-id-23 div.sk-label:hover label.sk-toggleable__label {background-color: #d4ebff;}#sk-container-id-23 div.sk-serial::before {content: \"\";position: absolute;border-left: 1px solid gray;box-sizing: border-box;top: 0;bottom: 0;left: 50%;z-index: 0;}#sk-container-id-23 div.sk-serial {display: flex;flex-direction: column;align-items: center;background-color: white;padding-right: 0.2em;padding-left: 0.2em;position: relative;}#sk-container-id-23 div.sk-item {position: relative;z-index: 1;}#sk-container-id-23 div.sk-parallel {display: flex;align-items: stretch;justify-content: center;background-color: white;position: relative;}#sk-container-id-23 div.sk-item::before, #sk-container-id-23 div.sk-parallel-item::before {content: \"\";position: absolute;border-left: 1px solid gray;box-sizing: border-box;top: 0;bottom: 0;left: 50%;z-index: -1;}#sk-container-id-23 div.sk-parallel-item {display: flex;flex-direction: column;z-index: 1;position: relative;background-color: white;}#sk-container-id-23 div.sk-parallel-item:first-child::after {align-self: flex-end;width: 50%;}#sk-container-id-23 div.sk-parallel-item:last-child::after {align-self: flex-start;width: 50%;}#sk-container-id-23 div.sk-parallel-item:only-child::after {width: 0;}#sk-container-id-23 div.sk-dashed-wrapped {border: 1px dashed gray;margin: 0 0.4em 0.5em 0.4em;box-sizing: border-box;padding-bottom: 0.4em;background-color: white;}#sk-container-id-23 div.sk-label label {font-family: monospace;font-weight: bold;display: inline-block;line-height: 1.2em;}#sk-container-id-23 div.sk-label-container {text-align: center;}#sk-container-id-23 div.sk-container {/* jupyter's `normalize.less` sets `[hidden] { display: none; }` but bootstrap.min.css set `[hidden] { display: none !important; }` so we also need the `!important` here to be able to override the default hidden behavior on the sphinx rendered scikit-learn.org. See: https://github.com/scikit-learn/scikit-learn/issues/21755 */display: inline-block !important;position: relative;}#sk-container-id-23 div.sk-text-repr-fallback {display: none;}</style><div id=\"sk-container-id-23\" class=\"sk-top-container\"><div class=\"sk-text-repr-fallback\"><pre>SVC(decision_function_shape=&#x27;ovo&#x27;, probability=True)</pre><b>In a Jupyter environment, please rerun this cell to show the HTML representation or trust the notebook. <br />On GitHub, the HTML representation is unable to render, please try loading this page with nbviewer.org.</b></div><div class=\"sk-container\" hidden><div class=\"sk-item\"><div class=\"sk-estimator sk-toggleable\"><input class=\"sk-toggleable__control sk-hidden--visually\" id=\"sk-estimator-id-23\" type=\"checkbox\" checked><label for=\"sk-estimator-id-23\" class=\"sk-toggleable__label sk-toggleable__label-arrow\">SVC</label><div class=\"sk-toggleable__content\"><pre>SVC(decision_function_shape=&#x27;ovo&#x27;, probability=True)</pre></div></div></div></div></div>"
      ],
      "text/plain": [
       "SVC(decision_function_shape='ovo', probability=True)"
      ]
     },
     "execution_count": 215,
     "metadata": {},
     "output_type": "execute_result"
    }
   ],
   "source": [
    "# Створимо класифікатор для багатокласової класифікації з gamma='scale' (параметр за замовчуванням) (атвоматичне масштабування gamma) \n",
    "classifier = svm.SVC(decision_function_shape='ovo', probability=True)\n",
    "# Проведемо навчання класифікатора на навчальній вибірці підготовлених даних но основі часових ознак\n",
    "classifier.fit(X_train, y_train)"
   ]
  },
  {
   "cell_type": "code",
   "execution_count": 216,
   "id": "7c5c5e87-ba99-4cf4-b81b-8cb8d4afaf18",
   "metadata": {},
   "outputs": [
    {
     "data": {
      "text/plain": [
       "0.9734689093359901"
      ]
     },
     "execution_count": 216,
     "metadata": {},
     "output_type": "execute_result"
    }
   ],
   "source": [
    "# Оцінимо продуктивність моделі з використанням крос-валідації\n",
    "scores = cross_val_score(classifier, X_train, y_train, cv=10)  # cv=10 - к-ть фолдів (10-ти кратна крос-валідація)\n",
    "scores.mean()"
   ]
  },
  {
   "cell_type": "code",
   "execution_count": 217,
   "id": "92954a24-5050-4ba0-8c40-2de3f67d7577",
   "metadata": {},
   "outputs": [
    {
     "data": {
      "text/plain": [
       "0.9871067560598247"
      ]
     },
     "execution_count": 217,
     "metadata": {},
     "output_type": "execute_result"
    }
   ],
   "source": [
    "# Перевіримо точність передбачень на тестовій вибірці\n",
    "y_test_proba = classifier.predict_proba(X_test)  # ймовірність приналежності до класів для кожного об'єкта у тестовому наборі\n",
    "y_test_proba = np.argmax(y_test_proba, axis=1)  # вибір індексу з найвищою ймовірністю (тобто класу з найвищою ймовірністю) для кожного об'єкта у тестовому наборі\n",
    "accuracy = accuracy_score(y_test, y_test_proba)  # порівнює фактичні мітки (y_test) з передбаченими мітками (y_test_proba) і обчислює точність передбачення\n",
    "accuracy"
   ]
  },
  {
   "cell_type": "code",
   "execution_count": 218,
   "id": "969d7682-c9fb-4bd1-ba82-a3b68686d733",
   "metadata": {},
   "outputs": [
    {
     "name": "stdout",
     "output_type": "stream",
     "text": [
      "idle test -- 318 pred -- 318\n",
      "walking test -- 534 pred -- 534\n",
      "stairs test -- 50 pred -- 50\n",
      "running test -- 1037 pred -- 1037\n"
     ]
    }
   ],
   "source": [
    "make_report(y_test_proba, y_test)"
   ]
  },
  {
   "cell_type": "markdown",
   "id": "acf1d750-f82a-470c-98fc-25607a83bb7a",
   "metadata": {},
   "source": [
    "### 3.3.3. SVM kernel='linear'"
   ]
  },
  {
   "cell_type": "code",
   "execution_count": 219,
   "id": "b3dd7c6c-49ad-4048-9d93-c428d51d538e",
   "metadata": {},
   "outputs": [
    {
     "data": {
      "text/html": [
       "<style>#sk-container-id-24 {color: black;}#sk-container-id-24 pre{padding: 0;}#sk-container-id-24 div.sk-toggleable {background-color: white;}#sk-container-id-24 label.sk-toggleable__label {cursor: pointer;display: block;width: 100%;margin-bottom: 0;padding: 0.3em;box-sizing: border-box;text-align: center;}#sk-container-id-24 label.sk-toggleable__label-arrow:before {content: \"▸\";float: left;margin-right: 0.25em;color: #696969;}#sk-container-id-24 label.sk-toggleable__label-arrow:hover:before {color: black;}#sk-container-id-24 div.sk-estimator:hover label.sk-toggleable__label-arrow:before {color: black;}#sk-container-id-24 div.sk-toggleable__content {max-height: 0;max-width: 0;overflow: hidden;text-align: left;background-color: #f0f8ff;}#sk-container-id-24 div.sk-toggleable__content pre {margin: 0.2em;color: black;border-radius: 0.25em;background-color: #f0f8ff;}#sk-container-id-24 input.sk-toggleable__control:checked~div.sk-toggleable__content {max-height: 200px;max-width: 100%;overflow: auto;}#sk-container-id-24 input.sk-toggleable__control:checked~label.sk-toggleable__label-arrow:before {content: \"▾\";}#sk-container-id-24 div.sk-estimator input.sk-toggleable__control:checked~label.sk-toggleable__label {background-color: #d4ebff;}#sk-container-id-24 div.sk-label input.sk-toggleable__control:checked~label.sk-toggleable__label {background-color: #d4ebff;}#sk-container-id-24 input.sk-hidden--visually {border: 0;clip: rect(1px 1px 1px 1px);clip: rect(1px, 1px, 1px, 1px);height: 1px;margin: -1px;overflow: hidden;padding: 0;position: absolute;width: 1px;}#sk-container-id-24 div.sk-estimator {font-family: monospace;background-color: #f0f8ff;border: 1px dotted black;border-radius: 0.25em;box-sizing: border-box;margin-bottom: 0.5em;}#sk-container-id-24 div.sk-estimator:hover {background-color: #d4ebff;}#sk-container-id-24 div.sk-parallel-item::after {content: \"\";width: 100%;border-bottom: 1px solid gray;flex-grow: 1;}#sk-container-id-24 div.sk-label:hover label.sk-toggleable__label {background-color: #d4ebff;}#sk-container-id-24 div.sk-serial::before {content: \"\";position: absolute;border-left: 1px solid gray;box-sizing: border-box;top: 0;bottom: 0;left: 50%;z-index: 0;}#sk-container-id-24 div.sk-serial {display: flex;flex-direction: column;align-items: center;background-color: white;padding-right: 0.2em;padding-left: 0.2em;position: relative;}#sk-container-id-24 div.sk-item {position: relative;z-index: 1;}#sk-container-id-24 div.sk-parallel {display: flex;align-items: stretch;justify-content: center;background-color: white;position: relative;}#sk-container-id-24 div.sk-item::before, #sk-container-id-24 div.sk-parallel-item::before {content: \"\";position: absolute;border-left: 1px solid gray;box-sizing: border-box;top: 0;bottom: 0;left: 50%;z-index: -1;}#sk-container-id-24 div.sk-parallel-item {display: flex;flex-direction: column;z-index: 1;position: relative;background-color: white;}#sk-container-id-24 div.sk-parallel-item:first-child::after {align-self: flex-end;width: 50%;}#sk-container-id-24 div.sk-parallel-item:last-child::after {align-self: flex-start;width: 50%;}#sk-container-id-24 div.sk-parallel-item:only-child::after {width: 0;}#sk-container-id-24 div.sk-dashed-wrapped {border: 1px dashed gray;margin: 0 0.4em 0.5em 0.4em;box-sizing: border-box;padding-bottom: 0.4em;background-color: white;}#sk-container-id-24 div.sk-label label {font-family: monospace;font-weight: bold;display: inline-block;line-height: 1.2em;}#sk-container-id-24 div.sk-label-container {text-align: center;}#sk-container-id-24 div.sk-container {/* jupyter's `normalize.less` sets `[hidden] { display: none; }` but bootstrap.min.css set `[hidden] { display: none !important; }` so we also need the `!important` here to be able to override the default hidden behavior on the sphinx rendered scikit-learn.org. See: https://github.com/scikit-learn/scikit-learn/issues/21755 */display: inline-block !important;position: relative;}#sk-container-id-24 div.sk-text-repr-fallback {display: none;}</style><div id=\"sk-container-id-24\" class=\"sk-top-container\"><div class=\"sk-text-repr-fallback\"><pre>SVC(decision_function_shape=&#x27;ovo&#x27;, kernel=&#x27;linear&#x27;, probability=True)</pre><b>In a Jupyter environment, please rerun this cell to show the HTML representation or trust the notebook. <br />On GitHub, the HTML representation is unable to render, please try loading this page with nbviewer.org.</b></div><div class=\"sk-container\" hidden><div class=\"sk-item\"><div class=\"sk-estimator sk-toggleable\"><input class=\"sk-toggleable__control sk-hidden--visually\" id=\"sk-estimator-id-24\" type=\"checkbox\" checked><label for=\"sk-estimator-id-24\" class=\"sk-toggleable__label sk-toggleable__label-arrow\">SVC</label><div class=\"sk-toggleable__content\"><pre>SVC(decision_function_shape=&#x27;ovo&#x27;, kernel=&#x27;linear&#x27;, probability=True)</pre></div></div></div></div></div>"
      ],
      "text/plain": [
       "SVC(decision_function_shape='ovo', kernel='linear', probability=True)"
      ]
     },
     "execution_count": 219,
     "metadata": {},
     "output_type": "execute_result"
    }
   ],
   "source": [
    "# Створимо класифікатор для багатокласової класифікації з ядром kernel='linear' \n",
    "classifier = svm.SVC(decision_function_shape='ovo', probability=True, kernel='linear')\n",
    "# Проведемо навчання класифікатора на навчальній вибірці підготовлених даних но основі часових ознак\n",
    "classifier.fit(X_train, y_train)"
   ]
  },
  {
   "cell_type": "code",
   "execution_count": 220,
   "id": "1dbde15b-c7ea-43d9-ac9e-c8c76930fa59",
   "metadata": {},
   "outputs": [
    {
     "data": {
      "text/plain": [
       "0.9927044872921916"
      ]
     },
     "execution_count": 220,
     "metadata": {},
     "output_type": "execute_result"
    }
   ],
   "source": [
    "# Оцінимо продуктивність моделі з використанням крос-валідації\n",
    "scores = cross_val_score(classifier, X_train, y_train, cv=10)  # cv=10 - к-ть фолдів (10-ти кратна крос-валідація)\n",
    "scores.mean()"
   ]
  },
  {
   "cell_type": "code",
   "execution_count": 221,
   "id": "39cbddbc-4b77-4150-9269-210151591fa4",
   "metadata": {},
   "outputs": [
    {
     "data": {
      "text/plain": [
       "0.9963898916967509"
      ]
     },
     "execution_count": 221,
     "metadata": {},
     "output_type": "execute_result"
    }
   ],
   "source": [
    "# Перевіримо точність передбачень на тестовій вибірці\n",
    "y_test_proba = classifier.predict_proba(X_test)  # ймовірність приналежності до класів для кожного об'єкта у тестовому наборі\n",
    "y_test_proba = np.argmax(y_test_proba, axis=1)  # вибір індексу з найвищою ймовірністю (тобто класу з найвищою ймовірністю) для кожного об'єкта у тестовому наборі\n",
    "accuracy = accuracy_score(y_test, y_test_proba)  # порівнює фактичні мітки (y_test) з передбаченими мітками (y_test_proba) і обчислює точність передбачення\n",
    "accuracy"
   ]
  },
  {
   "cell_type": "code",
   "execution_count": 222,
   "id": "9b63819b-7396-4596-b8a5-bfdc0a0dbdb6",
   "metadata": {},
   "outputs": [
    {
     "name": "stdout",
     "output_type": "stream",
     "text": [
      "idle test -- 318 pred -- 318\n",
      "walking test -- 536 pred -- 536\n",
      "stairs test -- 48 pred -- 48\n",
      "running test -- 1037 pred -- 1037\n"
     ]
    }
   ],
   "source": [
    "make_report(y_test_proba, y_test)"
   ]
  },
  {
   "cell_type": "markdown",
   "id": "7c05e7c8-02e9-41f1-baa6-702cb1974894",
   "metadata": {},
   "source": [
    "### 3.3.4. SVM OVR (One-Vs-Rest)"
   ]
  },
  {
   "cell_type": "code",
   "execution_count": 223,
   "id": "2b9ac755-4ae8-4938-885c-e12dcc5c651a",
   "metadata": {},
   "outputs": [
    {
     "data": {
      "text/plain": [
       "0.9927044872921916"
      ]
     },
     "execution_count": 223,
     "metadata": {},
     "output_type": "execute_result"
    }
   ],
   "source": [
    "cls_ovr = svm.SVC(probability=True, kernel='linear')\n",
    "\n",
    "# Оцінимо продуктивність моделі з використанням крос-валідації\n",
    "scores = cross_val_score(cls_ovr, X_train, y_train, cv=10)\n",
    "scores.mean()"
   ]
  },
  {
   "cell_type": "code",
   "execution_count": 224,
   "id": "2b012e2a-7b23-42f5-8f55-7b0ae24aa0fc",
   "metadata": {},
   "outputs": [
    {
     "data": {
      "text/html": [
       "<style>#sk-container-id-25 {color: black;}#sk-container-id-25 pre{padding: 0;}#sk-container-id-25 div.sk-toggleable {background-color: white;}#sk-container-id-25 label.sk-toggleable__label {cursor: pointer;display: block;width: 100%;margin-bottom: 0;padding: 0.3em;box-sizing: border-box;text-align: center;}#sk-container-id-25 label.sk-toggleable__label-arrow:before {content: \"▸\";float: left;margin-right: 0.25em;color: #696969;}#sk-container-id-25 label.sk-toggleable__label-arrow:hover:before {color: black;}#sk-container-id-25 div.sk-estimator:hover label.sk-toggleable__label-arrow:before {color: black;}#sk-container-id-25 div.sk-toggleable__content {max-height: 0;max-width: 0;overflow: hidden;text-align: left;background-color: #f0f8ff;}#sk-container-id-25 div.sk-toggleable__content pre {margin: 0.2em;color: black;border-radius: 0.25em;background-color: #f0f8ff;}#sk-container-id-25 input.sk-toggleable__control:checked~div.sk-toggleable__content {max-height: 200px;max-width: 100%;overflow: auto;}#sk-container-id-25 input.sk-toggleable__control:checked~label.sk-toggleable__label-arrow:before {content: \"▾\";}#sk-container-id-25 div.sk-estimator input.sk-toggleable__control:checked~label.sk-toggleable__label {background-color: #d4ebff;}#sk-container-id-25 div.sk-label input.sk-toggleable__control:checked~label.sk-toggleable__label {background-color: #d4ebff;}#sk-container-id-25 input.sk-hidden--visually {border: 0;clip: rect(1px 1px 1px 1px);clip: rect(1px, 1px, 1px, 1px);height: 1px;margin: -1px;overflow: hidden;padding: 0;position: absolute;width: 1px;}#sk-container-id-25 div.sk-estimator {font-family: monospace;background-color: #f0f8ff;border: 1px dotted black;border-radius: 0.25em;box-sizing: border-box;margin-bottom: 0.5em;}#sk-container-id-25 div.sk-estimator:hover {background-color: #d4ebff;}#sk-container-id-25 div.sk-parallel-item::after {content: \"\";width: 100%;border-bottom: 1px solid gray;flex-grow: 1;}#sk-container-id-25 div.sk-label:hover label.sk-toggleable__label {background-color: #d4ebff;}#sk-container-id-25 div.sk-serial::before {content: \"\";position: absolute;border-left: 1px solid gray;box-sizing: border-box;top: 0;bottom: 0;left: 50%;z-index: 0;}#sk-container-id-25 div.sk-serial {display: flex;flex-direction: column;align-items: center;background-color: white;padding-right: 0.2em;padding-left: 0.2em;position: relative;}#sk-container-id-25 div.sk-item {position: relative;z-index: 1;}#sk-container-id-25 div.sk-parallel {display: flex;align-items: stretch;justify-content: center;background-color: white;position: relative;}#sk-container-id-25 div.sk-item::before, #sk-container-id-25 div.sk-parallel-item::before {content: \"\";position: absolute;border-left: 1px solid gray;box-sizing: border-box;top: 0;bottom: 0;left: 50%;z-index: -1;}#sk-container-id-25 div.sk-parallel-item {display: flex;flex-direction: column;z-index: 1;position: relative;background-color: white;}#sk-container-id-25 div.sk-parallel-item:first-child::after {align-self: flex-end;width: 50%;}#sk-container-id-25 div.sk-parallel-item:last-child::after {align-self: flex-start;width: 50%;}#sk-container-id-25 div.sk-parallel-item:only-child::after {width: 0;}#sk-container-id-25 div.sk-dashed-wrapped {border: 1px dashed gray;margin: 0 0.4em 0.5em 0.4em;box-sizing: border-box;padding-bottom: 0.4em;background-color: white;}#sk-container-id-25 div.sk-label label {font-family: monospace;font-weight: bold;display: inline-block;line-height: 1.2em;}#sk-container-id-25 div.sk-label-container {text-align: center;}#sk-container-id-25 div.sk-container {/* jupyter's `normalize.less` sets `[hidden] { display: none; }` but bootstrap.min.css set `[hidden] { display: none !important; }` so we also need the `!important` here to be able to override the default hidden behavior on the sphinx rendered scikit-learn.org. See: https://github.com/scikit-learn/scikit-learn/issues/21755 */display: inline-block !important;position: relative;}#sk-container-id-25 div.sk-text-repr-fallback {display: none;}</style><div id=\"sk-container-id-25\" class=\"sk-top-container\"><div class=\"sk-text-repr-fallback\"><pre>SVC(kernel=&#x27;linear&#x27;, probability=True)</pre><b>In a Jupyter environment, please rerun this cell to show the HTML representation or trust the notebook. <br />On GitHub, the HTML representation is unable to render, please try loading this page with nbviewer.org.</b></div><div class=\"sk-container\" hidden><div class=\"sk-item\"><div class=\"sk-estimator sk-toggleable\"><input class=\"sk-toggleable__control sk-hidden--visually\" id=\"sk-estimator-id-25\" type=\"checkbox\" checked><label for=\"sk-estimator-id-25\" class=\"sk-toggleable__label sk-toggleable__label-arrow\">SVC</label><div class=\"sk-toggleable__content\"><pre>SVC(kernel=&#x27;linear&#x27;, probability=True)</pre></div></div></div></div></div>"
      ],
      "text/plain": [
       "SVC(kernel='linear', probability=True)"
      ]
     },
     "execution_count": 224,
     "metadata": {},
     "output_type": "execute_result"
    }
   ],
   "source": [
    "# Проведемо навчання класифікатора\n",
    "cls_ovr.fit(X_train, y_train)"
   ]
  },
  {
   "cell_type": "code",
   "execution_count": 225,
   "id": "d9c2a7a3-5035-4518-b0ef-8cd1fa784855",
   "metadata": {},
   "outputs": [
    {
     "data": {
      "text/plain": [
       "0.9963898916967509"
      ]
     },
     "execution_count": 225,
     "metadata": {},
     "output_type": "execute_result"
    }
   ],
   "source": [
    "# Перевіримо точність передбачень на тестовій вибірці\n",
    "y_test_proba = cls_ovr.predict_proba(X_test)  # ймовірність приналежності до класів для кожного об'єкта у тестовому наборі\n",
    "y_test_proba = np.argmax(y_test_proba, axis=1)  # вибір індексу з найвищою ймовірністю (тобто класу з найвищою ймовірністю) для кожного об'єкта у тестовому наборі\n",
    "accuracy = accuracy_score(y_test, y_test_proba)  # порівнює фактичні мітки (y_test) з передбаченими мітками (y_test_proba) і обчислює точність передбачення\n",
    "accuracy"
   ]
  },
  {
   "cell_type": "code",
   "execution_count": 226,
   "id": "3bbe46d0-7b18-4275-9d15-348bdbc0a90b",
   "metadata": {},
   "outputs": [
    {
     "name": "stdout",
     "output_type": "stream",
     "text": [
      "idle test -- 318 pred -- 318\n",
      "walking test -- 536 pred -- 536\n",
      "stairs test -- 48 pred -- 48\n",
      "running test -- 1037 pred -- 1037\n"
     ]
    }
   ],
   "source": [
    "make_report(y_test_proba, y_test)"
   ]
  },
  {
   "cell_type": "markdown",
   "id": "c6eaa0ce-3927-41b4-9f59-84b2607afc76",
   "metadata": {},
   "source": [
    "## 4. Класифікація методом випадкового лісу (Random Forest)"
   ]
  },
  {
   "cell_type": "markdown",
   "id": "187a408b-a753-4b78-a7c8-f2d8e54a4c51",
   "metadata": {},
   "source": [
    "### 4.1. RF stat"
   ]
  },
  {
   "cell_type": "code",
   "execution_count": 227,
   "id": "0a0857a0-6764-4538-918d-dacc25985ce5",
   "metadata": {},
   "outputs": [],
   "source": [
    "from sklearn.model_selection import cross_val_score\n",
    "from sklearn.ensemble import RandomForestClassifier"
   ]
  },
  {
   "cell_type": "code",
   "execution_count": 228,
   "id": "75c20eea-d0a8-40ca-8d90-f0a7ea2d58ee",
   "metadata": {},
   "outputs": [],
   "source": [
    "# Створимо екземпляр RF\n",
    "clf = RandomForestClassifier(n_estimators=15, max_depth=None)\n",
    "# 'n_estimators=15' - кількість \"дерев в лісі\";\n",
    "# 'max_depth=None' - цей параметр визначає максимальну глибину кожного дерева. None означає, що дерева не обмежені по глибині, \n",
    "# і вони будуть будуватися до тих пір, поки кожен лист не міститиме менше, ніж min_samples_split елементів"
   ]
  },
  {
   "cell_type": "code",
   "execution_count": 229,
   "id": "c7cadb5e-d3ba-42a0-b562-d1bdca08d65e",
   "metadata": {},
   "outputs": [],
   "source": [
    "# Завантажимо датасет 'stat_data_Y.pickle'\n",
    "X, Y = open_data_set('stat')\n",
    "\n",
    "# Розіб'ємо завантажені дані на навчальну і тестову частини\n",
    "from sklearn import model_selection\n",
    "X_train, X_test, y_train, y_test = model_selection.train_test_split(X, Y, test_size=0.3)"
   ]
  },
  {
   "cell_type": "code",
   "execution_count": 230,
   "id": "ff08e3cb-38fd-4237-b962-d4f1dc144ac9",
   "metadata": {},
   "outputs": [],
   "source": [
    "# Навчаємо модель\n",
    "clf = clf.fit(X_train, y_train)"
   ]
  },
  {
   "cell_type": "code",
   "execution_count": 231,
   "id": "bc75f27b-0d9a-48c7-9259-09b465a994f9",
   "metadata": {},
   "outputs": [
    {
     "data": {
      "text/plain": [
       "0.9980098263298756"
      ]
     },
     "execution_count": 231,
     "metadata": {},
     "output_type": "execute_result"
    }
   ],
   "source": [
    "# Оцінимо продуктивність моделі з використанням крос-валідації\n",
    "scores = cross_val_score(clf, X_train, y_train, cv=10)  # cv=10 - к-ть фолдів (10-ти кратна крос-валідація)\n",
    "scores.mean()  # середнє значення продуктивності"
   ]
  },
  {
   "cell_type": "code",
   "execution_count": 232,
   "id": "0851317c-ea36-40b4-8f9d-33b8fa6a686e",
   "metadata": {},
   "outputs": [],
   "source": [
    "# Оцінимо якість навчання на тестовій вибірці\n",
    "y_pred = clf.predict(X_test)"
   ]
  },
  {
   "cell_type": "code",
   "execution_count": 233,
   "id": "1ff8bbd7-b5ab-4268-abb7-8e047736f15b",
   "metadata": {},
   "outputs": [
    {
     "data": {
      "text/plain": [
       "0.9953584321815369"
      ]
     },
     "execution_count": 233,
     "metadata": {},
     "output_type": "execute_result"
    }
   ],
   "source": [
    "# Порахуємо точність моделі\n",
    "accuracy = accuracy_score(y_test, y_pred)\n",
    "accuracy"
   ]
  },
  {
   "cell_type": "code",
   "execution_count": 234,
   "id": "8e4d3066-e544-4a1b-a365-e9ef4c0fdff4",
   "metadata": {},
   "outputs": [
    {
     "data": {
      "text/plain": [
       "0.9769320714110201"
      ]
     },
     "execution_count": 234,
     "metadata": {},
     "output_type": "execute_result"
    }
   ],
   "source": [
    "from sklearn.metrics import f1_score  # метрика продуктивності моделі\n",
    "f1score = f1_score(y_test, y_pred, average='macro')  # макро-усереднення розрахунку f1-міри\n",
    "f1score"
   ]
  },
  {
   "cell_type": "code",
   "execution_count": 235,
   "id": "6013c65f-3c3b-4b78-913e-29775b58081c",
   "metadata": {},
   "outputs": [],
   "source": [
    "# Створимо ф-ю для підрахунку кількості індексів класів\n",
    "def make_report_forest(y_pred, y_test):\n",
    "\n",
    "    idle_test = 0\n",
    "    walking_test = 0\n",
    "    stairs_test = 0\n",
    "    running_test = 0\n",
    "\n",
    "    for i in y_test:\n",
    "        if i == 0:\n",
    "            idle_test += 1\n",
    "        elif i == 1:\n",
    "            walking_test += 1\n",
    "        elif i == 2:\n",
    "            stairs_test += 1\n",
    "        elif i == 3:\n",
    "            running_test += 1\n",
    "\n",
    "    idle_pred = 0\n",
    "    walking_pred = 0\n",
    "    stairs_pred = 0\n",
    "    running_pred = 0\n",
    "\n",
    "    for i in y_pred:\n",
    "        if i == 0:\n",
    "            idle_pred += 1\n",
    "        elif i == 1:\n",
    "            walking_pred += 1\n",
    "        elif i == 2:\n",
    "            stairs_pred += 1\n",
    "        elif i == 3:\n",
    "            running_pred += 1\n",
    "\n",
    "    print(f'idle test -- {idle_test} pred -- {idle_pred}')\n",
    "    print(f'walking test -- {walking_test} pred -- {walking_pred}')\n",
    "    print(f'stairs test -- {stairs_test} pred -- {stairs_pred}')\n",
    "    print(f'running test -- {running_test} pred -- {running_pred}')"
   ]
  },
  {
   "cell_type": "code",
   "execution_count": 236,
   "id": "d1bdebee-a01a-40d3-adae-227325f0e7de",
   "metadata": {},
   "outputs": [
    {
     "name": "stdout",
     "output_type": "stream",
     "text": [
      "idle test -- 319 pred -- 319\n",
      "walking test -- 547 pred -- 556\n",
      "stairs test -- 58 pred -- 49\n",
      "running test -- 1015 pred -- 1015\n"
     ]
    }
   ],
   "source": [
    "make_report_forest(y_pred, y_test)"
   ]
  },
  {
   "cell_type": "markdown",
   "id": "6cea0022-af13-42c6-9e69-aa52532faab5",
   "metadata": {},
   "source": [
    "### 4.2. RF fft"
   ]
  },
  {
   "cell_type": "code",
   "execution_count": 237,
   "id": "32923ce3-6801-47a9-965b-d4145e02d6bd",
   "metadata": {},
   "outputs": [],
   "source": [
    "from sklearn.model_selection import cross_val_score\n",
    "from sklearn.ensemble import RandomForestClassifier"
   ]
  },
  {
   "cell_type": "code",
   "execution_count": 238,
   "id": "de9769f1-bb67-4aa6-9543-4326053a1551",
   "metadata": {},
   "outputs": [],
   "source": [
    "# Створимо екземпляр RF\n",
    "clf = RandomForestClassifier(n_estimators=15, max_depth=None)\n",
    "# 'n_estimators=15' - кількість \"дерев в лісі\";\n",
    "# 'max_depth=None' - цей параметр визначає максимальну глибину кожного дерева. None означає, що дерева не обмежені по глибині, \n",
    "# і вони будуть будуватися до тих пір, поки кожен лист не міститиме менше, ніж min_samples_split елементів"
   ]
  },
  {
   "cell_type": "code",
   "execution_count": 239,
   "id": "8f15e488-9271-4c3c-a840-b44ae7186ef5",
   "metadata": {},
   "outputs": [],
   "source": [
    "# Завантажимо датасет 'stat_data_Y.pickle'\n",
    "X, Y = open_data_set('fft')\n",
    "\n",
    "# Розіб'ємо завантажені дані на навчальну і тестову частини\n",
    "from sklearn import model_selection\n",
    "X_train, X_test, y_train, y_test = model_selection.train_test_split(X, Y, test_size=0.3)"
   ]
  },
  {
   "cell_type": "code",
   "execution_count": 240,
   "id": "5aed5337-eaaf-468b-9015-cec22973651f",
   "metadata": {},
   "outputs": [],
   "source": [
    "# Навчаємо модель\n",
    "clf = clf.fit(X_train, y_train)"
   ]
  },
  {
   "cell_type": "code",
   "execution_count": 241,
   "id": "2dc3c44b-5f9a-4e16-b329-b1affedbee40",
   "metadata": {},
   "outputs": [
    {
     "data": {
      "text/plain": [
       "0.9812078766922582"
      ]
     },
     "execution_count": 241,
     "metadata": {},
     "output_type": "execute_result"
    }
   ],
   "source": [
    "# Оцінимо продуктивність моделі з використанням крос-валідації\n",
    "scores = cross_val_score(clf, X_train, y_train, cv=10)  # cv=10 - к-ть фолдів (10-ти кратна крос-валідація)\n",
    "scores.mean()  # середнє значення продуктивності"
   ]
  },
  {
   "cell_type": "code",
   "execution_count": 242,
   "id": "920b808c-869a-482b-bbc1-113cb8341dbb",
   "metadata": {},
   "outputs": [],
   "source": [
    "# Оцінимо якість навчання на тестовій вибірці\n",
    "y_pred = clf.predict(X_test)"
   ]
  },
  {
   "cell_type": "code",
   "execution_count": 243,
   "id": "02b0bfe9-be73-4b13-afe4-0bdc7135e6b8",
   "metadata": {},
   "outputs": [
    {
     "data": {
      "text/plain": [
       "0.9716348633316142"
      ]
     },
     "execution_count": 243,
     "metadata": {},
     "output_type": "execute_result"
    }
   ],
   "source": [
    "# Порахуємо точність моделі\n",
    "accuracy = accuracy_score(y_test, y_pred)\n",
    "accuracy"
   ]
  },
  {
   "cell_type": "code",
   "execution_count": 244,
   "id": "02546cb2-23c4-4d0c-80da-348300989b65",
   "metadata": {},
   "outputs": [
    {
     "data": {
      "text/plain": [
       "0.8014993003085495"
      ]
     },
     "execution_count": 244,
     "metadata": {},
     "output_type": "execute_result"
    }
   ],
   "source": [
    "from sklearn.metrics import f1_score  # метрика продуктивності моделі\n",
    "f1score = f1_score(y_test, y_pred, average='macro')  # макро-усереднення розрахунку f1-міри\n",
    "f1score"
   ]
  },
  {
   "cell_type": "code",
   "execution_count": 245,
   "id": "bb945753-3e85-47d3-a382-1de4c68e3a23",
   "metadata": {},
   "outputs": [
    {
     "name": "stdout",
     "output_type": "stream",
     "text": [
      "idle test -- 302 pred -- 300\n",
      "walking test -- 546 pred -- 597\n",
      "stairs test -- 61 pred -- 9\n",
      "running test -- 1030 pred -- 1033\n"
     ]
    }
   ],
   "source": [
    "make_report_forest(y_pred, y_test)"
   ]
  },
  {
   "cell_type": "markdown",
   "id": "6db4d2d4-6ff9-4005-916c-5e93405fd2b6",
   "metadata": {},
   "source": [
    "### 4.3. RF stat+fft"
   ]
  },
  {
   "cell_type": "code",
   "execution_count": 246,
   "id": "cd10f98f-4e79-4f78-81d0-47e0593b2ef0",
   "metadata": {},
   "outputs": [],
   "source": [
    "from sklearn.model_selection import cross_val_score\n",
    "from sklearn.ensemble import RandomForestClassifier"
   ]
  },
  {
   "cell_type": "code",
   "execution_count": 247,
   "id": "e1a8a8a7-ddda-4bc8-a574-c42f85f782ed",
   "metadata": {},
   "outputs": [],
   "source": [
    "# Створимо екземпляр RF\n",
    "clf = RandomForestClassifier(n_estimators=15, max_depth=None)\n",
    "# 'n_estimators=15' - кількість \"дерев в лісі\";\n",
    "# 'max_depth=None' - цей параметр визначає максимальну глибину кожного дерева. None означає, що дерева не обмежені по глибині, \n",
    "# і вони будуть будуватися до тих пір, поки кожен лист не міститиме менше, ніж min_samples_split елементів"
   ]
  },
  {
   "cell_type": "code",
   "execution_count": 248,
   "id": "5a747c9a-164a-4aba-9648-f5090c78c3f0",
   "metadata": {},
   "outputs": [],
   "source": [
    "# Завантажимо датасет 'stat_data_Y.pickle'\n",
    "X, Y = open_data_set('fft_stat')\n",
    "\n",
    "# Розіб'ємо завантажені дані на навчальну і тестову частини\n",
    "from sklearn import model_selection\n",
    "X_train, X_test, y_train, y_test = model_selection.train_test_split(X, Y, test_size=0.3)"
   ]
  },
  {
   "cell_type": "code",
   "execution_count": 249,
   "id": "fbd1035c-177a-42a6-a9c0-5f28fdbe9b29",
   "metadata": {},
   "outputs": [],
   "source": [
    "# Навчаємо модель\n",
    "clf = clf.fit(X_train, y_train)"
   ]
  },
  {
   "cell_type": "code",
   "execution_count": 250,
   "id": "27ab75ed-c80d-49d9-a6b5-2f885b119db4",
   "metadata": {},
   "outputs": [
    {
     "data": {
      "text/plain": [
       "0.9953569126179452"
      ]
     },
     "execution_count": 250,
     "metadata": {},
     "output_type": "execute_result"
    }
   ],
   "source": [
    "# Оцінимо продуктивність моделі з використанням крос-валідації\n",
    "scores = cross_val_score(clf, X_train, y_train, cv=10)  # cv=10 - к-ть фолдів (10-ти кратна крос-валідація)\n",
    "scores.mean()  # середнє значення продуктивності"
   ]
  },
  {
   "cell_type": "code",
   "execution_count": 251,
   "id": "1953793d-6157-4ece-82d3-d9e62363dde8",
   "metadata": {},
   "outputs": [],
   "source": [
    "# Оцінимо якість навчання на тестовій вибірці\n",
    "y_pred = clf.predict(X_test)"
   ]
  },
  {
   "cell_type": "code",
   "execution_count": 252,
   "id": "00774d7e-15e1-4c53-9cb9-fa8060c3cfe2",
   "metadata": {},
   "outputs": [
    {
     "data": {
      "text/plain": [
       "0.9953584321815369"
      ]
     },
     "execution_count": 252,
     "metadata": {},
     "output_type": "execute_result"
    }
   ],
   "source": [
    "# Порахуємо точність моделі\n",
    "accuracy = accuracy_score(y_test, y_pred)\n",
    "accuracy"
   ]
  },
  {
   "cell_type": "code",
   "execution_count": 253,
   "id": "08fb6d72-7053-4222-92e8-47ce12daf586",
   "metadata": {},
   "outputs": [
    {
     "data": {
      "text/plain": [
       "0.9727471466976534"
      ]
     },
     "execution_count": 253,
     "metadata": {},
     "output_type": "execute_result"
    }
   ],
   "source": [
    "from sklearn.metrics import f1_score  # метрика продуктивності моделі\n",
    "f1score = f1_score(y_test, y_pred, average='macro')  # макро-усереднення розрахунку f1-міри\n",
    "f1score"
   ]
  },
  {
   "cell_type": "code",
   "execution_count": 254,
   "id": "5192daff-b14e-43ec-9b2b-ea6b9d006d06",
   "metadata": {},
   "outputs": [
    {
     "name": "stdout",
     "output_type": "stream",
     "text": [
      "idle test -- 311 pred -- 311\n",
      "walking test -- 566 pred -- 575\n",
      "stairs test -- 49 pred -- 40\n",
      "running test -- 1013 pred -- 1013\n"
     ]
    }
   ],
   "source": [
    "make_report_forest(y_pred, y_test)"
   ]
  }
 ],
 "metadata": {
  "kernelspec": {
   "display_name": "Python 3 (ipykernel)",
   "language": "python",
   "name": "python3"
  },
  "language_info": {
   "codemirror_mode": {
    "name": "ipython",
    "version": 3
   },
   "file_extension": ".py",
   "mimetype": "text/x-python",
   "name": "python",
   "nbconvert_exporter": "python",
   "pygments_lexer": "ipython3",
   "version": "3.11.2"
  }
 },
 "nbformat": 4,
 "nbformat_minor": 5
}
