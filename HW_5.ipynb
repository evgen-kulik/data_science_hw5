{
 "cells": [
  {
   "cell_type": "markdown",
   "id": "dcdfb4e8-cdb2-4c74-afeb-92f79093674e",
   "metadata": {},
   "source": [
    "## Домашнє завдання №5\n",
    "## Класифікування активності за даними акселерометра"
   ]
  },
  {
   "cell_type": "markdown",
   "id": "59d6cbc3-364f-4fbb-aa7b-c0df10eb8b09",
   "metadata": {},
   "source": [
    "### 1. Отримання датасету"
   ]
  },
  {
   "cell_type": "code",
   "execution_count": 1,
   "id": "8d51884f-3a29-48dc-8d13-3b1d15861e86",
   "metadata": {},
   "outputs": [],
   "source": [
    "mypath = '.\\data'"
   ]
  },
  {
   "cell_type": "code",
   "execution_count": 2,
   "id": "d972b962-25de-4eba-960b-254264ff9019",
   "metadata": {},
   "outputs": [],
   "source": [
    "from os import listdir\n",
    "from os.path import isfile, join\n",
    "import numpy as np\n",
    "import pandas as pd"
   ]
  },
  {
   "cell_type": "code",
   "execution_count": 3,
   "id": "09fed887-8492-4eea-9927-c4d95c9bc9bb",
   "metadata": {},
   "outputs": [
    {
     "data": {
      "text/plain": [
       "['idle', 'running', 'stairs', 'walking']"
      ]
     },
     "execution_count": 3,
     "metadata": {},
     "output_type": "execute_result"
    }
   ],
   "source": [
    "# отримаємо список підкаталогів в теці \"data\"\n",
    "activites = listdir(mypath)\n",
    "activites"
   ]
  },
  {
   "cell_type": "code",
   "execution_count": 4,
   "id": "a8eb9483-8ae3-4470-919a-3178bbb971ac",
   "metadata": {},
   "outputs": [
    {
     "name": "stdout",
     "output_type": "stream",
     "text": [
      "idle :  1039\n",
      "running :  3408\n",
      "stairs :  165\n",
      "walking :  1850\n"
     ]
    }
   ],
   "source": [
    "# Виведемо кількість файлів в кожній теці активності\n",
    "for act in activites:\n",
    "    path = join(mypath, act)  # створення шляху для активності\n",
    "    frames = listdir(path)  # отримання списку файлів в 'path'\n",
    "    print(act, ': ', len(frames))  # виведення кількості файлів в 'act'"
   ]
  },
  {
   "cell_type": "code",
   "execution_count": 5,
   "id": "0efa056e-4741-42ac-b0f0-37945f52f972",
   "metadata": {},
   "outputs": [
    {
     "data": {
      "text/html": [
       "<div>\n",
       "<style scoped>\n",
       "    .dataframe tbody tr th:only-of-type {\n",
       "        vertical-align: middle;\n",
       "    }\n",
       "\n",
       "    .dataframe tbody tr th {\n",
       "        vertical-align: top;\n",
       "    }\n",
       "\n",
       "    .dataframe thead th {\n",
       "        text-align: right;\n",
       "    }\n",
       "</style>\n",
       "<table border=\"1\" class=\"dataframe\">\n",
       "  <thead>\n",
       "    <tr style=\"text-align: right;\">\n",
       "      <th></th>\n",
       "      <th>accelerometer_X</th>\n",
       "      <th>accelerometer_Y</th>\n",
       "      <th>accelerometer_Z</th>\n",
       "    </tr>\n",
       "  </thead>\n",
       "  <tbody>\n",
       "    <tr>\n",
       "      <th>0</th>\n",
       "      <td>-4.352658</td>\n",
       "      <td>-9.327810</td>\n",
       "      <td>0.713472</td>\n",
       "    </tr>\n",
       "    <tr>\n",
       "      <th>1</th>\n",
       "      <td>-3.955221</td>\n",
       "      <td>-16.496050</td>\n",
       "      <td>3.438074</td>\n",
       "    </tr>\n",
       "    <tr>\n",
       "      <th>2</th>\n",
       "      <td>-2.705448</td>\n",
       "      <td>-7.436390</td>\n",
       "      <td>1.383849</td>\n",
       "    </tr>\n",
       "    <tr>\n",
       "      <th>3</th>\n",
       "      <td>-4.577713</td>\n",
       "      <td>-17.645266</td>\n",
       "      <td>1.944092</td>\n",
       "    </tr>\n",
       "    <tr>\n",
       "      <th>4</th>\n",
       "      <td>7.192182</td>\n",
       "      <td>-25.201366</td>\n",
       "      <td>-16.903065</td>\n",
       "    </tr>\n",
       "    <tr>\n",
       "      <th>5</th>\n",
       "      <td>1.575385</td>\n",
       "      <td>-10.620679</td>\n",
       "      <td>1.589750</td>\n",
       "    </tr>\n",
       "    <tr>\n",
       "      <th>6</th>\n",
       "      <td>-0.028730</td>\n",
       "      <td>-5.425261</td>\n",
       "      <td>0.823605</td>\n",
       "    </tr>\n",
       "    <tr>\n",
       "      <th>7</th>\n",
       "      <td>3.418920</td>\n",
       "      <td>-6.675034</td>\n",
       "      <td>1.158794</td>\n",
       "    </tr>\n",
       "    <tr>\n",
       "      <th>8</th>\n",
       "      <td>1.891419</td>\n",
       "      <td>-11.669339</td>\n",
       "      <td>-1.570596</td>\n",
       "    </tr>\n",
       "    <tr>\n",
       "      <th>9</th>\n",
       "      <td>-1.647211</td>\n",
       "      <td>-5.305551</td>\n",
       "      <td>9.169792</td>\n",
       "    </tr>\n",
       "    <tr>\n",
       "      <th>10</th>\n",
       "      <td>3.399767</td>\n",
       "      <td>-15.586253</td>\n",
       "      <td>-0.804452</td>\n",
       "    </tr>\n",
       "    <tr>\n",
       "      <th>11</th>\n",
       "      <td>4.572925</td>\n",
       "      <td>0.181959</td>\n",
       "      <td>32.599450</td>\n",
       "    </tr>\n",
       "    <tr>\n",
       "      <th>12</th>\n",
       "      <td>5.607220</td>\n",
       "      <td>-13.005303</td>\n",
       "      <td>-0.378284</td>\n",
       "    </tr>\n",
       "    <tr>\n",
       "      <th>13</th>\n",
       "      <td>3.672706</td>\n",
       "      <td>-10.874464</td>\n",
       "      <td>-7.058106</td>\n",
       "    </tr>\n",
       "    <tr>\n",
       "      <th>14</th>\n",
       "      <td>1.939303</td>\n",
       "      <td>-9.097966</td>\n",
       "      <td>-2.782062</td>\n",
       "    </tr>\n",
       "    <tr>\n",
       "      <th>15</th>\n",
       "      <td>-0.344765</td>\n",
       "      <td>-4.161122</td>\n",
       "      <td>1.230620</td>\n",
       "    </tr>\n",
       "    <tr>\n",
       "      <th>16</th>\n",
       "      <td>-0.387861</td>\n",
       "      <td>-9.174581</td>\n",
       "      <td>3.031059</td>\n",
       "    </tr>\n",
       "    <tr>\n",
       "      <th>17</th>\n",
       "      <td>-7.359776</td>\n",
       "      <td>-15.322891</td>\n",
       "      <td>0.852336</td>\n",
       "    </tr>\n",
       "    <tr>\n",
       "      <th>18</th>\n",
       "      <td>11.113884</td>\n",
       "      <td>-19.603724</td>\n",
       "      <td>-3.921702</td>\n",
       "    </tr>\n",
       "    <tr>\n",
       "      <th>19</th>\n",
       "      <td>5.109226</td>\n",
       "      <td>-15.452178</td>\n",
       "      <td>-1.470040</td>\n",
       "    </tr>\n",
       "    <tr>\n",
       "      <th>20</th>\n",
       "      <td>6.373365</td>\n",
       "      <td>-11.741165</td>\n",
       "      <td>-8.226476</td>\n",
       "    </tr>\n",
       "    <tr>\n",
       "      <th>21</th>\n",
       "      <td>3.289633</td>\n",
       "      <td>-9.993398</td>\n",
       "      <td>-0.383072</td>\n",
       "    </tr>\n",
       "    <tr>\n",
       "      <th>22</th>\n",
       "      <td>-2.978387</td>\n",
       "      <td>-3.050213</td>\n",
       "      <td>1.273715</td>\n",
       "    </tr>\n",
       "    <tr>\n",
       "      <th>23</th>\n",
       "      <td>-4.347870</td>\n",
       "      <td>-9.926360</td>\n",
       "      <td>-1.642422</td>\n",
       "    </tr>\n",
       "    <tr>\n",
       "      <th>24</th>\n",
       "      <td>-4.256891</td>\n",
       "      <td>-17.166426</td>\n",
       "      <td>-2.054225</td>\n",
       "    </tr>\n",
       "    <tr>\n",
       "      <th>25</th>\n",
       "      <td>-12.277467</td>\n",
       "      <td>6.435614</td>\n",
       "      <td>2.853889</td>\n",
       "    </tr>\n",
       "    <tr>\n",
       "      <th>26</th>\n",
       "      <td>-7.886500</td>\n",
       "      <td>-16.826450</td>\n",
       "      <td>4.912902</td>\n",
       "    </tr>\n",
       "    <tr>\n",
       "      <th>27</th>\n",
       "      <td>4.137180</td>\n",
       "      <td>-23.673866</td>\n",
       "      <td>-10.807426</td>\n",
       "    </tr>\n",
       "    <tr>\n",
       "      <th>28</th>\n",
       "      <td>2.523489</td>\n",
       "      <td>-10.070012</td>\n",
       "      <td>0.158017</td>\n",
       "    </tr>\n",
       "    <tr>\n",
       "      <th>29</th>\n",
       "      <td>-0.143652</td>\n",
       "      <td>-3.572149</td>\n",
       "      <td>1.862689</td>\n",
       "    </tr>\n",
       "  </tbody>\n",
       "</table>\n",
       "</div>"
      ],
      "text/plain": [
       "    accelerometer_X  accelerometer_Y  accelerometer_Z\n",
       "0         -4.352658        -9.327810         0.713472\n",
       "1         -3.955221       -16.496050         3.438074\n",
       "2         -2.705448        -7.436390         1.383849\n",
       "3         -4.577713       -17.645266         1.944092\n",
       "4          7.192182       -25.201366       -16.903065\n",
       "5          1.575385       -10.620679         1.589750\n",
       "6         -0.028730        -5.425261         0.823605\n",
       "7          3.418920        -6.675034         1.158794\n",
       "8          1.891419       -11.669339        -1.570596\n",
       "9         -1.647211        -5.305551         9.169792\n",
       "10         3.399767       -15.586253        -0.804452\n",
       "11         4.572925         0.181959        32.599450\n",
       "12         5.607220       -13.005303        -0.378284\n",
       "13         3.672706       -10.874464        -7.058106\n",
       "14         1.939303        -9.097966        -2.782062\n",
       "15        -0.344765        -4.161122         1.230620\n",
       "16        -0.387861        -9.174581         3.031059\n",
       "17        -7.359776       -15.322891         0.852336\n",
       "18        11.113884       -19.603724        -3.921702\n",
       "19         5.109226       -15.452178        -1.470040\n",
       "20         6.373365       -11.741165        -8.226476\n",
       "21         3.289633        -9.993398        -0.383072\n",
       "22        -2.978387        -3.050213         1.273715\n",
       "23        -4.347870        -9.926360        -1.642422\n",
       "24        -4.256891       -17.166426        -2.054225\n",
       "25       -12.277467         6.435614         2.853889\n",
       "26        -7.886500       -16.826450         4.912902\n",
       "27         4.137180       -23.673866       -10.807426\n",
       "28         2.523489       -10.070012         0.158017\n",
       "29        -0.143652        -3.572149         1.862689"
      ]
     },
     "execution_count": 5,
     "metadata": {},
     "output_type": "execute_result"
    }
   ],
   "source": [
    "# Виведемо для прикладу зміст шостого файлу з теки 'walking' ('сирі' дані)\n",
    "frames = listdir(join(mypath, 'walking'))\n",
    "frame = pd.read_csv(join(join(mypath, 'walking'),frames[5]))\n",
    "frame  # датасет містить посекундні дані переміщення, кожний рядок - одна секунда"
   ]
  },
  {
   "cell_type": "markdown",
   "id": "e8b73b63-b416-4319-8058-372a32f594e4",
   "metadata": {},
   "source": [
    "## 2. Підготовка даних"
   ]
  },
  {
   "cell_type": "code",
   "execution_count": 6,
   "id": "468bffea-a9b0-40bd-93c2-bf21fae3db1c",
   "metadata": {},
   "outputs": [],
   "source": [
    "# Імпортуємо модуль для оцінювання середньоквадратичної помилки \"mean_squared_error\" та\n",
    "# модуль для обчислення середньої абсолютної помилки \"mean_absolute_error\".\n",
    "# Ці метрики використовують для вимірювання різниці між прогнозованими та фактичними значеннями.\n",
    "from sklearn.metrics import mean_squared_error, mean_absolute_error\n",
    "# Імпортуємо модуль для перетворення Фур'є, тобто він перетворює дані з часової області в частотну.\n",
    "# \"fft\" - для комплексних даних (містять дійсну та уявну частину), \"rfft\" - для дійсних\n",
    "from scipy.fftpack import fft, rfft\n",
    "# Імпортуємо модуль для первинної обробки даних\n",
    "from sklearn import preprocessing"
   ]
  },
  {
   "cell_type": "code",
   "execution_count": 7,
   "id": "e7a4750e-d266-45f9-8b50-7bd6b89946d0",
   "metadata": {},
   "outputs": [
    {
     "data": {
      "text/plain": [
       "39"
      ]
     },
     "execution_count": 7,
     "metadata": {},
     "output_type": "execute_result"
    }
   ],
   "source": [
    "# Створимо список часових ознак для датасету (з лекційного матеріалу)\n",
    "features = [\n",
    "    'skew_X',  # асиметрія розподілу даних\n",
    "    'skew_Y',\n",
    "    'skew_Z',\n",
    "    'kurtosis_X',  # гострота пику розподілу даних\n",
    "    'kurtosis_Y',\n",
    "    'kurtosis_Z',\n",
    "    'max_X',\n",
    "    'max_Y',\n",
    "    'max_Z',\n",
    "    'min_X',\n",
    "    'min_Y',\n",
    "    'min_Z',\n",
    "    'mean_X',\n",
    "    'mean_Y',\n",
    "    'mean_Z',\n",
    "    'std_X',  # стандартне відхилення, що являється мірою розкиду даних\n",
    "    'std_Y',\n",
    "    'std_Z',\n",
    "    'variance_X',  # дисперсія (розкид даних)\n",
    "    'variance_Y',\n",
    "    'variance_Z',\n",
    "    'median_X',\n",
    "    'median_Y',\n",
    "    'median_Z',\n",
    "    'index_max_X',\n",
    "    'index_max_Y',\n",
    "    'index_max_Z',\n",
    "    'index_min_X',\n",
    "    'index_min_Y',\n",
    "    'index_min_Z',\n",
    "    'corelation_X_Y',\n",
    "    'corelation_X_Z',\n",
    "    'corelation_Y_Z',\n",
    "    'mae_X',  # середня абсолютна різниця між значеннями даних та прогнозними значеннями\n",
    "    'mae_Y',\n",
    "    'mae_Z',\n",
    "    'rmse_X',  # середньоквадратична різниця між значеннями даних та прогнозними значеннями\n",
    "    'rmse_Y',\n",
    "    'rmse_Z'\n",
    "    ]\n",
    "\n",
    "len(features)"
   ]
  },
  {
   "cell_type": "code",
   "execution_count": 8,
   "id": "881a7fc6-7fb7-40f2-9abb-b77e5b6bb83a",
   "metadata": {},
   "outputs": [],
   "source": [
    "# Створимо ф-ю, яка рахуватиме всі часові ознаки\n",
    "def get_stat_features(frame):\n",
    "\n",
    "    features = []\n",
    "    features = np.array(features)  # перетворення порожнього списку в массив NumPy\n",
    "    features = np.concatenate((features, frame.skew(axis=0).values), axis=0)\n",
    "    # конкатенація масиву 'features' з масивом ознак, обчислених з використанням методу 'skew' (асиметрія) для DataFrame 'frame'\n",
    "    # 'axis=0' - конкатенація виконується по стовпчикам (по вертикалі)\n",
    "    # '.values' - перетворює результати в массив NumPy\n",
    "    # 'np.concatenate' - додавання стовпців до масиву\n",
    "    features = np.concatenate((features, frame.kurt(axis=0).values), axis=0)\n",
    "    # '.kurt' - kurtosis, розрахунок ексцеса (гострота пику розподілу даних)\n",
    "    features = np.concatenate((features, frame.max(axis=0).values), axis=0)\n",
    "    features = np.concatenate((features, frame.min(axis=0).values), axis=0)\n",
    "    features = np.concatenate((features, frame.mean(axis=0).values), axis=0)\n",
    "    features = np.concatenate((features, frame.std(axis=0).values), axis=0)\n",
    "    features = np.concatenate((features, frame.var(axis=0).values), axis=0)\n",
    "    features = np.concatenate((features, frame.median(axis=0).values), axis=0)\n",
    "    features = np.concatenate((features, frame.idxmax(axis=0).values), axis=0)\n",
    "    features = np.concatenate((features, frame.idxmin(axis=0).values), axis=0)\n",
    "\n",
    "    # створення матриці кореляції для всіх пар колонок\n",
    "    correlations = frame.corr()  # розрахунок коефіцієнтів кореляції для кожної пари колонок\n",
    "    # створення матриці з конкретними значеннями кореляції (на базі матриці \"correlations\")\n",
    "    corr = np.array([\n",
    "        correlations['accelerometer_X']['accelerometer_Y'],\n",
    "        correlations['accelerometer_X']['accelerometer_Z'],\n",
    "        correlations['accelerometer_Y']['accelerometer_Z']\n",
    "    ])\n",
    "\n",
    "    # додамо стовпчики з коефіцієнтами кореляції до матриці features\n",
    "    features = np.concatenate((features, corr), axis=0)\n",
    "\n",
    "    # створення нових колонок у \"frame\"\n",
    "    frame['mean_X'] = frame.mean(axis=0)['accelerometer_X']  # міститиме середнє знач. для даних в колонці 'accelerometer_X'\n",
    "    frame['mean_Y'] = frame.mean(axis=0)['accelerometer_Y']\n",
    "    frame['mean_Z'] = frame.mean(axis=0)['accelerometer_Z']\n",
    "    \n",
    "    # розрахуємо середню абсолютну помилку (MAE) між двома стовпчиками\n",
    "    mae_X = mean_absolute_error(frame['accelerometer_X'], frame['mean_X'])\n",
    "    mae_Y = mean_absolute_error(frame['accelerometer_Y'], frame['mean_Y'])\n",
    "    mae_Z = mean_absolute_error(frame['accelerometer_Z'], frame['mean_Z'])\n",
    "\n",
    "    # розрахуємо корінь середньоквадратичної помилки (RMSE) між двома стовпчиками\n",
    "    rmse_x = np.sqrt(mean_squared_error(frame['accelerometer_X'], frame['mean_X']))\n",
    "    rmse_y = np.sqrt(mean_squared_error(frame['accelerometer_Y'], frame['mean_Y']))\n",
    "    rmse_z = np.sqrt(mean_squared_error(frame['accelerometer_Z'], frame['mean_Z']))\n",
    "\n",
    "    # створення масиву\n",
    "    metrics = np.array([mae_X, mae_Y, mae_Z, rmse_x, rmse_y, rmse_z])\n",
    "    # поєднання масивів\n",
    "    features = np.concatenate((features, metrics), axis=0)\n",
    "\n",
    "    return features"
   ]
  },
  {
   "cell_type": "code",
   "execution_count": 9,
   "id": "2d0dad8b-f890-4dab-9cc1-23e0a4e2e17c",
   "metadata": {},
   "outputs": [
    {
     "data": {
      "text/plain": [
       "39"
      ]
     },
     "execution_count": 9,
     "metadata": {},
     "output_type": "execute_result"
    }
   ],
   "source": [
    "len(get_stat_features(frame))"
   ]
  },
  {
   "cell_type": "code",
   "execution_count": 56,
   "id": "cd244128-f907-4ca6-a45d-bb15f336d4a3",
   "metadata": {},
   "outputs": [],
   "source": [
    "# Створимо ф-ю, яка рахуватиме коефіцієнти швидкого перетворення Фур'є та нормалізуватиме їх\n",
    "def get_fft_features(frame):\n",
    "    \n",
    "    fft_X = np.array(preprocessing.normalize([rfft(frame['accelerometer_X'].values)])[0])\n",
    "    fft_Y = np.array(preprocessing.normalize([rfft(frame['accelerometer_Y'].values)])[0])\n",
    "    fft_Z = np.array(preprocessing.normalize([rfft(frame['accelerometer_Z'].values)])[0])\n",
    "\n",
    "    features = np.concatenate((fft_X, fft_Y), axis=0)\n",
    "    features = np.concatenate((features, fft_Z), axis=0)\n",
    "\n",
    "    return features"
   ]
  },
  {
   "cell_type": "code",
   "execution_count": 11,
   "id": "261241ed-cfe6-47e1-ba2a-f2a97a3e4601",
   "metadata": {},
   "outputs": [
    {
     "data": {
      "text/plain": [
       "90"
      ]
     },
     "execution_count": 11,
     "metadata": {},
     "output_type": "execute_result"
    }
   ],
   "source": [
    "len(get_stat_features(frame))"
   ]
  },
  {
   "cell_type": "markdown",
   "id": "9c1a5812-c368-4831-82b2-8cddf69ff315",
   "metadata": {},
   "source": [
    "#### Перевірка працездатності функціоналу ф-ї get_stat_features (чернетка)"
   ]
  },
  {
   "cell_type": "code",
   "execution_count": 43,
   "id": "d7ec40ea-b60f-4cd7-aa43-06182b2e0a0e",
   "metadata": {},
   "outputs": [
    {
     "data": {
      "text/plain": [
       "accelerometer_X   -0.323847\n",
       "accelerometer_Y    0.162237\n",
       "accelerometer_Z    2.061646\n",
       "mean_X             0.000000\n",
       "mean_Y             0.000000\n",
       "mean_Z             0.000000\n",
       "dtype: float64"
      ]
     },
     "execution_count": 43,
     "metadata": {},
     "output_type": "execute_result"
    }
   ],
   "source": [
    "frame.skew(axis=0)  # розрахунок асиметрії даних для кожного стовпця 'frame'"
   ]
  },
  {
   "cell_type": "code",
   "execution_count": 44,
   "id": "50e1356c-b2c1-4486-af9f-36a42f5ed778",
   "metadata": {},
   "outputs": [
    {
     "data": {
      "text/plain": [
       "accelerometer_X     0.134180\n",
       "accelerometer_Y     0.542627\n",
       "accelerometer_Z    10.326116\n",
       "mean_X              0.000000\n",
       "mean_Y              0.000000\n",
       "mean_Z              0.000000\n",
       "dtype: float64"
      ]
     },
     "execution_count": 44,
     "metadata": {},
     "output_type": "execute_result"
    }
   ],
   "source": [
    "frame.kurt(axis=0)  # розрахунок ексцеса для кожного стовпця 'frame'"
   ]
  },
  {
   "cell_type": "code",
   "execution_count": 45,
   "id": "9475f226-3edd-4984-a01b-baafd77d502e",
   "metadata": {},
   "outputs": [
    {
     "data": {
      "text/plain": [
       "accelerometer_X    11.113884\n",
       "accelerometer_Y     6.435614\n",
       "accelerometer_Z    32.599450\n",
       "mean_X              0.285548\n",
       "mean_Y            -10.916123\n",
       "mean_Z              0.366473\n",
       "dtype: float64"
      ]
     },
     "execution_count": 45,
     "metadata": {},
     "output_type": "execute_result"
    }
   ],
   "source": [
    "frame.max(axis=0)  # розрахунок максимального значення для кожного стовпця 'frame'"
   ]
  },
  {
   "cell_type": "code",
   "execution_count": 46,
   "id": "8a662b85-a648-4836-8b59-ab183506e851",
   "metadata": {},
   "outputs": [
    {
     "data": {
      "text/plain": [
       "accelerometer_X   -12.277467\n",
       "accelerometer_Y   -25.201366\n",
       "accelerometer_Z   -16.903065\n",
       "mean_X              0.285548\n",
       "mean_Y            -10.916123\n",
       "mean_Z              0.366473\n",
       "dtype: float64"
      ]
     },
     "execution_count": 46,
     "metadata": {},
     "output_type": "execute_result"
    }
   ],
   "source": [
    "frame.min(axis=0)  # розрахунок мінімального значення для кожного стовпця 'frame'"
   ]
  },
  {
   "cell_type": "code",
   "execution_count": 47,
   "id": "3557d3a9-63c8-4184-8e63-8caa48a66cc9",
   "metadata": {},
   "outputs": [
    {
     "data": {
      "text/plain": [
       "accelerometer_X     0.285548\n",
       "accelerometer_Y   -10.916123\n",
       "accelerometer_Z     0.366473\n",
       "mean_X              0.285548\n",
       "mean_Y            -10.916123\n",
       "mean_Z              0.366473\n",
       "dtype: float64"
      ]
     },
     "execution_count": 47,
     "metadata": {},
     "output_type": "execute_result"
    }
   ],
   "source": [
    "frame.mean(axis=0)  # розрахунок середнього значення для кожного стовпця 'frame'"
   ]
  },
  {
   "cell_type": "code",
   "execution_count": 48,
   "id": "8dd0caec-93b9-4d5e-838c-133f0b9c3c41",
   "metadata": {},
   "outputs": [
    {
     "data": {
      "text/plain": [
       "accelerometer_X    5.090906e+00\n",
       "accelerometer_Y    6.820465e+00\n",
       "accelerometer_Z    7.811986e+00\n",
       "mean_X             5.646013e-17\n",
       "mean_Y             3.613448e-15\n",
       "mean_Z             1.129203e-16\n",
       "dtype: float64"
      ]
     },
     "execution_count": 48,
     "metadata": {},
     "output_type": "execute_result"
    }
   ],
   "source": [
    "frame.std(axis=0)  # розрахунок стандартного відхилення для кожного стовпця 'frame'"
   ]
  },
  {
   "cell_type": "code",
   "execution_count": 49,
   "id": "90b154d1-49f0-4f19-baaa-1052d3dea896",
   "metadata": {},
   "outputs": [
    {
     "data": {
      "text/plain": [
       "accelerometer_X    2.591732e+01\n",
       "accelerometer_Y    4.651874e+01\n",
       "accelerometer_Z    6.102712e+01\n",
       "mean_X             3.187746e-33\n",
       "mean_Y             1.305701e-29\n",
       "mean_Z             1.275098e-32\n",
       "dtype: float64"
      ]
     },
     "execution_count": 49,
     "metadata": {},
     "output_type": "execute_result"
    }
   ],
   "source": [
    "frame.var(axis=0)  # розрахунок дисперсії (розкид даних) для кожного стовпця 'frame'"
   ]
  },
  {
   "cell_type": "code",
   "execution_count": 50,
   "id": "9201b0cb-596f-4fe9-9fa3-d5f01fab65e0",
   "metadata": {},
   "outputs": [
    {
     "data": {
      "text/plain": [
       "accelerometer_X    18\n",
       "accelerometer_Y    25\n",
       "accelerometer_Z    11\n",
       "mean_X              0\n",
       "mean_Y              0\n",
       "mean_Z              0\n",
       "dtype: int64"
      ]
     },
     "execution_count": 50,
     "metadata": {},
     "output_type": "execute_result"
    }
   ],
   "source": [
    "frame.idxmax(axis=0)  #  індекс першого входження максимального значення для кожного стовпця 'frame'"
   ]
  },
  {
   "cell_type": "code",
   "execution_count": 52,
   "id": "84ce50c0-948d-4b72-a4ef-6065a875960a",
   "metadata": {},
   "outputs": [
    {
     "data": {
      "text/plain": [
       "accelerometer_X    25\n",
       "accelerometer_Y     4\n",
       "accelerometer_Z     4\n",
       "mean_X              0\n",
       "mean_Y              0\n",
       "mean_Z              0\n",
       "dtype: int64"
      ]
     },
     "execution_count": 52,
     "metadata": {},
     "output_type": "execute_result"
    }
   ],
   "source": [
    "frame.idxmin(axis=0)  #  індекс першого входження мінімального значення для кожного стовпця 'frame'"
   ]
  },
  {
   "cell_type": "markdown",
   "id": "1f03ab24-81d1-4482-a73d-00ad5ceb13f1",
   "metadata": {},
   "source": [
    "## 3. Розрахунок ознак (через ф-ї)"
   ]
  },
  {
   "cell_type": "code",
   "execution_count": 55,
   "id": "c6a9ee44-c123-4af1-a8ce-ac9f528db4aa",
   "metadata": {},
   "outputs": [],
   "source": [
    "# Створимо ф-ю, яка виконуватиме підготовку даних\n",
    "def class_data_prepare(class_name, class_number):\n",
    "\n",
    "    path = join(mypath, class_name)  # формування шляху до директорії певного класу\n",
    "    X = []\n",
    "    for item in listdir(path):  # ітерація по файлам в \"path\"\n",
    "        frame = pd.read_csv(join(path, item)) # кожний файл зчитується \n",
    "        frame = frame.values  # масив DataFrame перетворюється в масив NumPy для зручності\n",
    "        frame = frame.flatten()  # масив даних перетворюється на одновимірний масив (flatten)\n",
    "        X.append(frame)  # одновимірний масив додається в список 'X'\n",
    "    y = [class_number]*len(X)  # створення списку однакових значень \"class_number\" довжиною \"len(X)\"\n",
    "    X = np.array(X)  # перетворення списку в масив NumPy\n",
    "    y = np.array(y)  # перетворення списку в масив NumPy\n",
    "    return X, y"
   ]
  },
  {
   "cell_type": "code",
   "execution_count": 57,
   "id": "04ece327-fda1-4e8b-8dc6-0033c01d1733",
   "metadata": {},
   "outputs": [],
   "source": [
    "# Створимо ф-ю, яка виконуватиме підготовку даних\n",
    "def class_data_stat_fft_prepare(class_name, class_number):\n",
    "\n",
    "    path = join(mypath, class_name)  # формування шляху до директорії певного класу\n",
    "    X = []\n",
    "    for item in listdir(path):  # ітерація по файлам в \"path\"\n",
    "        frame = pd.read_csv(join(path, item)) # кожний файл зчитується\n",
    "        features_stat = get_stat_features(frame)  # розрахунок всіх часових ознак\n",
    "        features_fft = get_fft_features(frame)  # розрахунок коефіцієнтsd швидкого перетворення Фур'є та їх нормалізація\n",
    "        features = np.concatenate((features_stat, features_fft), axis=0)\n",
    "        X.append(features)\n",
    "\n",
    "    y = [class_number]*len(X)  # створення списку однакових значень \"class_number\" довжиною \"len(X)\"\n",
    "    X = np.array(X)  # перетворення списку в масив NumPy\n",
    "    y = np.array(y)  # перетворення списку в масив NumPy\n",
    "    return X, y"
   ]
  },
  {
   "cell_type": "code",
   "execution_count": null,
   "id": "9b50797e-6e66-491e-ac58-907ab5ee04f0",
   "metadata": {},
   "outputs": [],
   "source": [
    "# Створимо ф-ю, яка виконуватиме підготовку даних\n",
    "def class_data_fft_prepare(class_name, class_number):\n",
    "\n",
    "    path = join(mypath, class_name)  # формування шляху до директорії певного класу\n",
    "    X = []\n",
    "    for item in listdir(path):  # ітерація по файлам в \"path\"\n",
    "        frame = pd.read_csv(join(path, item)) # кожний файл зчитується\n",
    "        features = get_fft_features(frame)  # розрахунок коефіцієнтsd швидкого перетворення Фур'є та їх нормалізація\n",
    "        X.append(features)\n",
    "\n",
    "    y = [class_number]*len(X)  # створення списку однакових значень \"class_number\" довжиною \"len(X)\"\n",
    "    X = np.array(X)  # перетворення списку в масив NumPy\n",
    "    y = np.array(y)  # перетворення списку в масив NumPy\n",
    "    return X, y"
   ]
  },
  {
   "cell_type": "code",
   "execution_count": 58,
   "id": "2936905c-cf67-41ef-94ff-9e4263bfd3d0",
   "metadata": {},
   "outputs": [],
   "source": [
    "# Створимо ф-ю, яка виконуватиме підготовку даних\n",
    "def class_data_stat_prepare(class_name, class_number):\n",
    "\n",
    "    path = join(mypath, class_name)  # формування шляху до директорії певного класу\n",
    "    X = []\n",
    "    for item in listdir(path):  # ітерація по файлам в \"path\"\n",
    "        frame = pd.read_csv(join(path, item)) # кожний файл зчитується\n",
    "        features_stat = get_stat_features(frame)  # розрахунок всіх часових ознак\n",
    "        features = np.concatenate((features_stat, features_fft), axis=0)\n",
    "        X.append(features)\n",
    "\n",
    "    y = [class_number]*len(X)  # створення списку однакових значень \"class_number\" довжиною \"len(X)\"\n",
    "    X = np.array(X)  # перетворення списку в масив NumPy\n",
    "    y = np.array(y)  # перетворення списку в масив NumPy\n",
    "    return X, y"
   ]
  },
  {
   "cell_type": "code",
   "execution_count": null,
   "id": "1e4cfb7b-1376-4749-9000-75034a71e4c6",
   "metadata": {},
   "outputs": [],
   "source": []
  }
 ],
 "metadata": {
  "kernelspec": {
   "display_name": "Python 3 (ipykernel)",
   "language": "python",
   "name": "python3"
  },
  "language_info": {
   "codemirror_mode": {
    "name": "ipython",
    "version": 3
   },
   "file_extension": ".py",
   "mimetype": "text/x-python",
   "name": "python",
   "nbconvert_exporter": "python",
   "pygments_lexer": "ipython3",
   "version": "3.11.2"
  }
 },
 "nbformat": 4,
 "nbformat_minor": 5
}
